{
 "cells": [
  {
   "cell_type": "markdown",
   "metadata": {},
   "source": [
    "# Capítulo 2 - Um curso intensivo de Python"
   ]
  },
  {
   "cell_type": "markdown",
   "metadata": {},
   "source": [
    "Esse capítulo busca introduzir ao usuário a linguagem Python."
   ]
  },
  {
   "cell_type": "code",
   "execution_count": 300,
   "metadata": {},
   "outputs": [],
   "source": [
    "from collections import defaultdict, Counter\n",
    "from typing import List, Optional, Dict, Iterable, Tuple, Callable\n",
    "import random\n",
    "import re"
   ]
  },
  {
   "cell_type": "markdown",
   "metadata": {},
   "source": [
    "## Formatação e espaço em branco"
   ]
  },
  {
   "cell_type": "code",
   "execution_count": 196,
   "metadata": {},
   "outputs": [
    {
     "name": "stdout",
     "output_type": "stream",
     "text": [
      "1\n",
      "1\n",
      "2\n",
      "2\n",
      "3\n",
      "3\n",
      "4\n",
      "4\n",
      "5\n",
      "5\n",
      "6\n",
      "1\n",
      "2\n",
      "1\n",
      "3\n",
      "2\n",
      "4\n",
      "3\n",
      "5\n",
      "4\n",
      "6\n",
      "5\n",
      "7\n",
      "2\n",
      "3\n",
      "1\n",
      "4\n",
      "2\n",
      "5\n",
      "3\n",
      "6\n",
      "4\n",
      "7\n",
      "5\n",
      "8\n",
      "3\n",
      "4\n",
      "1\n",
      "5\n",
      "2\n",
      "6\n",
      "3\n",
      "7\n",
      "4\n",
      "8\n",
      "5\n",
      "9\n",
      "4\n",
      "5\n",
      "1\n",
      "6\n",
      "2\n",
      "7\n",
      "3\n",
      "8\n",
      "4\n",
      "9\n",
      "5\n",
      "10\n",
      "5\n",
      "Concluído\n"
     ]
    }
   ],
   "source": [
    "for i in [1, 2, 3, 4, 5]:\n",
    "    print(i)\n",
    "    for j in [1, 2, 3, 4, 5]:\n",
    "        print(j)\n",
    "        print(i + j)\n",
    "    print(i)\n",
    "print(\"Concluído\")"
   ]
  },
  {
   "cell_type": "code",
   "execution_count": 197,
   "metadata": {},
   "outputs": [
    {
     "data": {
      "text/plain": [
       "210"
      ]
     },
     "execution_count": 197,
     "metadata": {},
     "output_type": "execute_result"
    }
   ],
   "source": [
    "calculo_longo = (1 + 2 + 3 + 4 + 5 + 6 + 7 + 8 + 9 + 10 + 11 + 12 + 13 + 14 + 15 + 16 + 17 + 18 + 19 + 20)\n",
    "calculo_longo"
   ]
  },
  {
   "cell_type": "code",
   "execution_count": 198,
   "metadata": {},
   "outputs": [],
   "source": [
    "lista_de_lista = [[1, 2, 3],\n",
    "                  [4, 5, 6],\n",
    "                  [7, 8, 9]]"
   ]
  },
  {
   "cell_type": "markdown",
   "metadata": {},
   "source": [
    "## Módulos"
   ]
  },
  {
   "cell_type": "code",
   "execution_count": 199,
   "metadata": {},
   "outputs": [],
   "source": [
    "import re\n",
    "my_regex = re.compile(\"[0-9]+\", re.I)"
   ]
  },
  {
   "cell_type": "code",
   "execution_count": 200,
   "metadata": {},
   "outputs": [],
   "source": [
    "lookup = defaultdict(int)\n",
    "my_counter = Counter()"
   ]
  },
  {
   "cell_type": "code",
   "execution_count": 201,
   "metadata": {},
   "outputs": [
    {
     "name": "stdout",
     "output_type": "stream",
     "text": [
      "<function match at 0x7f7dc4bac8b0>\n"
     ]
    }
   ],
   "source": [
    "match = 10\n",
    "from re import *\n",
    "print(match)"
   ]
  },
  {
   "cell_type": "markdown",
   "metadata": {},
   "source": [
    "## Funções"
   ]
  },
  {
   "cell_type": "code",
   "execution_count": 202,
   "metadata": {},
   "outputs": [],
   "source": [
    "def double(x):\n",
    "    return x * 2\n",
    "\n",
    "def apply_to_one(f):\n",
    "    return f(1)"
   ]
  },
  {
   "cell_type": "code",
   "execution_count": 203,
   "metadata": {},
   "outputs": [
    {
     "name": "stdout",
     "output_type": "stream",
     "text": [
      "2\n",
      "5\n"
     ]
    }
   ],
   "source": [
    "my_double = double\n",
    "x = apply_to_one(my_double)\n",
    "y = apply_to_one(lambda x: x + 4)\n",
    "print(x)\n",
    "print(y)"
   ]
  },
  {
   "cell_type": "code",
   "execution_count": 204,
   "metadata": {},
   "outputs": [
    {
     "name": "stdout",
     "output_type": "stream",
     "text": [
      "Hello\n",
      "My default message\n"
     ]
    }
   ],
   "source": [
    "def another_double(x):\n",
    "    return 2 * x\n",
    "\n",
    "def my_print(message = \"My default message\"):\n",
    "    print(message)\n",
    "\n",
    "my_print(\"Hello\")\n",
    "my_print()"
   ]
  },
  {
   "cell_type": "code",
   "execution_count": 205,
   "metadata": {},
   "outputs": [
    {
     "name": "stdout",
     "output_type": "stream",
     "text": [
      "Joel Grus\n",
      "Joel something\n",
      "What's-his-name Grus\n"
     ]
    }
   ],
   "source": [
    "def full_name(first = \"What's-his-name\", last = \"something\"):\n",
    "    return first + \" \" + last\n",
    "\n",
    "print(full_name(\"Joel\", \"Grus\"))\n",
    "print(full_name(\"Joel\"))\n",
    "print(full_name(last = \"Grus\"))"
   ]
  },
  {
   "cell_type": "markdown",
   "metadata": {},
   "source": [
    "## Strings"
   ]
  },
  {
   "cell_type": "code",
   "execution_count": 206,
   "metadata": {},
   "outputs": [
    {
     "data": {
      "text/plain": [
       "1"
      ]
     },
     "execution_count": 206,
     "metadata": {},
     "output_type": "execute_result"
    }
   ],
   "source": [
    "single_quoted_string = 'data science'\n",
    "double_quoted_string = \"data science\"\n",
    "\n",
    "tab_string = \"\\t\"\n",
    "len(tab_string)"
   ]
  },
  {
   "cell_type": "code",
   "execution_count": 207,
   "metadata": {},
   "outputs": [
    {
     "data": {
      "text/plain": [
       "'\\\\t'"
      ]
     },
     "execution_count": 207,
     "metadata": {},
     "output_type": "execute_result"
    }
   ],
   "source": [
    "not_tab_string = r\"\\t\"\n",
    "not_tab_string"
   ]
  },
  {
   "cell_type": "code",
   "execution_count": 208,
   "metadata": {},
   "outputs": [
    {
     "data": {
      "text/plain": [
       "'\"Esta é\\numa string\\ncomposta por\\nvárias linhas'"
      ]
     },
     "execution_count": 208,
     "metadata": {},
     "output_type": "execute_result"
    }
   ],
   "source": [
    "multi_len_string = \"\"\"\"Esta é\n",
    "uma string\n",
    "composta por\n",
    "várias linhas\"\"\"\n",
    "\n",
    "multi_len_string"
   ]
  },
  {
   "cell_type": "code",
   "execution_count": 209,
   "metadata": {},
   "outputs": [
    {
     "name": "stdout",
     "output_type": "stream",
     "text": [
      "Joel Gaus \n",
      " Joel Gaus \n",
      " Joel Gaus\n"
     ]
    }
   ],
   "source": [
    "first_name = \"Joel\"\n",
    "last_name = \"Gaus\"\n",
    "full_name_1 = first_name + \" \" + last_name\n",
    "full_name_2 = \"{0} {1}\".format(first_name, last_name)\n",
    "full_name_3 = f\"{first_name} {last_name}\"\n",
    "print(full_name_1, \"\\n\", full_name_2, \"\\n\", full_name_3)"
   ]
  },
  {
   "cell_type": "markdown",
   "metadata": {},
   "source": [
    "## Exceções"
   ]
  },
  {
   "cell_type": "code",
   "execution_count": 210,
   "metadata": {},
   "outputs": [
    {
     "name": "stdout",
     "output_type": "stream",
     "text": [
      "Cannot divide by zero\n"
     ]
    }
   ],
   "source": [
    "try:\n",
    "    print(0 / 0)\n",
    "except ZeroDivisionError:\n",
    "    print(\"Cannot divide by zero\")"
   ]
  },
  {
   "cell_type": "markdown",
   "metadata": {},
   "source": [
    "## Listas"
   ]
  },
  {
   "cell_type": "code",
   "execution_count": 211,
   "metadata": {},
   "outputs": [
    {
     "name": "stdout",
     "output_type": "stream",
     "text": [
      "3 6\n"
     ]
    }
   ],
   "source": [
    "integer_list = [1, 2, 3]\n",
    "heterogeneous_list = [\"string\", 0.1, True]\n",
    "list_of_lists = [integer_list, heterogeneous_list, []]\n",
    "\n",
    "list_length = len(integer_list)\n",
    "list_sum = sum(integer_list)\n",
    "\n",
    "print(list_length, list_sum)"
   ]
  },
  {
   "cell_type": "code",
   "execution_count": 212,
   "metadata": {},
   "outputs": [
    {
     "name": "stdout",
     "output_type": "stream",
     "text": [
      "0 1 9 8 [-1, 1, 2, 3, 4, 5, 6, 7, 8, 9]\n"
     ]
    }
   ],
   "source": [
    "x = [0, 1, 2, 3, 4, 5, 6, 7, 8, 9]\n",
    "zero = x[0]\n",
    "one = x[1]\n",
    "nine = x[-1]\n",
    "eight = x[-2]\n",
    "x[0] = -1\n",
    "\n",
    "print(zero, one, nine, eight, x)"
   ]
  },
  {
   "cell_type": "code",
   "execution_count": 213,
   "metadata": {},
   "outputs": [
    {
     "name": "stdout",
     "output_type": "stream",
     "text": [
      "[-1, 1, 2] \n",
      " [3, 4, 5, 6, 7, 8, 9] \n",
      " [1, 2, 3, 4] \n",
      " [7, 8, 9] \n",
      " [1, 2, 3, 4, 5, 6, 7, 8] \n",
      " [-1, 1, 2, 3, 4, 5, 6, 7, 8, 9]\n"
     ]
    }
   ],
   "source": [
    "first_three = x[:3]\n",
    "three_to_end = x[3:]\n",
    "one_to_four = x[1:5]\n",
    "last_three = x[-3:]\n",
    "without_first_and_last = x[1:-1]\n",
    "copy_of_x = x[:]\n",
    "\n",
    "print(first_three, \"\\n\", three_to_end, \"\\n\", one_to_four, \"\\n\", last_three, \"\\n\", without_first_and_last, \"\\n\", copy_of_x)"
   ]
  },
  {
   "cell_type": "code",
   "execution_count": 214,
   "metadata": {},
   "outputs": [
    {
     "name": "stdout",
     "output_type": "stream",
     "text": [
      "[-1, 3, 6, 9] [5, 4, 3]\n"
     ]
    }
   ],
   "source": [
    "every_third = x[::3]\n",
    "five_to_three = x[5:2:-1]\n",
    "\n",
    "print(every_third, five_to_three)"
   ]
  },
  {
   "cell_type": "code",
   "execution_count": 215,
   "metadata": {},
   "outputs": [
    {
     "data": {
      "text/plain": [
       "True"
      ]
     },
     "execution_count": 215,
     "metadata": {},
     "output_type": "execute_result"
    }
   ],
   "source": [
    "1 in [1, 2, 3]"
   ]
  },
  {
   "cell_type": "code",
   "execution_count": 216,
   "metadata": {},
   "outputs": [
    {
     "data": {
      "text/plain": [
       "False"
      ]
     },
     "execution_count": 216,
     "metadata": {},
     "output_type": "execute_result"
    }
   ],
   "source": [
    "0 in [1, 2, 3]"
   ]
  },
  {
   "cell_type": "code",
   "execution_count": 217,
   "metadata": {},
   "outputs": [
    {
     "data": {
      "text/plain": [
       "[1, 2, 3, 4, 5, 6]"
      ]
     },
     "execution_count": 217,
     "metadata": {},
     "output_type": "execute_result"
    }
   ],
   "source": [
    "x = [1, 2, 3]\n",
    "x.extend([4, 5, 6])\n",
    "x"
   ]
  },
  {
   "cell_type": "code",
   "execution_count": 218,
   "metadata": {},
   "outputs": [
    {
     "name": "stdout",
     "output_type": "stream",
     "text": [
      "[1, 2, 3] [1, 2, 3, 4, 5, 6]\n"
     ]
    }
   ],
   "source": [
    "x = [1, 2, 3]\n",
    "y = x + ([4, 5, 6])\n",
    "print(x, y)"
   ]
  },
  {
   "cell_type": "code",
   "execution_count": 219,
   "metadata": {},
   "outputs": [
    {
     "name": "stdout",
     "output_type": "stream",
     "text": [
      "[1, 2, 3, 0] 0 4\n"
     ]
    }
   ],
   "source": [
    "x = [1, 2, 3]\n",
    "x.append(0)\n",
    "y = x[-1]\n",
    "z = len(x)\n",
    "print(x, y, z)"
   ]
  },
  {
   "cell_type": "code",
   "execution_count": 220,
   "metadata": {},
   "outputs": [
    {
     "name": "stdout",
     "output_type": "stream",
     "text": [
      "1 2 4\n"
     ]
    }
   ],
   "source": [
    "x, y = [1, 2]\n",
    "_, z = [3, 4]\n",
    "\n",
    "print(x, y, z)"
   ]
  },
  {
   "cell_type": "markdown",
   "metadata": {},
   "source": [
    "## Tuplas"
   ]
  },
  {
   "cell_type": "code",
   "execution_count": 221,
   "metadata": {},
   "outputs": [
    {
     "name": "stdout",
     "output_type": "stream",
     "text": [
      "Cannot modify a tuple\n"
     ]
    }
   ],
   "source": [
    "my_list = [1, 2]\n",
    "my_tuple = (1, 2)\n",
    "other_tuple = 3, 4\n",
    "my_list[1] = 3\n",
    "\n",
    "try:\n",
    "    my_tuple[1] = 3\n",
    "except TypeError:\n",
    "    print(\"Cannot modify a tuple\")"
   ]
  },
  {
   "cell_type": "code",
   "execution_count": 222,
   "metadata": {},
   "outputs": [
    {
     "name": "stdout",
     "output_type": "stream",
     "text": [
      "(5, 6) 15 50\n"
     ]
    }
   ],
   "source": [
    "def sum_and_product(x, y):\n",
    "    return (x + y), (x * y)\n",
    "\n",
    "sp = sum_and_product(2, 3)\n",
    "s, p = sum_and_product(5, 10)\n",
    "\n",
    "print(sp, s, p)"
   ]
  },
  {
   "cell_type": "code",
   "execution_count": 223,
   "metadata": {},
   "outputs": [
    {
     "name": "stdout",
     "output_type": "stream",
     "text": [
      "2 1\n"
     ]
    }
   ],
   "source": [
    "x, y = (1, 2)\n",
    "x, y = y, x\n",
    "print(x, y)"
   ]
  },
  {
   "cell_type": "markdown",
   "metadata": {},
   "source": [
    "## Dicionários"
   ]
  },
  {
   "cell_type": "code",
   "execution_count": 224,
   "metadata": {},
   "outputs": [],
   "source": [
    "empty_dict = {}\n",
    "empty_dict_2 = dict()\n",
    "grades = {\"Joel\" : 80, \"Tim\" : 95}\n",
    "joels_grade = grades[\"Joel\"]"
   ]
  },
  {
   "cell_type": "code",
   "execution_count": 225,
   "metadata": {},
   "outputs": [
    {
     "name": "stdout",
     "output_type": "stream",
     "text": [
      "No grade for Kate!\n"
     ]
    }
   ],
   "source": [
    "try:\n",
    "    kater_grade = grades['Kate']\n",
    "except KeyError:\n",
    "    print(\"No grade for Kate!\")"
   ]
  },
  {
   "cell_type": "code",
   "execution_count": 226,
   "metadata": {},
   "outputs": [
    {
     "name": "stdout",
     "output_type": "stream",
     "text": [
      "True False\n"
     ]
    }
   ],
   "source": [
    "joel_has_grade = \"Joel\" in grades\n",
    "kate_has_grade = \"Kate\" in grades\n",
    "print(joel_has_grade, kate_has_grade)"
   ]
  },
  {
   "cell_type": "code",
   "execution_count": 227,
   "metadata": {},
   "outputs": [
    {
     "name": "stdout",
     "output_type": "stream",
     "text": [
      "80 0 None\n"
     ]
    }
   ],
   "source": [
    "joels_grade = grades.get(\"Joel\", 0)\n",
    "kates_grade = grades.get(\"Kate\", 0)\n",
    "no_ones_grade = grades.get(\"No One\")\n",
    "\n",
    "print(joels_grade, kates_grade, no_ones_grade)"
   ]
  },
  {
   "cell_type": "code",
   "execution_count": 228,
   "metadata": {},
   "outputs": [
    {
     "name": "stdout",
     "output_type": "stream",
     "text": [
      "{'Joel': 80, 'Tim': 99, 'Kate': 100} 3\n"
     ]
    }
   ],
   "source": [
    "grades['Tim'] = 99\n",
    "grades['Kate'] = 100\n",
    "num_students = len(grades)\n",
    "\n",
    "print(grades, num_students)"
   ]
  },
  {
   "cell_type": "code",
   "execution_count": 229,
   "metadata": {},
   "outputs": [
    {
     "name": "stdout",
     "output_type": "stream",
     "text": [
      "dict_keys(['user', 'text', 'retweet_counts', 'hashtags']) dict_values(['joelgrus', 'Data science é top', 100, ['#data', '#science']]) dict_items([('user', 'joelgrus'), ('text', 'Data science é top'), ('retweet_counts', 100), ('hashtags', ['#data', '#science'])])\n"
     ]
    }
   ],
   "source": [
    "tweet = {\n",
    "    \"user\" : \"joelgrus\",\n",
    "    \"text\" : \"Data science é top\",\n",
    "    \"retweet_counts\" : 100,\n",
    "    \"hashtags\" : ['#data', '#science']\n",
    "}\n",
    "\n",
    "tweet_keys = tweet.keys()\n",
    "tweet_values = tweet.values()\n",
    "tweet_items = tweet.items()\n",
    "\n",
    "print(tweet_keys, tweet_values, tweet_items)"
   ]
  },
  {
   "cell_type": "code",
   "execution_count": 230,
   "metadata": {},
   "outputs": [
    {
     "name": "stdout",
     "output_type": "stream",
     "text": [
      "True True True\n"
     ]
    }
   ],
   "source": [
    "print(\"user\" in tweet_keys, \"user\" in tweet, \"joelgrus\" in tweet_values)"
   ]
  },
  {
   "cell_type": "markdown",
   "metadata": {},
   "source": [
    "## defaultdict"
   ]
  },
  {
   "cell_type": "code",
   "execution_count": 231,
   "metadata": {},
   "outputs": [
    {
     "data": {
      "text/plain": [
       "{'Lorem': 1,\n",
       " 'ipsum': 2,\n",
       " 'dolor': 1,\n",
       " 'sit': 1,\n",
       " 'amet,': 1,\n",
       " 'consectetur': 1,\n",
       " 'adipiscing': 1,\n",
       " 'elit.': 1,\n",
       " 'Proin': 1,\n",
       " 'sodales': 4,\n",
       " 'convallis': 1,\n",
       " 'quam': 1,\n",
       " 'eleifend': 1,\n",
       " 'hendrerit.': 1,\n",
       " 'In': 1,\n",
       " 'mollis': 1,\n",
       " 'imperdiet': 1,\n",
       " 'diam': 3,\n",
       " 'vitae': 3,\n",
       " 'dapibus.': 1,\n",
       " 'Curabitur': 1,\n",
       " 'ut': 1,\n",
       " 'tincidunt': 3,\n",
       " 'ipsum.': 1,\n",
       " 'Etiam': 2,\n",
       " 'lobortis': 1,\n",
       " 'odio': 3,\n",
       " 'viverra': 2,\n",
       " 'dui': 3,\n",
       " 'iaculis,': 1,\n",
       " 'et': 2,\n",
       " 'venenatis': 2,\n",
       " 'risus': 1,\n",
       " 'semper.': 1,\n",
       " 'Sed': 4,\n",
       " 'a': 1,\n",
       " 'suscipit': 1,\n",
       " 'mi.': 1,\n",
       " 'nec': 1,\n",
       " 'ante': 1,\n",
       " 'sagittis': 2,\n",
       " 'ultricies.': 1,\n",
       " 'Vivamus': 1,\n",
       " 'aliquam': 2,\n",
       " 'varius': 1,\n",
       " 'massa,': 1,\n",
       " 'ornare': 1,\n",
       " 'fringilla': 1,\n",
       " 'sapien': 1,\n",
       " 'sed.': 1,\n",
       " 'Nunc': 1,\n",
       " 'sagittis,': 1,\n",
       " 'urna': 1,\n",
       " 'euismod': 2,\n",
       " 'varius,': 1,\n",
       " 'posuere': 2,\n",
       " 'mauris,': 2,\n",
       " 'massa': 1,\n",
       " 'vel': 2,\n",
       " 'orci.': 1,\n",
       " 'volutpat': 1,\n",
       " 'tempus': 3,\n",
       " 'tortor': 1,\n",
       " 'quis': 1,\n",
       " 'dignissim.': 1,\n",
       " 'Nulla': 1,\n",
       " 'tristique': 1,\n",
       " 'id': 2,\n",
       " 'nisl': 1,\n",
       " 'vel,': 1,\n",
       " 'accumsan': 1,\n",
       " 'quam.': 1,\n",
       " 'non': 3,\n",
       " 'leo': 1,\n",
       " 'lacus.': 1,\n",
       " 'Cras': 1,\n",
       " 'dolor,': 1,\n",
       " 'eros': 1,\n",
       " 'iaculis': 1,\n",
       " 'nec.': 1,\n",
       " 'Mauris': 1,\n",
       " 'nibh': 1,\n",
       " 'vestibulum': 1,\n",
       " 'tristique.': 1,\n",
       " 'Ut': 1,\n",
       " 'ac': 1,\n",
       " 'libero': 1,\n",
       " 'commodo,': 1,\n",
       " 'dapibus': 1,\n",
       " 'sem': 1,\n",
       " 'euismod.': 1,\n",
       " 'luctus': 1,\n",
       " 'lacus,': 1,\n",
       " 'metus': 1,\n",
       " 'eget.': 1,\n",
       " 'Nam': 1,\n",
       " 'commodo': 1,\n",
       " 'aliquam.': 1}"
      ]
     },
     "execution_count": 231,
     "metadata": {},
     "output_type": "execute_result"
    }
   ],
   "source": [
    "document = \"Lorem ipsum dolor sit amet, consectetur adipiscing elit. Proin sodales convallis quam eleifend hendrerit. In mollis imperdiet diam vitae dapibus. Curabitur ut tincidunt ipsum. Etiam lobortis odio viverra dui iaculis, et venenatis risus semper. Sed a suscipit mi. Sed nec dui et ante sagittis ultricies. Vivamus aliquam varius massa, ornare fringilla sapien venenatis sed. Nunc sagittis, urna euismod sodales varius, dui diam posuere mauris, vitae euismod odio massa vel orci. Sed volutpat tempus tortor quis dignissim. Nulla diam mauris, tristique id nisl vel, accumsan sagittis quam. Sed non leo lacus. Cras tincidunt tincidunt dolor, id tempus eros iaculis nec. Mauris tempus nibh non vestibulum tristique. Ut sodales ipsum ac libero commodo, vitae dapibus sem euismod. Etiam luctus aliquam lacus, non posuere metus viverra eget. Nam commodo sodales odio vel aliquam.\"\n",
    "\n",
    "words_count = {}\n",
    "for word in document.split(\" \"):\n",
    "    if word in words_count:\n",
    "        words_count[word] += 1\n",
    "    else:\n",
    "        words_count[word] = 1\n",
    "\n",
    "words_count"
   ]
  },
  {
   "cell_type": "code",
   "execution_count": 232,
   "metadata": {},
   "outputs": [
    {
     "data": {
      "text/plain": [
       "{'Lorem': 1,\n",
       " 'ipsum': 2,\n",
       " 'dolor': 1,\n",
       " 'sit': 1,\n",
       " 'amet,': 1,\n",
       " 'consectetur': 1,\n",
       " 'adipiscing': 1,\n",
       " 'elit.': 1,\n",
       " 'Proin': 1,\n",
       " 'sodales': 4,\n",
       " 'convallis': 1,\n",
       " 'quam': 1,\n",
       " 'eleifend': 1,\n",
       " 'hendrerit.': 1,\n",
       " 'In': 1,\n",
       " 'mollis': 1,\n",
       " 'imperdiet': 1,\n",
       " 'diam': 3,\n",
       " 'vitae': 3,\n",
       " 'dapibus.': 1,\n",
       " 'Curabitur': 1,\n",
       " 'ut': 1,\n",
       " 'tincidunt': 3,\n",
       " 'ipsum.': 1,\n",
       " 'Etiam': 2,\n",
       " 'lobortis': 1,\n",
       " 'odio': 3,\n",
       " 'viverra': 2,\n",
       " 'dui': 3,\n",
       " 'iaculis,': 1,\n",
       " 'et': 2,\n",
       " 'venenatis': 2,\n",
       " 'risus': 1,\n",
       " 'semper.': 1,\n",
       " 'Sed': 4,\n",
       " 'a': 1,\n",
       " 'suscipit': 1,\n",
       " 'mi.': 1,\n",
       " 'nec': 1,\n",
       " 'ante': 1,\n",
       " 'sagittis': 2,\n",
       " 'ultricies.': 1,\n",
       " 'Vivamus': 1,\n",
       " 'aliquam': 2,\n",
       " 'varius': 1,\n",
       " 'massa,': 1,\n",
       " 'ornare': 1,\n",
       " 'fringilla': 1,\n",
       " 'sapien': 1,\n",
       " 'sed.': 1,\n",
       " 'Nunc': 1,\n",
       " 'sagittis,': 1,\n",
       " 'urna': 1,\n",
       " 'euismod': 2,\n",
       " 'varius,': 1,\n",
       " 'posuere': 2,\n",
       " 'mauris,': 2,\n",
       " 'massa': 1,\n",
       " 'vel': 2,\n",
       " 'orci.': 1,\n",
       " 'volutpat': 1,\n",
       " 'tempus': 3,\n",
       " 'tortor': 1,\n",
       " 'quis': 1,\n",
       " 'dignissim.': 1,\n",
       " 'Nulla': 1,\n",
       " 'tristique': 1,\n",
       " 'id': 2,\n",
       " 'nisl': 1,\n",
       " 'vel,': 1,\n",
       " 'accumsan': 1,\n",
       " 'quam.': 1,\n",
       " 'non': 3,\n",
       " 'leo': 1,\n",
       " 'lacus.': 1,\n",
       " 'Cras': 1,\n",
       " 'dolor,': 1,\n",
       " 'eros': 1,\n",
       " 'iaculis': 1,\n",
       " 'nec.': 1,\n",
       " 'Mauris': 1,\n",
       " 'nibh': 1,\n",
       " 'vestibulum': 1,\n",
       " 'tristique.': 1,\n",
       " 'Ut': 1,\n",
       " 'ac': 1,\n",
       " 'libero': 1,\n",
       " 'commodo,': 1,\n",
       " 'dapibus': 1,\n",
       " 'sem': 1,\n",
       " 'euismod.': 1,\n",
       " 'luctus': 1,\n",
       " 'lacus,': 1,\n",
       " 'metus': 1,\n",
       " 'eget.': 1,\n",
       " 'Nam': 1,\n",
       " 'commodo': 1,\n",
       " 'aliquam.': 1}"
      ]
     },
     "execution_count": 232,
     "metadata": {},
     "output_type": "execute_result"
    }
   ],
   "source": [
    "words_count = {}\n",
    "for word in document.split(\" \"):\n",
    "    try:\n",
    "        words_count[word] += 1\n",
    "    except KeyError:\n",
    "        words_count[word] = 1\n",
    "\n",
    "words_count"
   ]
  },
  {
   "cell_type": "code",
   "execution_count": 233,
   "metadata": {},
   "outputs": [
    {
     "data": {
      "text/plain": [
       "{'Lorem': 1,\n",
       " 'ipsum': 2,\n",
       " 'dolor': 1,\n",
       " 'sit': 1,\n",
       " 'amet,': 1,\n",
       " 'consectetur': 1,\n",
       " 'adipiscing': 1,\n",
       " 'elit.': 1,\n",
       " 'Proin': 1,\n",
       " 'sodales': 4,\n",
       " 'convallis': 1,\n",
       " 'quam': 1,\n",
       " 'eleifend': 1,\n",
       " 'hendrerit.': 1,\n",
       " 'In': 1,\n",
       " 'mollis': 1,\n",
       " 'imperdiet': 1,\n",
       " 'diam': 3,\n",
       " 'vitae': 3,\n",
       " 'dapibus.': 1,\n",
       " 'Curabitur': 1,\n",
       " 'ut': 1,\n",
       " 'tincidunt': 3,\n",
       " 'ipsum.': 1,\n",
       " 'Etiam': 2,\n",
       " 'lobortis': 1,\n",
       " 'odio': 3,\n",
       " 'viverra': 2,\n",
       " 'dui': 3,\n",
       " 'iaculis,': 1,\n",
       " 'et': 2,\n",
       " 'venenatis': 2,\n",
       " 'risus': 1,\n",
       " 'semper.': 1,\n",
       " 'Sed': 4,\n",
       " 'a': 1,\n",
       " 'suscipit': 1,\n",
       " 'mi.': 1,\n",
       " 'nec': 1,\n",
       " 'ante': 1,\n",
       " 'sagittis': 2,\n",
       " 'ultricies.': 1,\n",
       " 'Vivamus': 1,\n",
       " 'aliquam': 2,\n",
       " 'varius': 1,\n",
       " 'massa,': 1,\n",
       " 'ornare': 1,\n",
       " 'fringilla': 1,\n",
       " 'sapien': 1,\n",
       " 'sed.': 1,\n",
       " 'Nunc': 1,\n",
       " 'sagittis,': 1,\n",
       " 'urna': 1,\n",
       " 'euismod': 2,\n",
       " 'varius,': 1,\n",
       " 'posuere': 2,\n",
       " 'mauris,': 2,\n",
       " 'massa': 1,\n",
       " 'vel': 2,\n",
       " 'orci.': 1,\n",
       " 'volutpat': 1,\n",
       " 'tempus': 3,\n",
       " 'tortor': 1,\n",
       " 'quis': 1,\n",
       " 'dignissim.': 1,\n",
       " 'Nulla': 1,\n",
       " 'tristique': 1,\n",
       " 'id': 2,\n",
       " 'nisl': 1,\n",
       " 'vel,': 1,\n",
       " 'accumsan': 1,\n",
       " 'quam.': 1,\n",
       " 'non': 3,\n",
       " 'leo': 1,\n",
       " 'lacus.': 1,\n",
       " 'Cras': 1,\n",
       " 'dolor,': 1,\n",
       " 'eros': 1,\n",
       " 'iaculis': 1,\n",
       " 'nec.': 1,\n",
       " 'Mauris': 1,\n",
       " 'nibh': 1,\n",
       " 'vestibulum': 1,\n",
       " 'tristique.': 1,\n",
       " 'Ut': 1,\n",
       " 'ac': 1,\n",
       " 'libero': 1,\n",
       " 'commodo,': 1,\n",
       " 'dapibus': 1,\n",
       " 'sem': 1,\n",
       " 'euismod.': 1,\n",
       " 'luctus': 1,\n",
       " 'lacus,': 1,\n",
       " 'metus': 1,\n",
       " 'eget.': 1,\n",
       " 'Nam': 1,\n",
       " 'commodo': 1,\n",
       " 'aliquam.': 1}"
      ]
     },
     "execution_count": 233,
     "metadata": {},
     "output_type": "execute_result"
    }
   ],
   "source": [
    "words_count = {}\n",
    "for word in document.split(\" \"):\n",
    "    previous_count = words_count.get(word, 0)\n",
    "    words_count[word] = previous_count + 1\n",
    "\n",
    "words_count"
   ]
  },
  {
   "cell_type": "code",
   "execution_count": 234,
   "metadata": {},
   "outputs": [
    {
     "data": {
      "text/plain": [
       "defaultdict(int,\n",
       "            {'Lorem': 1,\n",
       "             'ipsum': 2,\n",
       "             'dolor': 1,\n",
       "             'sit': 1,\n",
       "             'amet,': 1,\n",
       "             'consectetur': 1,\n",
       "             'adipiscing': 1,\n",
       "             'elit.': 1,\n",
       "             'Proin': 1,\n",
       "             'sodales': 4,\n",
       "             'convallis': 1,\n",
       "             'quam': 1,\n",
       "             'eleifend': 1,\n",
       "             'hendrerit.': 1,\n",
       "             'In': 1,\n",
       "             'mollis': 1,\n",
       "             'imperdiet': 1,\n",
       "             'diam': 3,\n",
       "             'vitae': 3,\n",
       "             'dapibus.': 1,\n",
       "             'Curabitur': 1,\n",
       "             'ut': 1,\n",
       "             'tincidunt': 3,\n",
       "             'ipsum.': 1,\n",
       "             'Etiam': 2,\n",
       "             'lobortis': 1,\n",
       "             'odio': 3,\n",
       "             'viverra': 2,\n",
       "             'dui': 3,\n",
       "             'iaculis,': 1,\n",
       "             'et': 2,\n",
       "             'venenatis': 2,\n",
       "             'risus': 1,\n",
       "             'semper.': 1,\n",
       "             'Sed': 4,\n",
       "             'a': 1,\n",
       "             'suscipit': 1,\n",
       "             'mi.': 1,\n",
       "             'nec': 1,\n",
       "             'ante': 1,\n",
       "             'sagittis': 2,\n",
       "             'ultricies.': 1,\n",
       "             'Vivamus': 1,\n",
       "             'aliquam': 2,\n",
       "             'varius': 1,\n",
       "             'massa,': 1,\n",
       "             'ornare': 1,\n",
       "             'fringilla': 1,\n",
       "             'sapien': 1,\n",
       "             'sed.': 1,\n",
       "             'Nunc': 1,\n",
       "             'sagittis,': 1,\n",
       "             'urna': 1,\n",
       "             'euismod': 2,\n",
       "             'varius,': 1,\n",
       "             'posuere': 2,\n",
       "             'mauris,': 2,\n",
       "             'massa': 1,\n",
       "             'vel': 2,\n",
       "             'orci.': 1,\n",
       "             'volutpat': 1,\n",
       "             'tempus': 3,\n",
       "             'tortor': 1,\n",
       "             'quis': 1,\n",
       "             'dignissim.': 1,\n",
       "             'Nulla': 1,\n",
       "             'tristique': 1,\n",
       "             'id': 2,\n",
       "             'nisl': 1,\n",
       "             'vel,': 1,\n",
       "             'accumsan': 1,\n",
       "             'quam.': 1,\n",
       "             'non': 3,\n",
       "             'leo': 1,\n",
       "             'lacus.': 1,\n",
       "             'Cras': 1,\n",
       "             'dolor,': 1,\n",
       "             'eros': 1,\n",
       "             'iaculis': 1,\n",
       "             'nec.': 1,\n",
       "             'Mauris': 1,\n",
       "             'nibh': 1,\n",
       "             'vestibulum': 1,\n",
       "             'tristique.': 1,\n",
       "             'Ut': 1,\n",
       "             'ac': 1,\n",
       "             'libero': 1,\n",
       "             'commodo,': 1,\n",
       "             'dapibus': 1,\n",
       "             'sem': 1,\n",
       "             'euismod.': 1,\n",
       "             'luctus': 1,\n",
       "             'lacus,': 1,\n",
       "             'metus': 1,\n",
       "             'eget.': 1,\n",
       "             'Nam': 1,\n",
       "             'commodo': 1,\n",
       "             'aliquam.': 1})"
      ]
     },
     "execution_count": 234,
     "metadata": {},
     "output_type": "execute_result"
    }
   ],
   "source": [
    "words_count = defaultdict(int)\n",
    "for word in document.split(\" \"):\n",
    "    words_count[word] += 1\n",
    "\n",
    "words_count"
   ]
  },
  {
   "cell_type": "code",
   "execution_count": 235,
   "metadata": {},
   "outputs": [],
   "source": [
    "dd_list = defaultdict(list)\n",
    "dd_list[2].append(1)\n",
    "\n",
    "dd_dict = defaultdict(dict)\n",
    "dd_dict['Joel']['City'] = \"Seattle\"\n",
    "\n",
    "dd_pair = defaultdict(lambda: [0, 0])\n",
    "dd_pair[2][1] = 1"
   ]
  },
  {
   "cell_type": "markdown",
   "metadata": {},
   "source": [
    "## Contadores"
   ]
  },
  {
   "cell_type": "code",
   "execution_count": 236,
   "metadata": {},
   "outputs": [
    {
     "data": {
      "text/plain": [
       "Counter({0: 2, 1: 1, 2: 1})"
      ]
     },
     "execution_count": 236,
     "metadata": {},
     "output_type": "execute_result"
    }
   ],
   "source": [
    "c = Counter([0, 1, 2, 0])\n",
    "c"
   ]
  },
  {
   "cell_type": "code",
   "execution_count": 237,
   "metadata": {},
   "outputs": [
    {
     "data": {
      "text/plain": [
       "Counter({'sodales': 4,\n",
       "         'Sed': 4,\n",
       "         'diam': 3,\n",
       "         'vitae': 3,\n",
       "         'tincidunt': 3,\n",
       "         'odio': 3,\n",
       "         'dui': 3,\n",
       "         'tempus': 3,\n",
       "         'non': 3,\n",
       "         'ipsum': 2,\n",
       "         'Etiam': 2,\n",
       "         'viverra': 2,\n",
       "         'et': 2,\n",
       "         'venenatis': 2,\n",
       "         'sagittis': 2,\n",
       "         'aliquam': 2,\n",
       "         'euismod': 2,\n",
       "         'posuere': 2,\n",
       "         'mauris,': 2,\n",
       "         'vel': 2,\n",
       "         'id': 2,\n",
       "         'Lorem': 1,\n",
       "         'dolor': 1,\n",
       "         'sit': 1,\n",
       "         'amet,': 1,\n",
       "         'consectetur': 1,\n",
       "         'adipiscing': 1,\n",
       "         'elit.': 1,\n",
       "         'Proin': 1,\n",
       "         'convallis': 1,\n",
       "         'quam': 1,\n",
       "         'eleifend': 1,\n",
       "         'hendrerit.': 1,\n",
       "         'In': 1,\n",
       "         'mollis': 1,\n",
       "         'imperdiet': 1,\n",
       "         'dapibus.': 1,\n",
       "         'Curabitur': 1,\n",
       "         'ut': 1,\n",
       "         'ipsum.': 1,\n",
       "         'lobortis': 1,\n",
       "         'iaculis,': 1,\n",
       "         'risus': 1,\n",
       "         'semper.': 1,\n",
       "         'a': 1,\n",
       "         'suscipit': 1,\n",
       "         'mi.': 1,\n",
       "         'nec': 1,\n",
       "         'ante': 1,\n",
       "         'ultricies.': 1,\n",
       "         'Vivamus': 1,\n",
       "         'varius': 1,\n",
       "         'massa,': 1,\n",
       "         'ornare': 1,\n",
       "         'fringilla': 1,\n",
       "         'sapien': 1,\n",
       "         'sed.': 1,\n",
       "         'Nunc': 1,\n",
       "         'sagittis,': 1,\n",
       "         'urna': 1,\n",
       "         'varius,': 1,\n",
       "         'massa': 1,\n",
       "         'orci.': 1,\n",
       "         'volutpat': 1,\n",
       "         'tortor': 1,\n",
       "         'quis': 1,\n",
       "         'dignissim.': 1,\n",
       "         'Nulla': 1,\n",
       "         'tristique': 1,\n",
       "         'nisl': 1,\n",
       "         'vel,': 1,\n",
       "         'accumsan': 1,\n",
       "         'quam.': 1,\n",
       "         'leo': 1,\n",
       "         'lacus.': 1,\n",
       "         'Cras': 1,\n",
       "         'dolor,': 1,\n",
       "         'eros': 1,\n",
       "         'iaculis': 1,\n",
       "         'nec.': 1,\n",
       "         'Mauris': 1,\n",
       "         'nibh': 1,\n",
       "         'vestibulum': 1,\n",
       "         'tristique.': 1,\n",
       "         'Ut': 1,\n",
       "         'ac': 1,\n",
       "         'libero': 1,\n",
       "         'commodo,': 1,\n",
       "         'dapibus': 1,\n",
       "         'sem': 1,\n",
       "         'euismod.': 1,\n",
       "         'luctus': 1,\n",
       "         'lacus,': 1,\n",
       "         'metus': 1,\n",
       "         'eget.': 1,\n",
       "         'Nam': 1,\n",
       "         'commodo': 1,\n",
       "         'aliquam.': 1})"
      ]
     },
     "execution_count": 237,
     "metadata": {},
     "output_type": "execute_result"
    }
   ],
   "source": [
    "words_count = Counter(document.split(\" \"))\n",
    "words_count"
   ]
  },
  {
   "cell_type": "code",
   "execution_count": 238,
   "metadata": {},
   "outputs": [
    {
     "name": "stdout",
     "output_type": "stream",
     "text": [
      "sodales 4\n",
      "Sed 4\n",
      "diam 3\n",
      "vitae 3\n",
      "tincidunt 3\n",
      "odio 3\n",
      "dui 3\n",
      "tempus 3\n",
      "non 3\n",
      "ipsum 2\n"
     ]
    }
   ],
   "source": [
    "for word, count in words_count.most_common(10):\n",
    "    print(word, count)"
   ]
  },
  {
   "cell_type": "markdown",
   "metadata": {},
   "source": [
    "## Conjuntos"
   ]
  },
  {
   "cell_type": "code",
   "execution_count": 239,
   "metadata": {},
   "outputs": [
    {
     "name": "stdout",
     "output_type": "stream",
     "text": [
      "{2, 3, 5, 7} {1, 2} 2 True False\n"
     ]
    }
   ],
   "source": [
    "primes_below_10 = {2, 3, 5, 7}\n",
    "\n",
    "s = set()\n",
    "s.add(1)\n",
    "s.add(2)\n",
    "s.add(2)\n",
    "x = len(s)\n",
    "y = 2 in s\n",
    "z = 3 in s\n",
    "\n",
    "print(primes_below_10, s, x, y, z)"
   ]
  },
  {
   "cell_type": "code",
   "execution_count": 240,
   "metadata": {},
   "outputs": [
    {
     "name": "stdout",
     "output_type": "stream",
     "text": [
      "False False\n"
     ]
    }
   ],
   "source": [
    "stopword_list = ['a', 'an', 'at']\n",
    "stopword_set = set(stopword_list)\n",
    "print('zip' in stopword_list, 'zip' in stopword_set)"
   ]
  },
  {
   "cell_type": "markdown",
   "metadata": {},
   "source": [
    "## Fluxo de controle"
   ]
  },
  {
   "cell_type": "code",
   "execution_count": 241,
   "metadata": {},
   "outputs": [
    {
     "name": "stdout",
     "output_type": "stream",
     "text": [
      "when all else fails use else\n"
     ]
    }
   ],
   "source": [
    "if 1 > 2:\n",
    "    message = \"If only 1 were greater than 2...\"\n",
    "elif 1 > 3:\n",
    "    message = \"elif stands for else if\"\n",
    "else:\n",
    "    message = \"when all else fails use else\"\n",
    "\n",
    "print(message)"
   ]
  },
  {
   "cell_type": "code",
   "execution_count": 242,
   "metadata": {},
   "outputs": [
    {
     "name": "stdout",
     "output_type": "stream",
     "text": [
      "even\n"
     ]
    }
   ],
   "source": [
    "parity = \"even\" if x % 2 == 0 else \"odd\"\n",
    "print(parity)"
   ]
  },
  {
   "cell_type": "code",
   "execution_count": 243,
   "metadata": {},
   "outputs": [
    {
     "name": "stdout",
     "output_type": "stream",
     "text": [
      "0 is less than 10\n",
      "1 is less than 10\n",
      "2 is less than 10\n",
      "3 is less than 10\n",
      "4 is less than 10\n",
      "5 is less than 10\n",
      "6 is less than 10\n",
      "7 is less than 10\n",
      "8 is less than 10\n",
      "9 is less than 10\n"
     ]
    }
   ],
   "source": [
    "x = 0\n",
    "while x < 10:\n",
    "    print(f\"{x} is less than 10\")\n",
    "    x += 1"
   ]
  },
  {
   "cell_type": "code",
   "execution_count": 244,
   "metadata": {},
   "outputs": [
    {
     "name": "stdout",
     "output_type": "stream",
     "text": [
      "0 is less than 10\n",
      "1 is less than 10\n",
      "2 is less than 10\n",
      "3 is less than 10\n",
      "4 is less than 10\n",
      "5 is less than 10\n",
      "6 is less than 10\n",
      "7 is less than 10\n",
      "8 is less than 10\n",
      "9 is less than 10\n"
     ]
    }
   ],
   "source": [
    "for x in range(10):\n",
    "    print(f\"{x} is less than 10\")"
   ]
  },
  {
   "cell_type": "code",
   "execution_count": 245,
   "metadata": {},
   "outputs": [
    {
     "name": "stdout",
     "output_type": "stream",
     "text": [
      "0\n",
      "1\n",
      "2\n",
      "4\n"
     ]
    }
   ],
   "source": [
    "for x in range(10):\n",
    "    if x == 3:\n",
    "        continue\n",
    "    if x == 5:\n",
    "        break\n",
    "    print(x)"
   ]
  },
  {
   "cell_type": "markdown",
   "metadata": {},
   "source": [
    "## Veracidade"
   ]
  },
  {
   "cell_type": "code",
   "execution_count": 246,
   "metadata": {},
   "outputs": [
    {
     "name": "stdout",
     "output_type": "stream",
     "text": [
      "True False\n"
     ]
    }
   ],
   "source": [
    "one_is_less_than_two = 1 < 2\n",
    "true_equals_false = False == True\n",
    "print(one_is_less_than_two, true_equals_false)"
   ]
  },
  {
   "cell_type": "code",
   "execution_count": 247,
   "metadata": {},
   "outputs": [],
   "source": [
    "x = None\n",
    "assert x == None\n",
    "assert x is None"
   ]
  },
  {
   "cell_type": "code",
   "execution_count": 248,
   "metadata": {},
   "outputs": [
    {
     "name": "stdout",
     "output_type": "stream",
     "text": [
      "A\n"
     ]
    }
   ],
   "source": [
    "def some_function_that_returns_a_string():\n",
    "    return \"A string\"\n",
    "\n",
    "s = some_function_that_returns_a_string()\n",
    "\n",
    "if s:\n",
    "    first_char = s[0]\n",
    "else:\n",
    "    first_char = \"\"\n",
    "\n",
    "print(first_char)"
   ]
  },
  {
   "cell_type": "code",
   "execution_count": 249,
   "metadata": {},
   "outputs": [
    {
     "name": "stdout",
     "output_type": "stream",
     "text": [
      "A\n"
     ]
    }
   ],
   "source": [
    "first_char = s and s[0]\n",
    "print(first_char)"
   ]
  },
  {
   "cell_type": "code",
   "execution_count": 250,
   "metadata": {},
   "outputs": [
    {
     "name": "stdout",
     "output_type": "stream",
     "text": [
      "0\n"
     ]
    }
   ],
   "source": [
    "safe_x = x or 0\n",
    "print(safe_x)"
   ]
  },
  {
   "cell_type": "code",
   "execution_count": 251,
   "metadata": {},
   "outputs": [
    {
     "data": {
      "text/plain": [
       "0"
      ]
     },
     "execution_count": 251,
     "metadata": {},
     "output_type": "execute_result"
    }
   ],
   "source": [
    "safe_x = x if x is not None else 0\n",
    "safe_x"
   ]
  },
  {
   "cell_type": "code",
   "execution_count": 252,
   "metadata": {},
   "outputs": [
    {
     "name": "stdout",
     "output_type": "stream",
     "text": [
      "True\n",
      "False\n",
      "True\n",
      "True\n",
      "False\n"
     ]
    }
   ],
   "source": [
    "print(all([True, 1, {3}]))\n",
    "print(all([True, 1, []]))\n",
    "print(any([True, 1, []]))\n",
    "print(all([]))\n",
    "print(any([]))"
   ]
  },
  {
   "cell_type": "markdown",
   "metadata": {},
   "source": [
    "## Classificação"
   ]
  },
  {
   "cell_type": "code",
   "execution_count": 253,
   "metadata": {},
   "outputs": [
    {
     "data": {
      "text/plain": [
       "[1, 2, 3, 4]"
      ]
     },
     "execution_count": 253,
     "metadata": {},
     "output_type": "execute_result"
    }
   ],
   "source": [
    "x = [4, 1, 2, 3]\n",
    "y = sorted(x)\n",
    "x.sort()\n",
    "x"
   ]
  },
  {
   "cell_type": "code",
   "execution_count": 254,
   "metadata": {},
   "outputs": [
    {
     "data": {
      "text/plain": [
       "[-4, 3, -2, 1]"
      ]
     },
     "execution_count": 254,
     "metadata": {},
     "output_type": "execute_result"
    }
   ],
   "source": [
    "x = sorted([-4, 1, -2, 3], key = abs, reverse = True)\n",
    "x"
   ]
  },
  {
   "cell_type": "code",
   "execution_count": 255,
   "metadata": {},
   "outputs": [
    {
     "data": {
      "text/plain": [
       "[('sodales', 4),\n",
       " ('Sed', 4),\n",
       " ('diam', 3),\n",
       " ('vitae', 3),\n",
       " ('tincidunt', 3),\n",
       " ('odio', 3),\n",
       " ('dui', 3),\n",
       " ('tempus', 3),\n",
       " ('non', 3),\n",
       " ('ipsum', 2),\n",
       " ('Etiam', 2),\n",
       " ('viverra', 2),\n",
       " ('et', 2),\n",
       " ('venenatis', 2),\n",
       " ('sagittis', 2),\n",
       " ('aliquam', 2),\n",
       " ('euismod', 2),\n",
       " ('posuere', 2),\n",
       " ('mauris,', 2),\n",
       " ('vel', 2),\n",
       " ('id', 2),\n",
       " ('Lorem', 1),\n",
       " ('dolor', 1),\n",
       " ('sit', 1),\n",
       " ('amet,', 1),\n",
       " ('consectetur', 1),\n",
       " ('adipiscing', 1),\n",
       " ('elit.', 1),\n",
       " ('Proin', 1),\n",
       " ('convallis', 1),\n",
       " ('quam', 1),\n",
       " ('eleifend', 1),\n",
       " ('hendrerit.', 1),\n",
       " ('In', 1),\n",
       " ('mollis', 1),\n",
       " ('imperdiet', 1),\n",
       " ('dapibus.', 1),\n",
       " ('Curabitur', 1),\n",
       " ('ut', 1),\n",
       " ('ipsum.', 1),\n",
       " ('lobortis', 1),\n",
       " ('iaculis,', 1),\n",
       " ('risus', 1),\n",
       " ('semper.', 1),\n",
       " ('a', 1),\n",
       " ('suscipit', 1),\n",
       " ('mi.', 1),\n",
       " ('nec', 1),\n",
       " ('ante', 1),\n",
       " ('ultricies.', 1),\n",
       " ('Vivamus', 1),\n",
       " ('varius', 1),\n",
       " ('massa,', 1),\n",
       " ('ornare', 1),\n",
       " ('fringilla', 1),\n",
       " ('sapien', 1),\n",
       " ('sed.', 1),\n",
       " ('Nunc', 1),\n",
       " ('sagittis,', 1),\n",
       " ('urna', 1),\n",
       " ('varius,', 1),\n",
       " ('massa', 1),\n",
       " ('orci.', 1),\n",
       " ('volutpat', 1),\n",
       " ('tortor', 1),\n",
       " ('quis', 1),\n",
       " ('dignissim.', 1),\n",
       " ('Nulla', 1),\n",
       " ('tristique', 1),\n",
       " ('nisl', 1),\n",
       " ('vel,', 1),\n",
       " ('accumsan', 1),\n",
       " ('quam.', 1),\n",
       " ('leo', 1),\n",
       " ('lacus.', 1),\n",
       " ('Cras', 1),\n",
       " ('dolor,', 1),\n",
       " ('eros', 1),\n",
       " ('iaculis', 1),\n",
       " ('nec.', 1),\n",
       " ('Mauris', 1),\n",
       " ('nibh', 1),\n",
       " ('vestibulum', 1),\n",
       " ('tristique.', 1),\n",
       " ('Ut', 1),\n",
       " ('ac', 1),\n",
       " ('libero', 1),\n",
       " ('commodo,', 1),\n",
       " ('dapibus', 1),\n",
       " ('sem', 1),\n",
       " ('euismod.', 1),\n",
       " ('luctus', 1),\n",
       " ('lacus,', 1),\n",
       " ('metus', 1),\n",
       " ('eget.', 1),\n",
       " ('Nam', 1),\n",
       " ('commodo', 1),\n",
       " ('aliquam.', 1)]"
      ]
     },
     "execution_count": 255,
     "metadata": {},
     "output_type": "execute_result"
    }
   ],
   "source": [
    "wc = sorted(words_count.items(),\n",
    "            key = lambda word_and_count: word_and_count[1],\n",
    "            reverse = True)\n",
    "wc"
   ]
  },
  {
   "cell_type": "markdown",
   "metadata": {},
   "source": [
    "## List comprehension"
   ]
  },
  {
   "cell_type": "code",
   "execution_count": 256,
   "metadata": {},
   "outputs": [
    {
     "data": {
      "text/plain": [
       "[0, 2, 4]"
      ]
     },
     "execution_count": 256,
     "metadata": {},
     "output_type": "execute_result"
    }
   ],
   "source": [
    "even_numbers = [x for x in range(5) if x % 2 == 0]\n",
    "even_numbers"
   ]
  },
  {
   "cell_type": "code",
   "execution_count": 257,
   "metadata": {},
   "outputs": [
    {
     "data": {
      "text/plain": [
       "[0, 1, 4, 9, 16]"
      ]
     },
     "execution_count": 257,
     "metadata": {},
     "output_type": "execute_result"
    }
   ],
   "source": [
    "squares = [x * x for x in range(5)]\n",
    "squares"
   ]
  },
  {
   "cell_type": "code",
   "execution_count": 258,
   "metadata": {},
   "outputs": [
    {
     "data": {
      "text/plain": [
       "[0, 4, 16]"
      ]
     },
     "execution_count": 258,
     "metadata": {},
     "output_type": "execute_result"
    }
   ],
   "source": [
    "even_squares = [x * x for x in even_numbers]\n",
    "even_squares"
   ]
  },
  {
   "cell_type": "code",
   "execution_count": 259,
   "metadata": {},
   "outputs": [
    {
     "data": {
      "text/plain": [
       "{0: 0, 1: 1, 2: 4, 3: 9, 4: 16}"
      ]
     },
     "execution_count": 259,
     "metadata": {},
     "output_type": "execute_result"
    }
   ],
   "source": [
    "square_dicts = {x : x * x for x in range(5)}\n",
    "square_dicts"
   ]
  },
  {
   "cell_type": "code",
   "execution_count": 260,
   "metadata": {},
   "outputs": [
    {
     "data": {
      "text/plain": [
       "{1}"
      ]
     },
     "execution_count": 260,
     "metadata": {},
     "output_type": "execute_result"
    }
   ],
   "source": [
    "square_set = {x * x for x in [1, -1]}\n",
    "square_set"
   ]
  },
  {
   "cell_type": "code",
   "execution_count": 261,
   "metadata": {},
   "outputs": [
    {
     "data": {
      "text/plain": [
       "[0, 0, 0]"
      ]
     },
     "execution_count": 261,
     "metadata": {},
     "output_type": "execute_result"
    }
   ],
   "source": [
    "zeros = [0 for _ in even_numbers]\n",
    "zeros"
   ]
  },
  {
   "cell_type": "code",
   "execution_count": 262,
   "metadata": {},
   "outputs": [
    {
     "data": {
      "text/plain": [
       "[(0, 0),\n",
       " (0, 1),\n",
       " (0, 2),\n",
       " (0, 3),\n",
       " (0, 4),\n",
       " (0, 5),\n",
       " (0, 6),\n",
       " (0, 7),\n",
       " (0, 8),\n",
       " (0, 9),\n",
       " (1, 0),\n",
       " (1, 1),\n",
       " (1, 2),\n",
       " (1, 3),\n",
       " (1, 4),\n",
       " (1, 5),\n",
       " (1, 6),\n",
       " (1, 7),\n",
       " (1, 8),\n",
       " (1, 9),\n",
       " (2, 0),\n",
       " (2, 1),\n",
       " (2, 2),\n",
       " (2, 3),\n",
       " (2, 4),\n",
       " (2, 5),\n",
       " (2, 6),\n",
       " (2, 7),\n",
       " (2, 8),\n",
       " (2, 9),\n",
       " (3, 0),\n",
       " (3, 1),\n",
       " (3, 2),\n",
       " (3, 3),\n",
       " (3, 4),\n",
       " (3, 5),\n",
       " (3, 6),\n",
       " (3, 7),\n",
       " (3, 8),\n",
       " (3, 9),\n",
       " (4, 0),\n",
       " (4, 1),\n",
       " (4, 2),\n",
       " (4, 3),\n",
       " (4, 4),\n",
       " (4, 5),\n",
       " (4, 6),\n",
       " (4, 7),\n",
       " (4, 8),\n",
       " (4, 9),\n",
       " (5, 0),\n",
       " (5, 1),\n",
       " (5, 2),\n",
       " (5, 3),\n",
       " (5, 4),\n",
       " (5, 5),\n",
       " (5, 6),\n",
       " (5, 7),\n",
       " (5, 8),\n",
       " (5, 9),\n",
       " (6, 0),\n",
       " (6, 1),\n",
       " (6, 2),\n",
       " (6, 3),\n",
       " (6, 4),\n",
       " (6, 5),\n",
       " (6, 6),\n",
       " (6, 7),\n",
       " (6, 8),\n",
       " (6, 9),\n",
       " (7, 0),\n",
       " (7, 1),\n",
       " (7, 2),\n",
       " (7, 3),\n",
       " (7, 4),\n",
       " (7, 5),\n",
       " (7, 6),\n",
       " (7, 7),\n",
       " (7, 8),\n",
       " (7, 9),\n",
       " (8, 0),\n",
       " (8, 1),\n",
       " (8, 2),\n",
       " (8, 3),\n",
       " (8, 4),\n",
       " (8, 5),\n",
       " (8, 6),\n",
       " (8, 7),\n",
       " (8, 8),\n",
       " (8, 9),\n",
       " (9, 0),\n",
       " (9, 1),\n",
       " (9, 2),\n",
       " (9, 3),\n",
       " (9, 4),\n",
       " (9, 5),\n",
       " (9, 6),\n",
       " (9, 7),\n",
       " (9, 8),\n",
       " (9, 9)]"
      ]
     },
     "execution_count": 262,
     "metadata": {},
     "output_type": "execute_result"
    }
   ],
   "source": [
    "pairs = [(x, y) \n",
    "        for x in range(10)\n",
    "        for y in range(10)]\n",
    "pairs"
   ]
  },
  {
   "cell_type": "code",
   "execution_count": 263,
   "metadata": {},
   "outputs": [
    {
     "data": {
      "text/plain": [
       "[(0, 1),\n",
       " (0, 2),\n",
       " (0, 3),\n",
       " (0, 4),\n",
       " (0, 5),\n",
       " (0, 6),\n",
       " (0, 7),\n",
       " (0, 8),\n",
       " (0, 9),\n",
       " (1, 2),\n",
       " (1, 3),\n",
       " (1, 4),\n",
       " (1, 5),\n",
       " (1, 6),\n",
       " (1, 7),\n",
       " (1, 8),\n",
       " (1, 9),\n",
       " (2, 3),\n",
       " (2, 4),\n",
       " (2, 5),\n",
       " (2, 6),\n",
       " (2, 7),\n",
       " (2, 8),\n",
       " (2, 9),\n",
       " (3, 4),\n",
       " (3, 5),\n",
       " (3, 6),\n",
       " (3, 7),\n",
       " (3, 8),\n",
       " (3, 9),\n",
       " (4, 5),\n",
       " (4, 6),\n",
       " (4, 7),\n",
       " (4, 8),\n",
       " (4, 9),\n",
       " (5, 6),\n",
       " (5, 7),\n",
       " (5, 8),\n",
       " (5, 9),\n",
       " (6, 7),\n",
       " (6, 8),\n",
       " (6, 9),\n",
       " (7, 8),\n",
       " (7, 9),\n",
       " (8, 9)]"
      ]
     },
     "execution_count": 263,
     "metadata": {},
     "output_type": "execute_result"
    }
   ],
   "source": [
    "increasing_pairs = [(x, y)\n",
    "                    for x in range(10)\n",
    "                    for y in range(x + 1, 10)]\n",
    "increasing_pairs"
   ]
  },
  {
   "cell_type": "markdown",
   "metadata": {},
   "source": [
    "## Testes automatizados e asserção"
   ]
  },
  {
   "cell_type": "code",
   "execution_count": 264,
   "metadata": {},
   "outputs": [],
   "source": [
    "assert 1 + 1 == 2\n",
    "assert 1 + 1 == 2, \"1 + 1 should be equal 2, but didn't\""
   ]
  },
  {
   "cell_type": "code",
   "execution_count": 265,
   "metadata": {},
   "outputs": [],
   "source": [
    "def smallest_item(xs):\n",
    "    return min(xs)\n",
    "\n",
    "assert smallest_item([10, 20, 5, 40]) == 5\n",
    "assert smallest_item([1, 0, -1, 2]) == -1"
   ]
  },
  {
   "cell_type": "code",
   "execution_count": 266,
   "metadata": {},
   "outputs": [],
   "source": [
    "def smallest_item(xs):\n",
    "    assert xs, \"empty list has no smallest item\"\n",
    "    return min(xs)"
   ]
  },
  {
   "cell_type": "markdown",
   "metadata": {},
   "source": [
    "## Programação orientada a objetos"
   ]
  },
  {
   "cell_type": "code",
   "execution_count": 267,
   "metadata": {},
   "outputs": [],
   "source": [
    "class CountingClicker:\n",
    "    \n",
    "    def _init_(self, count = 0):\n",
    "        self.count = count\n",
    "\n",
    "    def _repr_(self):\n",
    "        return f\"CountingClicker(count = {self.count})\"\n",
    "    \n",
    "    def click(self, num_times = 1):\n",
    "        self.count += num_times\n",
    "    \n",
    "    def read(self):\n",
    "        return self.count\n",
    "    \n",
    "    def reset(self):\n",
    "        self.count = 0"
   ]
  },
  {
   "cell_type": "code",
   "execution_count": 268,
   "metadata": {},
   "outputs": [],
   "source": [
    "class NoResetClicker(CountingClicker):\n",
    "    def reset(self):\n",
    "        pass"
   ]
  },
  {
   "cell_type": "code",
   "execution_count": 269,
   "metadata": {},
   "outputs": [],
   "source": [
    "clicker2 = NoResetClicker()"
   ]
  },
  {
   "cell_type": "markdown",
   "metadata": {},
   "source": [
    "## Iteráveis e geradores"
   ]
  },
  {
   "cell_type": "code",
   "execution_count": 270,
   "metadata": {},
   "outputs": [],
   "source": [
    "def generate_range(n):\n",
    "    i = 0\n",
    "    while i < n:\n",
    "        yield i\n",
    "        i += 1"
   ]
  },
  {
   "cell_type": "code",
   "execution_count": 271,
   "metadata": {},
   "outputs": [
    {
     "name": "stdout",
     "output_type": "stream",
     "text": [
      "i: 0\n",
      "i: 1\n",
      "i: 2\n",
      "i: 3\n",
      "i: 4\n",
      "i: 5\n",
      "i: 6\n",
      "i: 7\n",
      "i: 8\n",
      "i: 9\n"
     ]
    }
   ],
   "source": [
    "for i in generate_range(10):\n",
    "    print(f\"i: {i}\")"
   ]
  },
  {
   "cell_type": "code",
   "execution_count": 272,
   "metadata": {},
   "outputs": [],
   "source": [
    "def natural_numbers():\n",
    "    n = 1\n",
    "    while True:\n",
    "        yield n\n",
    "        n += 1"
   ]
  },
  {
   "cell_type": "code",
   "execution_count": 273,
   "metadata": {},
   "outputs": [
    {
     "data": {
      "text/plain": [
       "<generator object <genexpr> at 0x7f7db0bf7d10>"
      ]
     },
     "execution_count": 273,
     "metadata": {},
     "output_type": "execute_result"
    }
   ],
   "source": [
    "evens_below_20 = (i for i in generate_range(20) if i % 2 == 0)\n",
    "evens_below_20"
   ]
  },
  {
   "cell_type": "code",
   "execution_count": 274,
   "metadata": {},
   "outputs": [
    {
     "name": "stdout",
     "output_type": "stream",
     "text": [
      "<generator object natural_numbers at 0x7f7db0bf7a70> \n",
      " <generator object <genexpr> at 0x7f7db0bf7df0> \n",
      " <generator object <genexpr> at 0x7f7db0bf7d80> \n",
      " <generator object <genexpr> at 0x7f7db0bf7e60>\n"
     ]
    }
   ],
   "source": [
    "data = natural_numbers()\n",
    "evens = (x for x in data if x % 2 == 0)\n",
    "even_squares = (x ** 2 for x in evens)\n",
    "even_squares_ending_in_six = (x for x in even_squares if x % 10 == 6)\n",
    "print(data, \"\\n\", evens, \"\\n\", even_squares, \"\\n\", even_squares_ending_in_six)"
   ]
  },
  {
   "cell_type": "code",
   "execution_count": 275,
   "metadata": {},
   "outputs": [
    {
     "name": "stdout",
     "output_type": "stream",
     "text": [
      "name 0 is Alice\n",
      "name 1 is Bob\n",
      "name 2 is Charlie\n",
      "name 3 is Debbie\n",
      "\n",
      "\n",
      "name 0 in Alice\n",
      "name 1 in Bob\n",
      "name 2 in Charlie\n",
      "name 3 in Debbie\n",
      "\n",
      "\n",
      "name 0 is Alice\n",
      "name 1 is Bob\n",
      "name 2 is Charlie\n",
      "name 3 is Debbie\n"
     ]
    }
   ],
   "source": [
    "names = ['Alice', 'Bob', 'Charlie', 'Debbie']\n",
    "\n",
    "# Não é pythonico\n",
    "for i in range(len(names)):\n",
    "    print(f\"name {i} is {names[i]}\")\n",
    "\n",
    "# Também não é pythonico \n",
    "i = 0\n",
    "print(\"\\n\")\n",
    "for name in names:\n",
    "    print(f\"name {i} in {names[i]}\")\n",
    "    i += 1\n",
    "\n",
    "# Pythonico\n",
    "print(\"\\n\")\n",
    "for i, name in enumerate(names):\n",
    "    print(f\"name {i} is {name}\")"
   ]
  },
  {
   "cell_type": "markdown",
   "metadata": {},
   "source": [
    "## Aleatoriedade"
   ]
  },
  {
   "cell_type": "code",
   "execution_count": 276,
   "metadata": {},
   "outputs": [
    {
     "data": {
      "text/plain": [
       "[0.5714025946899135,\n",
       " 0.4288890546751146,\n",
       " 0.5780913011344704,\n",
       " 0.20609823213950174]"
      ]
     },
     "execution_count": 276,
     "metadata": {},
     "output_type": "execute_result"
    }
   ],
   "source": [
    "random.seed(10)\n",
    "\n",
    "four_uniform_randoms = [random.random() for _ in range(4)]\n",
    "four_uniform_randoms"
   ]
  },
  {
   "cell_type": "code",
   "execution_count": 277,
   "metadata": {},
   "outputs": [
    {
     "name": "stdout",
     "output_type": "stream",
     "text": [
      "0.5714025946899135\n",
      "0.5714025946899135\n"
     ]
    }
   ],
   "source": [
    "random.seed(10)\n",
    "print(random.random())\n",
    "random.seed(10)\n",
    "print(random.random())"
   ]
  },
  {
   "cell_type": "code",
   "execution_count": 278,
   "metadata": {},
   "outputs": [
    {
     "name": "stdout",
     "output_type": "stream",
     "text": [
      "6\n",
      "4\n"
     ]
    }
   ],
   "source": [
    "range_10 = random.randrange(10)\n",
    "print(range_10)\n",
    "range_3_6 = random.randrange(3, 6)\n",
    "print(range_3_6)"
   ]
  },
  {
   "cell_type": "code",
   "execution_count": 279,
   "metadata": {},
   "outputs": [
    {
     "data": {
      "text/plain": [
       "[5, 6, 9, 2, 3, 7, 8, 4, 1, 10]"
      ]
     },
     "execution_count": 279,
     "metadata": {},
     "output_type": "execute_result"
    }
   ],
   "source": [
    "up_to_ten = [1, 2, 3, 4, 5, 6, 7, 8, 9, 10]\n",
    "random.shuffle(up_to_ten)\n",
    "up_to_ten"
   ]
  },
  {
   "cell_type": "code",
   "execution_count": 280,
   "metadata": {},
   "outputs": [
    {
     "data": {
      "text/plain": [
       "'Bob'"
      ]
     },
     "execution_count": 280,
     "metadata": {},
     "output_type": "execute_result"
    }
   ],
   "source": [
    "my_best_friend = random.choice(['Alice', 'Bob', 'Charlie'])\n",
    "my_best_friend"
   ]
  },
  {
   "cell_type": "code",
   "execution_count": 281,
   "metadata": {},
   "outputs": [
    {
     "data": {
      "text/plain": [
       "[4, 15, 47, 23, 2, 26]"
      ]
     },
     "execution_count": 281,
     "metadata": {},
     "output_type": "execute_result"
    }
   ],
   "source": [
    "lottery_numbers = range(60)\n",
    "winning_numbers = random.sample(lottery_numbers, 6)\n",
    "winning_numbers"
   ]
  },
  {
   "cell_type": "code",
   "execution_count": 282,
   "metadata": {},
   "outputs": [
    {
     "data": {
      "text/plain": [
       "[2, 9, 5, 6]"
      ]
     },
     "execution_count": 282,
     "metadata": {},
     "output_type": "execute_result"
    }
   ],
   "source": [
    "four_with_replacement = [random.choice(range(10)) for _ in range(4)]\n",
    "four_with_replacement"
   ]
  },
  {
   "cell_type": "markdown",
   "metadata": {},
   "source": [
    "## Expressões regulares"
   ]
  },
  {
   "cell_type": "code",
   "execution_count": 283,
   "metadata": {},
   "outputs": [],
   "source": [
    "re_examples = [\n",
    "    not re.match(\"a\", \"cat\"),\n",
    "    re.search(\"a\", \"cat\"),\n",
    "    not re.search(\"c\", \"dog\"),\n",
    "    3 == len(re.split(\"[ab]\", \"carbs\")),\n",
    "    \"R-D-\" == re.sub(\"[0-9]\", \"-\", \"R2D2\")\n",
    "]\n",
    "\n",
    "assert all(re_examples)"
   ]
  },
  {
   "cell_type": "markdown",
   "metadata": {},
   "source": [
    "## zip e descompactação de argumentos"
   ]
  },
  {
   "cell_type": "code",
   "execution_count": 284,
   "metadata": {},
   "outputs": [
    {
     "data": {
      "text/plain": [
       "[('a', 1), ('b', 2), ('c', 3)]"
      ]
     },
     "execution_count": 284,
     "metadata": {},
     "output_type": "execute_result"
    }
   ],
   "source": [
    "list1 = ['a', 'b', 'c']\n",
    "list2 = [1, 2, 3]\n",
    "\n",
    "[pair for pair in zip(list1, list2)]"
   ]
  },
  {
   "cell_type": "code",
   "execution_count": 285,
   "metadata": {},
   "outputs": [
    {
     "name": "stdout",
     "output_type": "stream",
     "text": [
      "('a', 'b', 'c') (1, 2, 3)\n"
     ]
    }
   ],
   "source": [
    "pairs = [('a', 1), ('b', 2), ('c', 3)]\n",
    "letters, numbers = zip(*pairs)\n",
    "print(letters, numbers)"
   ]
  },
  {
   "cell_type": "code",
   "execution_count": 286,
   "metadata": {},
   "outputs": [
    {
     "data": {
      "text/plain": [
       "3"
      ]
     },
     "execution_count": 286,
     "metadata": {},
     "output_type": "execute_result"
    }
   ],
   "source": [
    "def add(a, b) : return a + b\n",
    "\n",
    "add(1, 2)"
   ]
  },
  {
   "cell_type": "code",
   "execution_count": 287,
   "metadata": {},
   "outputs": [
    {
     "name": "stdout",
     "output_type": "stream",
     "text": [
      "add expects two inputs\n"
     ]
    }
   ],
   "source": [
    "try:\n",
    "    add([1, 2])\n",
    "except TypeError:\n",
    "    print(\"add expects two inputs\")"
   ]
  },
  {
   "cell_type": "code",
   "execution_count": 288,
   "metadata": {},
   "outputs": [
    {
     "data": {
      "text/plain": [
       "3"
      ]
     },
     "execution_count": 288,
     "metadata": {},
     "output_type": "execute_result"
    }
   ],
   "source": [
    "add(*[1, 2])"
   ]
  },
  {
   "cell_type": "markdown",
   "metadata": {},
   "source": [
    "## args e kwargs"
   ]
  },
  {
   "cell_type": "code",
   "execution_count": 289,
   "metadata": {},
   "outputs": [
    {
     "data": {
      "text/plain": [
       "8"
      ]
     },
     "execution_count": 289,
     "metadata": {},
     "output_type": "execute_result"
    }
   ],
   "source": [
    "def doubler(f):\n",
    "    def g(x):\n",
    "        return 2 * f(x)\n",
    "    return g\n",
    "\n",
    "def f1(x):\n",
    "    return x + 1\n",
    "\n",
    "g = doubler(f1)\n",
    "g3 = g(3)\n",
    "g3"
   ]
  },
  {
   "cell_type": "code",
   "execution_count": 290,
   "metadata": {},
   "outputs": [
    {
     "name": "stdout",
     "output_type": "stream",
     "text": [
      "As defined, g only takes one argument\n"
     ]
    }
   ],
   "source": [
    "def f2(x, y):\n",
    "    return x + y\n",
    "\n",
    "g = doubler(f2)\n",
    "\n",
    "try:\n",
    "    g(1, 2)\n",
    "except TypeError:\n",
    "    print(\"As defined, g only takes one argument\")"
   ]
  },
  {
   "cell_type": "code",
   "execution_count": 291,
   "metadata": {},
   "outputs": [
    {
     "name": "stdout",
     "output_type": "stream",
     "text": [
      "unnamed args: (1, 2)\n",
      "keywords args: {'key': 'word', 'key2': 'word2'}\n"
     ]
    }
   ],
   "source": [
    "def magic(*args, **kwargs):\n",
    "    print(\"unnamed args:\", args)\n",
    "    print(\"keywords args:\", kwargs)\n",
    "\n",
    "magic(1, 2, key = \"word\", key2 = \"word2\")"
   ]
  },
  {
   "cell_type": "code",
   "execution_count": 292,
   "metadata": {},
   "outputs": [],
   "source": [
    "def other_way_magic(x, y, z):\n",
    "    return x + y + z\n",
    "\n",
    "x_y_list = [1, 2]\n",
    "z_dict = {\"z\": 3}\n",
    "assert other_way_magic(*x_y_list, **z_dict) == 6, \"1 + 2 + 3 should be 6\""
   ]
  },
  {
   "cell_type": "code",
   "execution_count": 293,
   "metadata": {},
   "outputs": [
    {
     "data": {
      "text/plain": [
       "6"
      ]
     },
     "execution_count": 293,
     "metadata": {},
     "output_type": "execute_result"
    }
   ],
   "source": [
    "def double_correct(f):\n",
    "    def g(*args, **kwargs):\n",
    "        return 2 * f(*args, **kwargs)\n",
    "    return g\n",
    "\n",
    "g = double_correct(f2)\n",
    "g(1, 2)"
   ]
  },
  {
   "cell_type": "markdown",
   "metadata": {},
   "source": [
    "## Anotações de tipo"
   ]
  },
  {
   "cell_type": "code",
   "execution_count": 294,
   "metadata": {},
   "outputs": [
    {
     "name": "stdout",
     "output_type": "stream",
     "text": [
      "True\n",
      "True\n",
      "True\n",
      "Cannot add an int to a string\n"
     ]
    }
   ],
   "source": [
    "def add(a, b):\n",
    "    return a + b\n",
    "\n",
    "print(add(10, 5) == 15)\n",
    "print(add([1, 2], [3]) == [1, 2, 3])\n",
    "print(add(\"hi \", \"there\") == \"hi there\")\n",
    "\n",
    "try:\n",
    "    add(10, \"five\")\n",
    "except TypeError:\n",
    "    print(\"Cannot add an int to a string\")"
   ]
  },
  {
   "cell_type": "code",
   "execution_count": 295,
   "metadata": {},
   "outputs": [
    {
     "name": "stdout",
     "output_type": "stream",
     "text": [
      "True\n",
      "True\n"
     ]
    }
   ],
   "source": [
    "def add(a: int, b: int) -> int:\n",
    "    return a + b\n",
    "\n",
    "print(add(10, 5) == 15)\n",
    "print(add([1, 2], [3]) == [1, 2, 3])"
   ]
  },
  {
   "cell_type": "markdown",
   "metadata": {},
   "source": [
    "## Como escrever anotações de tipo"
   ]
  },
  {
   "cell_type": "code",
   "execution_count": 296,
   "metadata": {},
   "outputs": [],
   "source": [
    "def total(xs: list) -> float:\n",
    "    return sum(total)\n",
    "\n",
    "x: int = 5"
   ]
  },
  {
   "cell_type": "code",
   "execution_count": 297,
   "metadata": {},
   "outputs": [
    {
     "data": {
      "text/plain": [
       "{'data': 1, 'science': 2}"
      ]
     },
     "execution_count": 297,
     "metadata": {},
     "output_type": "execute_result"
    }
   ],
   "source": [
    "values : List[int] = []\n",
    "best_so_far = Optional[float]\n",
    "\n",
    "count: Dict[str, int] = {'data': 1, 'science': 2}\n",
    "\n",
    "count"
   ]
  },
  {
   "cell_type": "code",
   "execution_count": 298,
   "metadata": {},
   "outputs": [
    {
     "data": {
      "text/plain": [
       "<generator object <genexpr> at 0x7f7d9bdeccf0>"
      ]
     },
     "execution_count": 298,
     "metadata": {},
     "output_type": "execute_result"
    }
   ],
   "source": [
    "lazy = True\n",
    "if lazy:\n",
    "    evens: Iterable[int] = (x for x in range(10) if x % 2 == 0)\n",
    "else:\n",
    "    evens = [0, 2, 4, 6, 8]\n",
    "\n",
    "evens"
   ]
  },
  {
   "cell_type": "code",
   "execution_count": 299,
   "metadata": {},
   "outputs": [
    {
     "data": {
      "text/plain": [
       "(10, 2.3, 5)"
      ]
     },
     "execution_count": 299,
     "metadata": {},
     "output_type": "execute_result"
    }
   ],
   "source": [
    "triple: Tuple[int, float, int] = (10, 2.3, 5)\n",
    "triple"
   ]
  },
  {
   "cell_type": "code",
   "execution_count": 301,
   "metadata": {},
   "outputs": [
    {
     "name": "stdout",
     "output_type": "stream",
     "text": [
      "True\n"
     ]
    }
   ],
   "source": [
    "def twice(repeater : Callable[[str, int], str], s : str) -> str:\n",
    "    return repeater(s, 2)\n",
    "\n",
    "def comma_repeater(s: str, n: int) -> str:\n",
    "    n_copies = [s for _ in range(n)]\n",
    "    return \", \".join(n_copies)\n",
    "\n",
    "print(twice(comma_repeater, \"type hints\") == \"type hints, type hints\")"
   ]
  },
  {
   "cell_type": "code",
   "execution_count": 302,
   "metadata": {},
   "outputs": [
    {
     "data": {
      "text/plain": [
       "typing.List[int]"
      ]
     },
     "execution_count": 302,
     "metadata": {},
     "output_type": "execute_result"
    }
   ],
   "source": [
    "Number = int\n",
    "Numbers = List[Number]\n",
    "\n",
    "Numbers"
   ]
  },
  {
   "cell_type": "code",
   "execution_count": null,
   "metadata": {},
   "outputs": [],
   "source": [
    "def total(xs: Numbers) -> Number:\n",
    "    return sum(xs)"
   ]
  }
 ],
 "metadata": {
  "kernelspec": {
   "display_name": "Python 3",
   "language": "python",
   "name": "python3"
  },
  "language_info": {
   "codemirror_mode": {
    "name": "ipython",
    "version": 3
   },
   "file_extension": ".py",
   "mimetype": "text/x-python",
   "name": "python",
   "nbconvert_exporter": "python",
   "pygments_lexer": "ipython3",
   "version": "3.10.12"
  }
 },
 "nbformat": 4,
 "nbformat_minor": 2
}
