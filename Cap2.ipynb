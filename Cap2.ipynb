{
 "cells": [
  {
   "cell_type": "markdown",
   "metadata": {},
   "source": [
    "# Capítulo 2 - Um curso intensivo de Python"
   ]
  },
  {
   "cell_type": "markdown",
   "metadata": {},
   "source": [
    "Esse capítulo busca introduzir ao usuário a linguagem Python."
   ]
  },
  {
   "cell_type": "code",
   "execution_count": 1,
   "metadata": {},
   "outputs": [],
   "source": [
    "from collections import defaultdict, Counter\n",
    "from typing import List, Optional, Dict, Iterable, Tuple, Callable\n",
    "import random\n",
    "import re"
   ]
  },
  {
   "cell_type": "markdown",
   "metadata": {},
   "source": [
    "## Formatação e espaço em branco"
   ]
  },
  {
   "cell_type": "code",
   "execution_count": 2,
   "metadata": {},
   "outputs": [
    {
     "name": "stdout",
     "output_type": "stream",
     "text": [
      "1\n",
      "1\n",
      "2\n",
      "2\n",
      "3\n",
      "3\n",
      "4\n",
      "4\n",
      "5\n",
      "5\n",
      "6\n",
      "1\n",
      "2\n",
      "1\n",
      "3\n",
      "2\n",
      "4\n",
      "3\n",
      "5\n",
      "4\n",
      "6\n",
      "5\n",
      "7\n",
      "2\n",
      "3\n",
      "1\n",
      "4\n",
      "2\n",
      "5\n",
      "3\n",
      "6\n",
      "4\n",
      "7\n",
      "5\n",
      "8\n",
      "3\n",
      "4\n",
      "1\n",
      "5\n",
      "2\n",
      "6\n",
      "3\n",
      "7\n",
      "4\n",
      "8\n",
      "5\n",
      "9\n",
      "4\n",
      "5\n",
      "1\n",
      "6\n",
      "2\n",
      "7\n",
      "3\n",
      "8\n",
      "4\n",
      "9\n",
      "5\n",
      "10\n",
      "5\n",
      "Concluído\n"
     ]
    }
   ],
   "source": [
    "for i in [1, 2, 3, 4, 5]:\n",
    "    print(i)\n",
    "    for j in [1, 2, 3, 4, 5]:\n",
    "        print(j)\n",
    "        print(i + j)\n",
    "    print(i)\n",
    "print(\"Concluído\")"
   ]
  },
  {
   "cell_type": "code",
   "execution_count": 3,
   "metadata": {},
   "outputs": [
    {
     "data": {
      "text/plain": [
       "210"
      ]
     },
     "execution_count": 3,
     "metadata": {},
     "output_type": "execute_result"
    }
   ],
   "source": [
    "calculo_longo = (1 + 2 + 3 + 4 + 5 + 6 + 7 + 8 + 9 + 10 + 11 + 12 + 13 + 14 + 15 + 16 + 17 + 18 + 19 + 20)\n",
    "calculo_longo"
   ]
  },
  {
   "cell_type": "code",
   "execution_count": 4,
   "metadata": {},
   "outputs": [],
   "source": [
    "lista_de_lista = [[1, 2, 3],\n",
    "                  [4, 5, 6],\n",
    "                  [7, 8, 9]]"
   ]
  },
  {
   "cell_type": "markdown",
   "metadata": {},
   "source": [
    "## Módulos"
   ]
  },
  {
   "cell_type": "code",
   "execution_count": 5,
   "metadata": {},
   "outputs": [],
   "source": [
    "import re\n",
    "my_regex = re.compile(\"[0-9]+\", re.I)"
   ]
  },
  {
   "cell_type": "code",
   "execution_count": 6,
   "metadata": {},
   "outputs": [],
   "source": [
    "lookup = defaultdict(int)\n",
    "my_counter = Counter()"
   ]
  },
  {
   "cell_type": "code",
   "execution_count": 7,
   "metadata": {},
   "outputs": [
    {
     "name": "stdout",
     "output_type": "stream",
     "text": [
      "<function match at 0x7fcbe9a888b0>\n"
     ]
    }
   ],
   "source": [
    "match = 10\n",
    "from re import *\n",
    "print(match)"
   ]
  },
  {
   "cell_type": "markdown",
   "metadata": {},
   "source": [
    "## Funções"
   ]
  },
  {
   "cell_type": "code",
   "execution_count": 8,
   "metadata": {},
   "outputs": [],
   "source": [
    "def double(x):\n",
    "    return x * 2\n",
    "\n",
    "def apply_to_one(f):\n",
    "    return f(1)"
   ]
  },
  {
   "cell_type": "code",
   "execution_count": 9,
   "metadata": {},
   "outputs": [
    {
     "name": "stdout",
     "output_type": "stream",
     "text": [
      "2\n",
      "5\n"
     ]
    }
   ],
   "source": [
    "my_double = double\n",
    "x = apply_to_one(my_double)\n",
    "y = apply_to_one(lambda x: x + 4)\n",
    "print(x)\n",
    "print(y)"
   ]
  },
  {
   "cell_type": "code",
   "execution_count": 10,
   "metadata": {},
   "outputs": [
    {
     "name": "stdout",
     "output_type": "stream",
     "text": [
      "Hello\n",
      "My default message\n"
     ]
    }
   ],
   "source": [
    "def another_double(x):\n",
    "    return 2 * x\n",
    "\n",
    "def my_print(message = \"My default message\"):\n",
    "    print(message)\n",
    "\n",
    "my_print(\"Hello\")\n",
    "my_print()"
   ]
  },
  {
   "cell_type": "code",
   "execution_count": 11,
   "metadata": {},
   "outputs": [
    {
     "name": "stdout",
     "output_type": "stream",
     "text": [
      "Joel Grus\n",
      "Joel something\n",
      "What's-his-name Grus\n"
     ]
    }
   ],
   "source": [
    "def full_name(first = \"What's-his-name\", last = \"something\"):\n",
    "    return first + \" \" + last\n",
    "\n",
    "print(full_name(\"Joel\", \"Grus\"))\n",
    "print(full_name(\"Joel\"))\n",
    "print(full_name(last = \"Grus\"))"
   ]
  },
  {
   "cell_type": "markdown",
   "metadata": {},
   "source": [
    "## Strings"
   ]
  },
  {
   "cell_type": "code",
   "execution_count": 12,
   "metadata": {},
   "outputs": [
    {
     "data": {
      "text/plain": [
       "1"
      ]
     },
     "execution_count": 12,
     "metadata": {},
     "output_type": "execute_result"
    }
   ],
   "source": [
    "single_quoted_string = 'data science'\n",
    "double_quoted_string = \"data science\"\n",
    "\n",
    "tab_string = \"\\t\"\n",
    "len(tab_string)"
   ]
  },
  {
   "cell_type": "code",
   "execution_count": 13,
   "metadata": {},
   "outputs": [
    {
     "data": {
      "text/plain": [
       "'\\\\t'"
      ]
     },
     "execution_count": 13,
     "metadata": {},
     "output_type": "execute_result"
    }
   ],
   "source": [
    "not_tab_string = r\"\\t\"\n",
    "not_tab_string"
   ]
  },
  {
   "cell_type": "code",
   "execution_count": 14,
   "metadata": {},
   "outputs": [
    {
     "data": {
      "text/plain": [
       "'\"Esta é\\numa string\\ncomposta por\\nvárias linhas'"
      ]
     },
     "execution_count": 14,
     "metadata": {},
     "output_type": "execute_result"
    }
   ],
   "source": [
    "multi_len_string = \"\"\"\"Esta é\n",
    "uma string\n",
    "composta por\n",
    "várias linhas\"\"\"\n",
    "\n",
    "multi_len_string"
   ]
  },
  {
   "cell_type": "code",
   "execution_count": 15,
   "metadata": {},
   "outputs": [
    {
     "name": "stdout",
     "output_type": "stream",
     "text": [
      "Joel Gaus \n",
      " Joel Gaus \n",
      " Joel Gaus\n"
     ]
    }
   ],
   "source": [
    "first_name = \"Joel\"\n",
    "last_name = \"Gaus\"\n",
    "full_name_1 = first_name + \" \" + last_name\n",
    "full_name_2 = \"{0} {1}\".format(first_name, last_name)\n",
    "full_name_3 = f\"{first_name} {last_name}\"\n",
    "print(full_name_1, \"\\n\", full_name_2, \"\\n\", full_name_3)"
   ]
  },
  {
   "cell_type": "markdown",
   "metadata": {},
   "source": [
    "## Exceções"
   ]
  },
  {
   "cell_type": "code",
   "execution_count": 16,
   "metadata": {},
   "outputs": [
    {
     "name": "stdout",
     "output_type": "stream",
     "text": [
      "Cannot divide by zero\n"
     ]
    }
   ],
   "source": [
    "try:\n",
    "    print(0 / 0)\n",
    "except ZeroDivisionError:\n",
    "    print(\"Cannot divide by zero\")"
   ]
  },
  {
   "cell_type": "markdown",
   "metadata": {},
   "source": [
    "## Listas"
   ]
  },
  {
   "cell_type": "code",
   "execution_count": 17,
   "metadata": {},
   "outputs": [
    {
     "name": "stdout",
     "output_type": "stream",
     "text": [
      "3 6\n"
     ]
    }
   ],
   "source": [
    "integer_list = [1, 2, 3]\n",
    "heterogeneous_list = [\"string\", 0.1, True]\n",
    "list_of_lists = [integer_list, heterogeneous_list, []]\n",
    "\n",
    "list_length = len(integer_list)\n",
    "list_sum = sum(integer_list)\n",
    "\n",
    "print(list_length, list_sum)"
   ]
  },
  {
   "cell_type": "code",
   "execution_count": 18,
   "metadata": {},
   "outputs": [
    {
     "name": "stdout",
     "output_type": "stream",
     "text": [
      "0 1 9 8 [-1, 1, 2, 3, 4, 5, 6, 7, 8, 9]\n"
     ]
    }
   ],
   "source": [
    "x = [0, 1, 2, 3, 4, 5, 6, 7, 8, 9]\n",
    "zero = x[0]\n",
    "one = x[1]\n",
    "nine = x[-1]\n",
    "eight = x[-2]\n",
    "x[0] = -1\n",
    "\n",
    "print(zero, one, nine, eight, x)"
   ]
  },
  {
   "cell_type": "code",
   "execution_count": 19,
   "metadata": {},
   "outputs": [
    {
     "name": "stdout",
     "output_type": "stream",
     "text": [
      "[-1, 1, 2] \n",
      " [3, 4, 5, 6, 7, 8, 9] \n",
      " [1, 2, 3, 4] \n",
      " [7, 8, 9] \n",
      " [1, 2, 3, 4, 5, 6, 7, 8] \n",
      " [-1, 1, 2, 3, 4, 5, 6, 7, 8, 9]\n"
     ]
    }
   ],
   "source": [
    "first_three = x[:3]\n",
    "three_to_end = x[3:]\n",
    "one_to_four = x[1:5]\n",
    "last_three = x[-3:]\n",
    "without_first_and_last = x[1:-1]\n",
    "copy_of_x = x[:]\n",
    "\n",
    "print(first_three, \"\\n\", three_to_end, \"\\n\", one_to_four, \"\\n\", last_three, \"\\n\", without_first_and_last, \"\\n\", copy_of_x)"
   ]
  },
  {
   "cell_type": "code",
   "execution_count": 20,
   "metadata": {},
   "outputs": [
    {
     "name": "stdout",
     "output_type": "stream",
     "text": [
      "[-1, 3, 6, 9] [5, 4, 3]\n"
     ]
    }
   ],
   "source": [
    "every_third = x[::3]\n",
    "five_to_three = x[5:2:-1]\n",
    "\n",
    "print(every_third, five_to_three)"
   ]
  },
  {
   "cell_type": "code",
   "execution_count": 21,
   "metadata": {},
   "outputs": [
    {
     "data": {
      "text/plain": [
       "True"
      ]
     },
     "execution_count": 21,
     "metadata": {},
     "output_type": "execute_result"
    }
   ],
   "source": [
    "1 in [1, 2, 3]"
   ]
  },
  {
   "cell_type": "code",
   "execution_count": 22,
   "metadata": {},
   "outputs": [
    {
     "data": {
      "text/plain": [
       "False"
      ]
     },
     "execution_count": 22,
     "metadata": {},
     "output_type": "execute_result"
    }
   ],
   "source": [
    "0 in [1, 2, 3]"
   ]
  },
  {
   "cell_type": "code",
   "execution_count": 23,
   "metadata": {},
   "outputs": [
    {
     "data": {
      "text/plain": [
       "[1, 2, 3, 4, 5, 6]"
      ]
     },
     "execution_count": 23,
     "metadata": {},
     "output_type": "execute_result"
    }
   ],
   "source": [
    "x = [1, 2, 3]\n",
    "x.extend([4, 5, 6])\n",
    "x"
   ]
  },
  {
   "cell_type": "code",
   "execution_count": 24,
   "metadata": {},
   "outputs": [
    {
     "name": "stdout",
     "output_type": "stream",
     "text": [
      "[1, 2, 3] [1, 2, 3, 4, 5, 6]\n"
     ]
    }
   ],
   "source": [
    "x = [1, 2, 3]\n",
    "y = x + ([4, 5, 6])\n",
    "print(x, y)"
   ]
  },
  {
   "cell_type": "code",
   "execution_count": 25,
   "metadata": {},
   "outputs": [
    {
     "name": "stdout",
     "output_type": "stream",
     "text": [
      "[1, 2, 3, 0] 0 4\n"
     ]
    }
   ],
   "source": [
    "x = [1, 2, 3]\n",
    "x.append(0)\n",
    "y = x[-1]\n",
    "z = len(x)\n",
    "print(x, y, z)"
   ]
  },
  {
   "cell_type": "code",
   "execution_count": 26,
   "metadata": {},
   "outputs": [
    {
     "name": "stdout",
     "output_type": "stream",
     "text": [
      "1 2 4\n"
     ]
    }
   ],
   "source": [
    "x, y = [1, 2]\n",
    "_, z = [3, 4]\n",
    "\n",
    "print(x, y, z)"
   ]
  },
  {
   "cell_type": "markdown",
   "metadata": {},
   "source": [
    "## Tuplas"
   ]
  },
  {
   "cell_type": "code",
   "execution_count": 27,
   "metadata": {},
   "outputs": [
    {
     "name": "stdout",
     "output_type": "stream",
     "text": [
      "Cannot modify a tuple\n"
     ]
    }
   ],
   "source": [
    "my_list = [1, 2]\n",
    "my_tuple = (1, 2)\n",
    "other_tuple = 3, 4\n",
    "my_list[1] = 3\n",
    "\n",
    "try:\n",
    "    my_tuple[1] = 3\n",
    "except TypeError:\n",
    "    print(\"Cannot modify a tuple\")"
   ]
  },
  {
   "cell_type": "code",
   "execution_count": 28,
   "metadata": {},
   "outputs": [
    {
     "name": "stdout",
     "output_type": "stream",
     "text": [
      "(5, 6) 15 50\n"
     ]
    }
   ],
   "source": [
    "def sum_and_product(x, y):\n",
    "    return (x + y), (x * y)\n",
    "\n",
    "sp = sum_and_product(2, 3)\n",
    "s, p = sum_and_product(5, 10)\n",
    "\n",
    "print(sp, s, p)"
   ]
  },
  {
   "cell_type": "code",
   "execution_count": 29,
   "metadata": {},
   "outputs": [
    {
     "name": "stdout",
     "output_type": "stream",
     "text": [
      "2 1\n"
     ]
    }
   ],
   "source": [
    "x, y = (1, 2)\n",
    "x, y = y, x\n",
    "print(x, y)"
   ]
  },
  {
   "cell_type": "markdown",
   "metadata": {},
   "source": [
    "## Dicionários"
   ]
  },
  {
   "cell_type": "code",
   "execution_count": 30,
   "metadata": {},
   "outputs": [],
   "source": [
    "empty_dict = {}\n",
    "empty_dict_2 = dict()\n",
    "grades = {\"Joel\" : 80, \"Tim\" : 95}\n",
    "joels_grade = grades[\"Joel\"]"
   ]
  },
  {
   "cell_type": "code",
   "execution_count": 31,
   "metadata": {},
   "outputs": [
    {
     "name": "stdout",
     "output_type": "stream",
     "text": [
      "No grade for Kate!\n"
     ]
    }
   ],
   "source": [
    "try:\n",
    "    kater_grade = grades['Kate']\n",
    "except KeyError:\n",
    "    print(\"No grade for Kate!\")"
   ]
  },
  {
   "cell_type": "code",
   "execution_count": 32,
   "metadata": {},
   "outputs": [
    {
     "name": "stdout",
     "output_type": "stream",
     "text": [
      "True False\n"
     ]
    }
   ],
   "source": [
    "joel_has_grade = \"Joel\" in grades\n",
    "kate_has_grade = \"Kate\" in grades\n",
    "print(joel_has_grade, kate_has_grade)"
   ]
  },
  {
   "cell_type": "code",
   "execution_count": 33,
   "metadata": {},
   "outputs": [
    {
     "name": "stdout",
     "output_type": "stream",
     "text": [
      "80 0 None\n"
     ]
    }
   ],
   "source": [
    "joels_grade = grades.get(\"Joel\", 0)\n",
    "kates_grade = grades.get(\"Kate\", 0)\n",
    "no_ones_grade = grades.get(\"No One\")\n",
    "\n",
    "print(joels_grade, kates_grade, no_ones_grade)"
   ]
  },
  {
   "cell_type": "code",
   "execution_count": 34,
   "metadata": {},
   "outputs": [
    {
     "name": "stdout",
     "output_type": "stream",
     "text": [
      "{'Joel': 80, 'Tim': 99, 'Kate': 100} 3\n"
     ]
    }
   ],
   "source": [
    "grades['Tim'] = 99\n",
    "grades['Kate'] = 100\n",
    "num_students = len(grades)\n",
    "\n",
    "print(grades, num_students)"
   ]
  },
  {
   "cell_type": "code",
   "execution_count": 35,
   "metadata": {},
   "outputs": [
    {
     "name": "stdout",
     "output_type": "stream",
     "text": [
      "dict_keys(['user', 'text', 'retweet_counts', 'hashtags']) dict_values(['joelgrus', 'Data science é top', 100, ['#data', '#science']]) dict_items([('user', 'joelgrus'), ('text', 'Data science é top'), ('retweet_counts', 100), ('hashtags', ['#data', '#science'])])\n"
     ]
    }
   ],
   "source": [
    "tweet = {\n",
    "    \"user\" : \"joelgrus\",\n",
    "    \"text\" : \"Data science é top\",\n",
    "    \"retweet_counts\" : 100,\n",
    "    \"hashtags\" : ['#data', '#science']\n",
    "}\n",
    "\n",
    "tweet_keys = tweet.keys()\n",
    "tweet_values = tweet.values()\n",
    "tweet_items = tweet.items()\n",
    "\n",
    "print(tweet_keys, tweet_values, tweet_items)"
   ]
  },
  {
   "cell_type": "code",
   "execution_count": 36,
   "metadata": {},
   "outputs": [
    {
     "name": "stdout",
     "output_type": "stream",
     "text": [
      "True True True\n"
     ]
    }
   ],
   "source": [
    "print(\"user\" in tweet_keys, \"user\" in tweet, \"joelgrus\" in tweet_values)"
   ]
  },
  {
   "cell_type": "markdown",
   "metadata": {},
   "source": [
    "## defaultdict"
   ]
  },
  {
   "cell_type": "code",
   "execution_count": 37,
   "metadata": {},
   "outputs": [
    {
     "data": {
      "text/plain": [
       "{'Lorem': 1,\n",
       " 'ipsum': 2,\n",
       " 'dolor': 1,\n",
       " 'sit': 1,\n",
       " 'amet,': 1,\n",
       " 'consectetur': 1,\n",
       " 'adipiscing': 1,\n",
       " 'elit.': 1,\n",
       " 'Proin': 1,\n",
       " 'sodales': 4,\n",
       " 'convallis': 1,\n",
       " 'quam': 1,\n",
       " 'eleifend': 1,\n",
       " 'hendrerit.': 1,\n",
       " 'In': 1,\n",
       " 'mollis': 1,\n",
       " 'imperdiet': 1,\n",
       " 'diam': 3,\n",
       " 'vitae': 3,\n",
       " 'dapibus.': 1,\n",
       " 'Curabitur': 1,\n",
       " 'ut': 1,\n",
       " 'tincidunt': 3,\n",
       " 'ipsum.': 1,\n",
       " 'Etiam': 2,\n",
       " 'lobortis': 1,\n",
       " 'odio': 3,\n",
       " 'viverra': 2,\n",
       " 'dui': 3,\n",
       " 'iaculis,': 1,\n",
       " 'et': 2,\n",
       " 'venenatis': 2,\n",
       " 'risus': 1,\n",
       " 'semper.': 1,\n",
       " 'Sed': 4,\n",
       " 'a': 1,\n",
       " 'suscipit': 1,\n",
       " 'mi.': 1,\n",
       " 'nec': 1,\n",
       " 'ante': 1,\n",
       " 'sagittis': 2,\n",
       " 'ultricies.': 1,\n",
       " 'Vivamus': 1,\n",
       " 'aliquam': 2,\n",
       " 'varius': 1,\n",
       " 'massa,': 1,\n",
       " 'ornare': 1,\n",
       " 'fringilla': 1,\n",
       " 'sapien': 1,\n",
       " 'sed.': 1,\n",
       " 'Nunc': 1,\n",
       " 'sagittis,': 1,\n",
       " 'urna': 1,\n",
       " 'euismod': 2,\n",
       " 'varius,': 1,\n",
       " 'posuere': 2,\n",
       " 'mauris,': 2,\n",
       " 'massa': 1,\n",
       " 'vel': 2,\n",
       " 'orci.': 1,\n",
       " 'volutpat': 1,\n",
       " 'tempus': 3,\n",
       " 'tortor': 1,\n",
       " 'quis': 1,\n",
       " 'dignissim.': 1,\n",
       " 'Nulla': 1,\n",
       " 'tristique': 1,\n",
       " 'id': 2,\n",
       " 'nisl': 1,\n",
       " 'vel,': 1,\n",
       " 'accumsan': 1,\n",
       " 'quam.': 1,\n",
       " 'non': 3,\n",
       " 'leo': 1,\n",
       " 'lacus.': 1,\n",
       " 'Cras': 1,\n",
       " 'dolor,': 1,\n",
       " 'eros': 1,\n",
       " 'iaculis': 1,\n",
       " 'nec.': 1,\n",
       " 'Mauris': 1,\n",
       " 'nibh': 1,\n",
       " 'vestibulum': 1,\n",
       " 'tristique.': 1,\n",
       " 'Ut': 1,\n",
       " 'ac': 1,\n",
       " 'libero': 1,\n",
       " 'commodo,': 1,\n",
       " 'dapibus': 1,\n",
       " 'sem': 1,\n",
       " 'euismod.': 1,\n",
       " 'luctus': 1,\n",
       " 'lacus,': 1,\n",
       " 'metus': 1,\n",
       " 'eget.': 1,\n",
       " 'Nam': 1,\n",
       " 'commodo': 1,\n",
       " 'aliquam.': 1}"
      ]
     },
     "execution_count": 37,
     "metadata": {},
     "output_type": "execute_result"
    }
   ],
   "source": [
    "document = \"Lorem ipsum dolor sit amet, consectetur adipiscing elit. Proin sodales convallis quam eleifend hendrerit. In mollis imperdiet diam vitae dapibus. Curabitur ut tincidunt ipsum. Etiam lobortis odio viverra dui iaculis, et venenatis risus semper. Sed a suscipit mi. Sed nec dui et ante sagittis ultricies. Vivamus aliquam varius massa, ornare fringilla sapien venenatis sed. Nunc sagittis, urna euismod sodales varius, dui diam posuere mauris, vitae euismod odio massa vel orci. Sed volutpat tempus tortor quis dignissim. Nulla diam mauris, tristique id nisl vel, accumsan sagittis quam. Sed non leo lacus. Cras tincidunt tincidunt dolor, id tempus eros iaculis nec. Mauris tempus nibh non vestibulum tristique. Ut sodales ipsum ac libero commodo, vitae dapibus sem euismod. Etiam luctus aliquam lacus, non posuere metus viverra eget. Nam commodo sodales odio vel aliquam.\"\n",
    "\n",
    "words_count = {}\n",
    "for word in document.split(\" \"):\n",
    "    if word in words_count:\n",
    "        words_count[word] += 1\n",
    "    else:\n",
    "        words_count[word] = 1\n",
    "\n",
    "words_count"
   ]
  },
  {
   "cell_type": "code",
   "execution_count": 38,
   "metadata": {},
   "outputs": [
    {
     "data": {
      "text/plain": [
       "{'Lorem': 1,\n",
       " 'ipsum': 2,\n",
       " 'dolor': 1,\n",
       " 'sit': 1,\n",
       " 'amet,': 1,\n",
       " 'consectetur': 1,\n",
       " 'adipiscing': 1,\n",
       " 'elit.': 1,\n",
       " 'Proin': 1,\n",
       " 'sodales': 4,\n",
       " 'convallis': 1,\n",
       " 'quam': 1,\n",
       " 'eleifend': 1,\n",
       " 'hendrerit.': 1,\n",
       " 'In': 1,\n",
       " 'mollis': 1,\n",
       " 'imperdiet': 1,\n",
       " 'diam': 3,\n",
       " 'vitae': 3,\n",
       " 'dapibus.': 1,\n",
       " 'Curabitur': 1,\n",
       " 'ut': 1,\n",
       " 'tincidunt': 3,\n",
       " 'ipsum.': 1,\n",
       " 'Etiam': 2,\n",
       " 'lobortis': 1,\n",
       " 'odio': 3,\n",
       " 'viverra': 2,\n",
       " 'dui': 3,\n",
       " 'iaculis,': 1,\n",
       " 'et': 2,\n",
       " 'venenatis': 2,\n",
       " 'risus': 1,\n",
       " 'semper.': 1,\n",
       " 'Sed': 4,\n",
       " 'a': 1,\n",
       " 'suscipit': 1,\n",
       " 'mi.': 1,\n",
       " 'nec': 1,\n",
       " 'ante': 1,\n",
       " 'sagittis': 2,\n",
       " 'ultricies.': 1,\n",
       " 'Vivamus': 1,\n",
       " 'aliquam': 2,\n",
       " 'varius': 1,\n",
       " 'massa,': 1,\n",
       " 'ornare': 1,\n",
       " 'fringilla': 1,\n",
       " 'sapien': 1,\n",
       " 'sed.': 1,\n",
       " 'Nunc': 1,\n",
       " 'sagittis,': 1,\n",
       " 'urna': 1,\n",
       " 'euismod': 2,\n",
       " 'varius,': 1,\n",
       " 'posuere': 2,\n",
       " 'mauris,': 2,\n",
       " 'massa': 1,\n",
       " 'vel': 2,\n",
       " 'orci.': 1,\n",
       " 'volutpat': 1,\n",
       " 'tempus': 3,\n",
       " 'tortor': 1,\n",
       " 'quis': 1,\n",
       " 'dignissim.': 1,\n",
       " 'Nulla': 1,\n",
       " 'tristique': 1,\n",
       " 'id': 2,\n",
       " 'nisl': 1,\n",
       " 'vel,': 1,\n",
       " 'accumsan': 1,\n",
       " 'quam.': 1,\n",
       " 'non': 3,\n",
       " 'leo': 1,\n",
       " 'lacus.': 1,\n",
       " 'Cras': 1,\n",
       " 'dolor,': 1,\n",
       " 'eros': 1,\n",
       " 'iaculis': 1,\n",
       " 'nec.': 1,\n",
       " 'Mauris': 1,\n",
       " 'nibh': 1,\n",
       " 'vestibulum': 1,\n",
       " 'tristique.': 1,\n",
       " 'Ut': 1,\n",
       " 'ac': 1,\n",
       " 'libero': 1,\n",
       " 'commodo,': 1,\n",
       " 'dapibus': 1,\n",
       " 'sem': 1,\n",
       " 'euismod.': 1,\n",
       " 'luctus': 1,\n",
       " 'lacus,': 1,\n",
       " 'metus': 1,\n",
       " 'eget.': 1,\n",
       " 'Nam': 1,\n",
       " 'commodo': 1,\n",
       " 'aliquam.': 1}"
      ]
     },
     "execution_count": 38,
     "metadata": {},
     "output_type": "execute_result"
    }
   ],
   "source": [
    "words_count = {}\n",
    "for word in document.split(\" \"):\n",
    "    try:\n",
    "        words_count[word] += 1\n",
    "    except KeyError:\n",
    "        words_count[word] = 1\n",
    "\n",
    "words_count"
   ]
  },
  {
   "cell_type": "code",
   "execution_count": 39,
   "metadata": {},
   "outputs": [
    {
     "data": {
      "text/plain": [
       "{'Lorem': 1,\n",
       " 'ipsum': 2,\n",
       " 'dolor': 1,\n",
       " 'sit': 1,\n",
       " 'amet,': 1,\n",
       " 'consectetur': 1,\n",
       " 'adipiscing': 1,\n",
       " 'elit.': 1,\n",
       " 'Proin': 1,\n",
       " 'sodales': 4,\n",
       " 'convallis': 1,\n",
       " 'quam': 1,\n",
       " 'eleifend': 1,\n",
       " 'hendrerit.': 1,\n",
       " 'In': 1,\n",
       " 'mollis': 1,\n",
       " 'imperdiet': 1,\n",
       " 'diam': 3,\n",
       " 'vitae': 3,\n",
       " 'dapibus.': 1,\n",
       " 'Curabitur': 1,\n",
       " 'ut': 1,\n",
       " 'tincidunt': 3,\n",
       " 'ipsum.': 1,\n",
       " 'Etiam': 2,\n",
       " 'lobortis': 1,\n",
       " 'odio': 3,\n",
       " 'viverra': 2,\n",
       " 'dui': 3,\n",
       " 'iaculis,': 1,\n",
       " 'et': 2,\n",
       " 'venenatis': 2,\n",
       " 'risus': 1,\n",
       " 'semper.': 1,\n",
       " 'Sed': 4,\n",
       " 'a': 1,\n",
       " 'suscipit': 1,\n",
       " 'mi.': 1,\n",
       " 'nec': 1,\n",
       " 'ante': 1,\n",
       " 'sagittis': 2,\n",
       " 'ultricies.': 1,\n",
       " 'Vivamus': 1,\n",
       " 'aliquam': 2,\n",
       " 'varius': 1,\n",
       " 'massa,': 1,\n",
       " 'ornare': 1,\n",
       " 'fringilla': 1,\n",
       " 'sapien': 1,\n",
       " 'sed.': 1,\n",
       " 'Nunc': 1,\n",
       " 'sagittis,': 1,\n",
       " 'urna': 1,\n",
       " 'euismod': 2,\n",
       " 'varius,': 1,\n",
       " 'posuere': 2,\n",
       " 'mauris,': 2,\n",
       " 'massa': 1,\n",
       " 'vel': 2,\n",
       " 'orci.': 1,\n",
       " 'volutpat': 1,\n",
       " 'tempus': 3,\n",
       " 'tortor': 1,\n",
       " 'quis': 1,\n",
       " 'dignissim.': 1,\n",
       " 'Nulla': 1,\n",
       " 'tristique': 1,\n",
       " 'id': 2,\n",
       " 'nisl': 1,\n",
       " 'vel,': 1,\n",
       " 'accumsan': 1,\n",
       " 'quam.': 1,\n",
       " 'non': 3,\n",
       " 'leo': 1,\n",
       " 'lacus.': 1,\n",
       " 'Cras': 1,\n",
       " 'dolor,': 1,\n",
       " 'eros': 1,\n",
       " 'iaculis': 1,\n",
       " 'nec.': 1,\n",
       " 'Mauris': 1,\n",
       " 'nibh': 1,\n",
       " 'vestibulum': 1,\n",
       " 'tristique.': 1,\n",
       " 'Ut': 1,\n",
       " 'ac': 1,\n",
       " 'libero': 1,\n",
       " 'commodo,': 1,\n",
       " 'dapibus': 1,\n",
       " 'sem': 1,\n",
       " 'euismod.': 1,\n",
       " 'luctus': 1,\n",
       " 'lacus,': 1,\n",
       " 'metus': 1,\n",
       " 'eget.': 1,\n",
       " 'Nam': 1,\n",
       " 'commodo': 1,\n",
       " 'aliquam.': 1}"
      ]
     },
     "execution_count": 39,
     "metadata": {},
     "output_type": "execute_result"
    }
   ],
   "source": [
    "words_count = {}\n",
    "for word in document.split(\" \"):\n",
    "    previous_count = words_count.get(word, 0)\n",
    "    words_count[word] = previous_count + 1\n",
    "\n",
    "words_count"
   ]
  },
  {
   "cell_type": "code",
   "execution_count": 40,
   "metadata": {},
   "outputs": [
    {
     "data": {
      "text/plain": [
       "defaultdict(int,\n",
       "            {'Lorem': 1,\n",
       "             'ipsum': 2,\n",
       "             'dolor': 1,\n",
       "             'sit': 1,\n",
       "             'amet,': 1,\n",
       "             'consectetur': 1,\n",
       "             'adipiscing': 1,\n",
       "             'elit.': 1,\n",
       "             'Proin': 1,\n",
       "             'sodales': 4,\n",
       "             'convallis': 1,\n",
       "             'quam': 1,\n",
       "             'eleifend': 1,\n",
       "             'hendrerit.': 1,\n",
       "             'In': 1,\n",
       "             'mollis': 1,\n",
       "             'imperdiet': 1,\n",
       "             'diam': 3,\n",
       "             'vitae': 3,\n",
       "             'dapibus.': 1,\n",
       "             'Curabitur': 1,\n",
       "             'ut': 1,\n",
       "             'tincidunt': 3,\n",
       "             'ipsum.': 1,\n",
       "             'Etiam': 2,\n",
       "             'lobortis': 1,\n",
       "             'odio': 3,\n",
       "             'viverra': 2,\n",
       "             'dui': 3,\n",
       "             'iaculis,': 1,\n",
       "             'et': 2,\n",
       "             'venenatis': 2,\n",
       "             'risus': 1,\n",
       "             'semper.': 1,\n",
       "             'Sed': 4,\n",
       "             'a': 1,\n",
       "             'suscipit': 1,\n",
       "             'mi.': 1,\n",
       "             'nec': 1,\n",
       "             'ante': 1,\n",
       "             'sagittis': 2,\n",
       "             'ultricies.': 1,\n",
       "             'Vivamus': 1,\n",
       "             'aliquam': 2,\n",
       "             'varius': 1,\n",
       "             'massa,': 1,\n",
       "             'ornare': 1,\n",
       "             'fringilla': 1,\n",
       "             'sapien': 1,\n",
       "             'sed.': 1,\n",
       "             'Nunc': 1,\n",
       "             'sagittis,': 1,\n",
       "             'urna': 1,\n",
       "             'euismod': 2,\n",
       "             'varius,': 1,\n",
       "             'posuere': 2,\n",
       "             'mauris,': 2,\n",
       "             'massa': 1,\n",
       "             'vel': 2,\n",
       "             'orci.': 1,\n",
       "             'volutpat': 1,\n",
       "             'tempus': 3,\n",
       "             'tortor': 1,\n",
       "             'quis': 1,\n",
       "             'dignissim.': 1,\n",
       "             'Nulla': 1,\n",
       "             'tristique': 1,\n",
       "             'id': 2,\n",
       "             'nisl': 1,\n",
       "             'vel,': 1,\n",
       "             'accumsan': 1,\n",
       "             'quam.': 1,\n",
       "             'non': 3,\n",
       "             'leo': 1,\n",
       "             'lacus.': 1,\n",
       "             'Cras': 1,\n",
       "             'dolor,': 1,\n",
       "             'eros': 1,\n",
       "             'iaculis': 1,\n",
       "             'nec.': 1,\n",
       "             'Mauris': 1,\n",
       "             'nibh': 1,\n",
       "             'vestibulum': 1,\n",
       "             'tristique.': 1,\n",
       "             'Ut': 1,\n",
       "             'ac': 1,\n",
       "             'libero': 1,\n",
       "             'commodo,': 1,\n",
       "             'dapibus': 1,\n",
       "             'sem': 1,\n",
       "             'euismod.': 1,\n",
       "             'luctus': 1,\n",
       "             'lacus,': 1,\n",
       "             'metus': 1,\n",
       "             'eget.': 1,\n",
       "             'Nam': 1,\n",
       "             'commodo': 1,\n",
       "             'aliquam.': 1})"
      ]
     },
     "execution_count": 40,
     "metadata": {},
     "output_type": "execute_result"
    }
   ],
   "source": [
    "words_count = defaultdict(int)\n",
    "for word in document.split(\" \"):\n",
    "    words_count[word] += 1\n",
    "\n",
    "words_count"
   ]
  },
  {
   "cell_type": "code",
   "execution_count": 41,
   "metadata": {},
   "outputs": [],
   "source": [
    "dd_list = defaultdict(list)\n",
    "dd_list[2].append(1)\n",
    "\n",
    "dd_dict = defaultdict(dict)\n",
    "dd_dict['Joel']['City'] = \"Seattle\"\n",
    "\n",
    "dd_pair = defaultdict(lambda: [0, 0])\n",
    "dd_pair[2][1] = 1"
   ]
  },
  {
   "cell_type": "markdown",
   "metadata": {},
   "source": [
    "## Contadores"
   ]
  },
  {
   "cell_type": "code",
   "execution_count": 42,
   "metadata": {},
   "outputs": [
    {
     "data": {
      "text/plain": [
       "Counter({0: 2, 1: 1, 2: 1})"
      ]
     },
     "execution_count": 42,
     "metadata": {},
     "output_type": "execute_result"
    }
   ],
   "source": [
    "c = Counter([0, 1, 2, 0])\n",
    "c"
   ]
  },
  {
   "cell_type": "code",
   "execution_count": 43,
   "metadata": {},
   "outputs": [
    {
     "data": {
      "text/plain": [
       "Counter({'sodales': 4,\n",
       "         'Sed': 4,\n",
       "         'diam': 3,\n",
       "         'vitae': 3,\n",
       "         'tincidunt': 3,\n",
       "         'odio': 3,\n",
       "         'dui': 3,\n",
       "         'tempus': 3,\n",
       "         'non': 3,\n",
       "         'ipsum': 2,\n",
       "         'Etiam': 2,\n",
       "         'viverra': 2,\n",
       "         'et': 2,\n",
       "         'venenatis': 2,\n",
       "         'sagittis': 2,\n",
       "         'aliquam': 2,\n",
       "         'euismod': 2,\n",
       "         'posuere': 2,\n",
       "         'mauris,': 2,\n",
       "         'vel': 2,\n",
       "         'id': 2,\n",
       "         'Lorem': 1,\n",
       "         'dolor': 1,\n",
       "         'sit': 1,\n",
       "         'amet,': 1,\n",
       "         'consectetur': 1,\n",
       "         'adipiscing': 1,\n",
       "         'elit.': 1,\n",
       "         'Proin': 1,\n",
       "         'convallis': 1,\n",
       "         'quam': 1,\n",
       "         'eleifend': 1,\n",
       "         'hendrerit.': 1,\n",
       "         'In': 1,\n",
       "         'mollis': 1,\n",
       "         'imperdiet': 1,\n",
       "         'dapibus.': 1,\n",
       "         'Curabitur': 1,\n",
       "         'ut': 1,\n",
       "         'ipsum.': 1,\n",
       "         'lobortis': 1,\n",
       "         'iaculis,': 1,\n",
       "         'risus': 1,\n",
       "         'semper.': 1,\n",
       "         'a': 1,\n",
       "         'suscipit': 1,\n",
       "         'mi.': 1,\n",
       "         'nec': 1,\n",
       "         'ante': 1,\n",
       "         'ultricies.': 1,\n",
       "         'Vivamus': 1,\n",
       "         'varius': 1,\n",
       "         'massa,': 1,\n",
       "         'ornare': 1,\n",
       "         'fringilla': 1,\n",
       "         'sapien': 1,\n",
       "         'sed.': 1,\n",
       "         'Nunc': 1,\n",
       "         'sagittis,': 1,\n",
       "         'urna': 1,\n",
       "         'varius,': 1,\n",
       "         'massa': 1,\n",
       "         'orci.': 1,\n",
       "         'volutpat': 1,\n",
       "         'tortor': 1,\n",
       "         'quis': 1,\n",
       "         'dignissim.': 1,\n",
       "         'Nulla': 1,\n",
       "         'tristique': 1,\n",
       "         'nisl': 1,\n",
       "         'vel,': 1,\n",
       "         'accumsan': 1,\n",
       "         'quam.': 1,\n",
       "         'leo': 1,\n",
       "         'lacus.': 1,\n",
       "         'Cras': 1,\n",
       "         'dolor,': 1,\n",
       "         'eros': 1,\n",
       "         'iaculis': 1,\n",
       "         'nec.': 1,\n",
       "         'Mauris': 1,\n",
       "         'nibh': 1,\n",
       "         'vestibulum': 1,\n",
       "         'tristique.': 1,\n",
       "         'Ut': 1,\n",
       "         'ac': 1,\n",
       "         'libero': 1,\n",
       "         'commodo,': 1,\n",
       "         'dapibus': 1,\n",
       "         'sem': 1,\n",
       "         'euismod.': 1,\n",
       "         'luctus': 1,\n",
       "         'lacus,': 1,\n",
       "         'metus': 1,\n",
       "         'eget.': 1,\n",
       "         'Nam': 1,\n",
       "         'commodo': 1,\n",
       "         'aliquam.': 1})"
      ]
     },
     "execution_count": 43,
     "metadata": {},
     "output_type": "execute_result"
    }
   ],
   "source": [
    "words_count = Counter(document.split(\" \"))\n",
    "words_count"
   ]
  },
  {
   "cell_type": "code",
   "execution_count": 44,
   "metadata": {},
   "outputs": [
    {
     "name": "stdout",
     "output_type": "stream",
     "text": [
      "sodales 4\n",
      "Sed 4\n",
      "diam 3\n",
      "vitae 3\n",
      "tincidunt 3\n",
      "odio 3\n",
      "dui 3\n",
      "tempus 3\n",
      "non 3\n",
      "ipsum 2\n"
     ]
    }
   ],
   "source": [
    "for word, count in words_count.most_common(10):\n",
    "    print(word, count)"
   ]
  },
  {
   "cell_type": "markdown",
   "metadata": {},
   "source": [
    "## Conjuntos"
   ]
  },
  {
   "cell_type": "code",
   "execution_count": 45,
   "metadata": {},
   "outputs": [
    {
     "name": "stdout",
     "output_type": "stream",
     "text": [
      "{2, 3, 5, 7} {1, 2} 2 True False\n"
     ]
    }
   ],
   "source": [
    "primes_below_10 = {2, 3, 5, 7}\n",
    "\n",
    "s = set()\n",
    "s.add(1)\n",
    "s.add(2)\n",
    "s.add(2)\n",
    "x = len(s)\n",
    "y = 2 in s\n",
    "z = 3 in s\n",
    "\n",
    "print(primes_below_10, s, x, y, z)"
   ]
  },
  {
   "cell_type": "code",
   "execution_count": 46,
   "metadata": {},
   "outputs": [
    {
     "name": "stdout",
     "output_type": "stream",
     "text": [
      "False False\n"
     ]
    }
   ],
   "source": [
    "stopword_list = ['a', 'an', 'at']\n",
    "stopword_set = set(stopword_list)\n",
    "print('zip' in stopword_list, 'zip' in stopword_set)"
   ]
  },
  {
   "cell_type": "markdown",
   "metadata": {},
   "source": [
    "## Fluxo de controle"
   ]
  },
  {
   "cell_type": "code",
   "execution_count": 47,
   "metadata": {},
   "outputs": [
    {
     "name": "stdout",
     "output_type": "stream",
     "text": [
      "when all else fails use else\n"
     ]
    }
   ],
   "source": [
    "if 1 > 2:\n",
    "    message = \"If only 1 were greater than 2...\"\n",
    "elif 1 > 3:\n",
    "    message = \"elif stands for else if\"\n",
    "else:\n",
    "    message = \"when all else fails use else\"\n",
    "\n",
    "print(message)"
   ]
  },
  {
   "cell_type": "code",
   "execution_count": 48,
   "metadata": {},
   "outputs": [
    {
     "name": "stdout",
     "output_type": "stream",
     "text": [
      "even\n"
     ]
    }
   ],
   "source": [
    "parity = \"even\" if x % 2 == 0 else \"odd\"\n",
    "print(parity)"
   ]
  },
  {
   "cell_type": "code",
   "execution_count": 49,
   "metadata": {},
   "outputs": [
    {
     "name": "stdout",
     "output_type": "stream",
     "text": [
      "0 is less than 10\n",
      "1 is less than 10\n",
      "2 is less than 10\n",
      "3 is less than 10\n",
      "4 is less than 10\n",
      "5 is less than 10\n",
      "6 is less than 10\n",
      "7 is less than 10\n",
      "8 is less than 10\n",
      "9 is less than 10\n"
     ]
    }
   ],
   "source": [
    "x = 0\n",
    "while x < 10:\n",
    "    print(f\"{x} is less than 10\")\n",
    "    x += 1"
   ]
  },
  {
   "cell_type": "code",
   "execution_count": 50,
   "metadata": {},
   "outputs": [
    {
     "name": "stdout",
     "output_type": "stream",
     "text": [
      "0 is less than 10\n",
      "1 is less than 10\n",
      "2 is less than 10\n",
      "3 is less than 10\n",
      "4 is less than 10\n",
      "5 is less than 10\n",
      "6 is less than 10\n",
      "7 is less than 10\n",
      "8 is less than 10\n",
      "9 is less than 10\n"
     ]
    }
   ],
   "source": [
    "for x in range(10):\n",
    "    print(f\"{x} is less than 10\")"
   ]
  },
  {
   "cell_type": "code",
   "execution_count": 51,
   "metadata": {},
   "outputs": [
    {
     "name": "stdout",
     "output_type": "stream",
     "text": [
      "0\n",
      "1\n",
      "2\n",
      "4\n"
     ]
    }
   ],
   "source": [
    "for x in range(10):\n",
    "    if x == 3:\n",
    "        continue\n",
    "    if x == 5:\n",
    "        break\n",
    "    print(x)"
   ]
  },
  {
   "cell_type": "markdown",
   "metadata": {},
   "source": [
    "## Veracidade"
   ]
  },
  {
   "cell_type": "code",
   "execution_count": 52,
   "metadata": {},
   "outputs": [
    {
     "name": "stdout",
     "output_type": "stream",
     "text": [
      "True False\n"
     ]
    }
   ],
   "source": [
    "one_is_less_than_two = 1 < 2\n",
    "true_equals_false = False == True\n",
    "print(one_is_less_than_two, true_equals_false)"
   ]
  },
  {
   "cell_type": "code",
   "execution_count": 53,
   "metadata": {},
   "outputs": [],
   "source": [
    "x = None\n",
    "assert x == None\n",
    "assert x is None"
   ]
  },
  {
   "cell_type": "code",
   "execution_count": 54,
   "metadata": {},
   "outputs": [
    {
     "name": "stdout",
     "output_type": "stream",
     "text": [
      "A\n"
     ]
    }
   ],
   "source": [
    "def some_function_that_returns_a_string():\n",
    "    return \"A string\"\n",
    "\n",
    "s = some_function_that_returns_a_string()\n",
    "\n",
    "if s:\n",
    "    first_char = s[0]\n",
    "else:\n",
    "    first_char = \"\"\n",
    "\n",
    "print(first_char)"
   ]
  },
  {
   "cell_type": "code",
   "execution_count": 55,
   "metadata": {},
   "outputs": [
    {
     "name": "stdout",
     "output_type": "stream",
     "text": [
      "A\n"
     ]
    }
   ],
   "source": [
    "first_char = s and s[0]\n",
    "print(first_char)"
   ]
  },
  {
   "cell_type": "code",
   "execution_count": 56,
   "metadata": {},
   "outputs": [
    {
     "name": "stdout",
     "output_type": "stream",
     "text": [
      "0\n"
     ]
    }
   ],
   "source": [
    "safe_x = x or 0\n",
    "print(safe_x)"
   ]
  },
  {
   "cell_type": "code",
   "execution_count": 57,
   "metadata": {},
   "outputs": [
    {
     "data": {
      "text/plain": [
       "0"
      ]
     },
     "execution_count": 57,
     "metadata": {},
     "output_type": "execute_result"
    }
   ],
   "source": [
    "safe_x = x if x is not None else 0\n",
    "safe_x"
   ]
  },
  {
   "cell_type": "code",
   "execution_count": 58,
   "metadata": {},
   "outputs": [
    {
     "name": "stdout",
     "output_type": "stream",
     "text": [
      "True\n",
      "False\n",
      "True\n",
      "True\n",
      "False\n"
     ]
    }
   ],
   "source": [
    "print(all([True, 1, {3}]))\n",
    "print(all([True, 1, []]))\n",
    "print(any([True, 1, []]))\n",
    "print(all([]))\n",
    "print(any([]))"
   ]
  },
  {
   "cell_type": "markdown",
   "metadata": {},
   "source": [
    "## Classificação"
   ]
  },
  {
   "cell_type": "code",
   "execution_count": 59,
   "metadata": {},
   "outputs": [
    {
     "data": {
      "text/plain": [
       "[1, 2, 3, 4]"
      ]
     },
     "execution_count": 59,
     "metadata": {},
     "output_type": "execute_result"
    }
   ],
   "source": [
    "x = [4, 1, 2, 3]\n",
    "y = sorted(x)\n",
    "x.sort()\n",
    "x"
   ]
  },
  {
   "cell_type": "code",
   "execution_count": 60,
   "metadata": {},
   "outputs": [
    {
     "data": {
      "text/plain": [
       "[-4, 3, -2, 1]"
      ]
     },
     "execution_count": 60,
     "metadata": {},
     "output_type": "execute_result"
    }
   ],
   "source": [
    "x = sorted([-4, 1, -2, 3], key = abs, reverse = True)\n",
    "x"
   ]
  },
  {
   "cell_type": "code",
   "execution_count": 61,
   "metadata": {},
   "outputs": [
    {
     "data": {
      "text/plain": [
       "[('sodales', 4),\n",
       " ('Sed', 4),\n",
       " ('diam', 3),\n",
       " ('vitae', 3),\n",
       " ('tincidunt', 3),\n",
       " ('odio', 3),\n",
       " ('dui', 3),\n",
       " ('tempus', 3),\n",
       " ('non', 3),\n",
       " ('ipsum', 2),\n",
       " ('Etiam', 2),\n",
       " ('viverra', 2),\n",
       " ('et', 2),\n",
       " ('venenatis', 2),\n",
       " ('sagittis', 2),\n",
       " ('aliquam', 2),\n",
       " ('euismod', 2),\n",
       " ('posuere', 2),\n",
       " ('mauris,', 2),\n",
       " ('vel', 2),\n",
       " ('id', 2),\n",
       " ('Lorem', 1),\n",
       " ('dolor', 1),\n",
       " ('sit', 1),\n",
       " ('amet,', 1),\n",
       " ('consectetur', 1),\n",
       " ('adipiscing', 1),\n",
       " ('elit.', 1),\n",
       " ('Proin', 1),\n",
       " ('convallis', 1),\n",
       " ('quam', 1),\n",
       " ('eleifend', 1),\n",
       " ('hendrerit.', 1),\n",
       " ('In', 1),\n",
       " ('mollis', 1),\n",
       " ('imperdiet', 1),\n",
       " ('dapibus.', 1),\n",
       " ('Curabitur', 1),\n",
       " ('ut', 1),\n",
       " ('ipsum.', 1),\n",
       " ('lobortis', 1),\n",
       " ('iaculis,', 1),\n",
       " ('risus', 1),\n",
       " ('semper.', 1),\n",
       " ('a', 1),\n",
       " ('suscipit', 1),\n",
       " ('mi.', 1),\n",
       " ('nec', 1),\n",
       " ('ante', 1),\n",
       " ('ultricies.', 1),\n",
       " ('Vivamus', 1),\n",
       " ('varius', 1),\n",
       " ('massa,', 1),\n",
       " ('ornare', 1),\n",
       " ('fringilla', 1),\n",
       " ('sapien', 1),\n",
       " ('sed.', 1),\n",
       " ('Nunc', 1),\n",
       " ('sagittis,', 1),\n",
       " ('urna', 1),\n",
       " ('varius,', 1),\n",
       " ('massa', 1),\n",
       " ('orci.', 1),\n",
       " ('volutpat', 1),\n",
       " ('tortor', 1),\n",
       " ('quis', 1),\n",
       " ('dignissim.', 1),\n",
       " ('Nulla', 1),\n",
       " ('tristique', 1),\n",
       " ('nisl', 1),\n",
       " ('vel,', 1),\n",
       " ('accumsan', 1),\n",
       " ('quam.', 1),\n",
       " ('leo', 1),\n",
       " ('lacus.', 1),\n",
       " ('Cras', 1),\n",
       " ('dolor,', 1),\n",
       " ('eros', 1),\n",
       " ('iaculis', 1),\n",
       " ('nec.', 1),\n",
       " ('Mauris', 1),\n",
       " ('nibh', 1),\n",
       " ('vestibulum', 1),\n",
       " ('tristique.', 1),\n",
       " ('Ut', 1),\n",
       " ('ac', 1),\n",
       " ('libero', 1),\n",
       " ('commodo,', 1),\n",
       " ('dapibus', 1),\n",
       " ('sem', 1),\n",
       " ('euismod.', 1),\n",
       " ('luctus', 1),\n",
       " ('lacus,', 1),\n",
       " ('metus', 1),\n",
       " ('eget.', 1),\n",
       " ('Nam', 1),\n",
       " ('commodo', 1),\n",
       " ('aliquam.', 1)]"
      ]
     },
     "execution_count": 61,
     "metadata": {},
     "output_type": "execute_result"
    }
   ],
   "source": [
    "wc = sorted(words_count.items(),\n",
    "            key = lambda word_and_count: word_and_count[1],\n",
    "            reverse = True)\n",
    "wc"
   ]
  },
  {
   "cell_type": "markdown",
   "metadata": {},
   "source": [
    "## List comprehension"
   ]
  },
  {
   "cell_type": "code",
   "execution_count": 62,
   "metadata": {},
   "outputs": [
    {
     "data": {
      "text/plain": [
       "[0, 2, 4]"
      ]
     },
     "execution_count": 62,
     "metadata": {},
     "output_type": "execute_result"
    }
   ],
   "source": [
    "even_numbers = [x for x in range(5) if x % 2 == 0]\n",
    "even_numbers"
   ]
  },
  {
   "cell_type": "code",
   "execution_count": 63,
   "metadata": {},
   "outputs": [
    {
     "data": {
      "text/plain": [
       "[0, 1, 4, 9, 16]"
      ]
     },
     "execution_count": 63,
     "metadata": {},
     "output_type": "execute_result"
    }
   ],
   "source": [
    "squares = [x * x for x in range(5)]\n",
    "squares"
   ]
  },
  {
   "cell_type": "code",
   "execution_count": 64,
   "metadata": {},
   "outputs": [
    {
     "data": {
      "text/plain": [
       "[0, 4, 16]"
      ]
     },
     "execution_count": 64,
     "metadata": {},
     "output_type": "execute_result"
    }
   ],
   "source": [
    "even_squares = [x * x for x in even_numbers]\n",
    "even_squares"
   ]
  },
  {
   "cell_type": "code",
   "execution_count": 65,
   "metadata": {},
   "outputs": [
    {
     "data": {
      "text/plain": [
       "{0: 0, 1: 1, 2: 4, 3: 9, 4: 16}"
      ]
     },
     "execution_count": 65,
     "metadata": {},
     "output_type": "execute_result"
    }
   ],
   "source": [
    "square_dicts = {x : x * x for x in range(5)}\n",
    "square_dicts"
   ]
  },
  {
   "cell_type": "code",
   "execution_count": 66,
   "metadata": {},
   "outputs": [
    {
     "data": {
      "text/plain": [
       "{1}"
      ]
     },
     "execution_count": 66,
     "metadata": {},
     "output_type": "execute_result"
    }
   ],
   "source": [
    "square_set = {x * x for x in [1, -1]}\n",
    "square_set"
   ]
  },
  {
   "cell_type": "code",
   "execution_count": 67,
   "metadata": {},
   "outputs": [
    {
     "data": {
      "text/plain": [
       "[0, 0, 0]"
      ]
     },
     "execution_count": 67,
     "metadata": {},
     "output_type": "execute_result"
    }
   ],
   "source": [
    "zeros = [0 for _ in even_numbers]\n",
    "zeros"
   ]
  },
  {
   "cell_type": "code",
   "execution_count": 68,
   "metadata": {},
   "outputs": [
    {
     "data": {
      "text/plain": [
       "[(0, 0),\n",
       " (0, 1),\n",
       " (0, 2),\n",
       " (0, 3),\n",
       " (0, 4),\n",
       " (0, 5),\n",
       " (0, 6),\n",
       " (0, 7),\n",
       " (0, 8),\n",
       " (0, 9),\n",
       " (1, 0),\n",
       " (1, 1),\n",
       " (1, 2),\n",
       " (1, 3),\n",
       " (1, 4),\n",
       " (1, 5),\n",
       " (1, 6),\n",
       " (1, 7),\n",
       " (1, 8),\n",
       " (1, 9),\n",
       " (2, 0),\n",
       " (2, 1),\n",
       " (2, 2),\n",
       " (2, 3),\n",
       " (2, 4),\n",
       " (2, 5),\n",
       " (2, 6),\n",
       " (2, 7),\n",
       " (2, 8),\n",
       " (2, 9),\n",
       " (3, 0),\n",
       " (3, 1),\n",
       " (3, 2),\n",
       " (3, 3),\n",
       " (3, 4),\n",
       " (3, 5),\n",
       " (3, 6),\n",
       " (3, 7),\n",
       " (3, 8),\n",
       " (3, 9),\n",
       " (4, 0),\n",
       " (4, 1),\n",
       " (4, 2),\n",
       " (4, 3),\n",
       " (4, 4),\n",
       " (4, 5),\n",
       " (4, 6),\n",
       " (4, 7),\n",
       " (4, 8),\n",
       " (4, 9),\n",
       " (5, 0),\n",
       " (5, 1),\n",
       " (5, 2),\n",
       " (5, 3),\n",
       " (5, 4),\n",
       " (5, 5),\n",
       " (5, 6),\n",
       " (5, 7),\n",
       " (5, 8),\n",
       " (5, 9),\n",
       " (6, 0),\n",
       " (6, 1),\n",
       " (6, 2),\n",
       " (6, 3),\n",
       " (6, 4),\n",
       " (6, 5),\n",
       " (6, 6),\n",
       " (6, 7),\n",
       " (6, 8),\n",
       " (6, 9),\n",
       " (7, 0),\n",
       " (7, 1),\n",
       " (7, 2),\n",
       " (7, 3),\n",
       " (7, 4),\n",
       " (7, 5),\n",
       " (7, 6),\n",
       " (7, 7),\n",
       " (7, 8),\n",
       " (7, 9),\n",
       " (8, 0),\n",
       " (8, 1),\n",
       " (8, 2),\n",
       " (8, 3),\n",
       " (8, 4),\n",
       " (8, 5),\n",
       " (8, 6),\n",
       " (8, 7),\n",
       " (8, 8),\n",
       " (8, 9),\n",
       " (9, 0),\n",
       " (9, 1),\n",
       " (9, 2),\n",
       " (9, 3),\n",
       " (9, 4),\n",
       " (9, 5),\n",
       " (9, 6),\n",
       " (9, 7),\n",
       " (9, 8),\n",
       " (9, 9)]"
      ]
     },
     "execution_count": 68,
     "metadata": {},
     "output_type": "execute_result"
    }
   ],
   "source": [
    "pairs = [(x, y) \n",
    "        for x in range(10)\n",
    "        for y in range(10)]\n",
    "pairs"
   ]
  },
  {
   "cell_type": "code",
   "execution_count": 69,
   "metadata": {},
   "outputs": [
    {
     "data": {
      "text/plain": [
       "[(0, 1),\n",
       " (0, 2),\n",
       " (0, 3),\n",
       " (0, 4),\n",
       " (0, 5),\n",
       " (0, 6),\n",
       " (0, 7),\n",
       " (0, 8),\n",
       " (0, 9),\n",
       " (1, 2),\n",
       " (1, 3),\n",
       " (1, 4),\n",
       " (1, 5),\n",
       " (1, 6),\n",
       " (1, 7),\n",
       " (1, 8),\n",
       " (1, 9),\n",
       " (2, 3),\n",
       " (2, 4),\n",
       " (2, 5),\n",
       " (2, 6),\n",
       " (2, 7),\n",
       " (2, 8),\n",
       " (2, 9),\n",
       " (3, 4),\n",
       " (3, 5),\n",
       " (3, 6),\n",
       " (3, 7),\n",
       " (3, 8),\n",
       " (3, 9),\n",
       " (4, 5),\n",
       " (4, 6),\n",
       " (4, 7),\n",
       " (4, 8),\n",
       " (4, 9),\n",
       " (5, 6),\n",
       " (5, 7),\n",
       " (5, 8),\n",
       " (5, 9),\n",
       " (6, 7),\n",
       " (6, 8),\n",
       " (6, 9),\n",
       " (7, 8),\n",
       " (7, 9),\n",
       " (8, 9)]"
      ]
     },
     "execution_count": 69,
     "metadata": {},
     "output_type": "execute_result"
    }
   ],
   "source": [
    "increasing_pairs = [(x, y)\n",
    "                    for x in range(10)\n",
    "                    for y in range(x + 1, 10)]\n",
    "increasing_pairs"
   ]
  },
  {
   "cell_type": "markdown",
   "metadata": {},
   "source": [
    "## Testes automatizados e asserção"
   ]
  },
  {
   "cell_type": "code",
   "execution_count": 70,
   "metadata": {},
   "outputs": [],
   "source": [
    "assert 1 + 1 == 2\n",
    "assert 1 + 1 == 2, \"1 + 1 should be equal 2, but didn't\""
   ]
  },
  {
   "cell_type": "code",
   "execution_count": 71,
   "metadata": {},
   "outputs": [],
   "source": [
    "def smallest_item(xs):\n",
    "    return min(xs)\n",
    "\n",
    "assert smallest_item([10, 20, 5, 40]) == 5\n",
    "assert smallest_item([1, 0, -1, 2]) == -1"
   ]
  },
  {
   "cell_type": "code",
   "execution_count": 72,
   "metadata": {},
   "outputs": [],
   "source": [
    "def smallest_item(xs):\n",
    "    assert xs, \"empty list has no smallest item\"\n",
    "    return min(xs)"
   ]
  },
  {
   "cell_type": "markdown",
   "metadata": {},
   "source": [
    "## Programação orientada a objetos"
   ]
  },
  {
   "cell_type": "code",
   "execution_count": 73,
   "metadata": {},
   "outputs": [],
   "source": [
    "class CountingClicker:\n",
    "    \n",
    "    def _init_(self, count = 0):\n",
    "        self.count = count\n",
    "\n",
    "    def _repr_(self):\n",
    "        return f\"CountingClicker(count = {self.count})\"\n",
    "    \n",
    "    def click(self, num_times = 1):\n",
    "        self.count += num_times\n",
    "    \n",
    "    def read(self):\n",
    "        return self.count\n",
    "    \n",
    "    def reset(self):\n",
    "        self.count = 0"
   ]
  },
  {
   "cell_type": "code",
   "execution_count": 74,
   "metadata": {},
   "outputs": [],
   "source": [
    "class NoResetClicker(CountingClicker):\n",
    "    def reset(self):\n",
    "        pass"
   ]
  },
  {
   "cell_type": "code",
   "execution_count": 75,
   "metadata": {},
   "outputs": [],
   "source": [
    "clicker2 = NoResetClicker()"
   ]
  },
  {
   "cell_type": "markdown",
   "metadata": {},
   "source": [
    "## Iteráveis e geradores"
   ]
  },
  {
   "cell_type": "code",
   "execution_count": 76,
   "metadata": {},
   "outputs": [],
   "source": [
    "def generate_range(n):\n",
    "    i = 0\n",
    "    while i < n:\n",
    "        yield i\n",
    "        i += 1"
   ]
  },
  {
   "cell_type": "code",
   "execution_count": 77,
   "metadata": {},
   "outputs": [
    {
     "name": "stdout",
     "output_type": "stream",
     "text": [
      "i: 0\n",
      "i: 1\n",
      "i: 2\n",
      "i: 3\n",
      "i: 4\n",
      "i: 5\n",
      "i: 6\n",
      "i: 7\n",
      "i: 8\n",
      "i: 9\n"
     ]
    }
   ],
   "source": [
    "for i in generate_range(10):\n",
    "    print(f\"i: {i}\")"
   ]
  },
  {
   "cell_type": "code",
   "execution_count": 78,
   "metadata": {},
   "outputs": [],
   "source": [
    "def natural_numbers():\n",
    "    n = 1\n",
    "    while True:\n",
    "        yield n\n",
    "        n += 1"
   ]
  },
  {
   "cell_type": "code",
   "execution_count": 79,
   "metadata": {},
   "outputs": [
    {
     "data": {
      "text/plain": [
       "<generator object <genexpr> at 0x7fcbe5fdd070>"
      ]
     },
     "execution_count": 79,
     "metadata": {},
     "output_type": "execute_result"
    }
   ],
   "source": [
    "evens_below_20 = (i for i in generate_range(20) if i % 2 == 0)\n",
    "evens_below_20"
   ]
  },
  {
   "cell_type": "code",
   "execution_count": 80,
   "metadata": {},
   "outputs": [
    {
     "name": "stdout",
     "output_type": "stream",
     "text": [
      "<generator object natural_numbers at 0x7fcbe5fdd230> \n",
      " <generator object <genexpr> at 0x7fcbe5fdd2a0> \n",
      " <generator object <genexpr> at 0x7fcbe5fdd310> \n",
      " <generator object <genexpr> at 0x7fcbe5fdd380>\n"
     ]
    }
   ],
   "source": [
    "data = natural_numbers()\n",
    "evens = (x for x in data if x % 2 == 0)\n",
    "even_squares = (x ** 2 for x in evens)\n",
    "even_squares_ending_in_six = (x for x in even_squares if x % 10 == 6)\n",
    "print(data, \"\\n\", evens, \"\\n\", even_squares, \"\\n\", even_squares_ending_in_six)"
   ]
  },
  {
   "cell_type": "code",
   "execution_count": 81,
   "metadata": {},
   "outputs": [
    {
     "name": "stdout",
     "output_type": "stream",
     "text": [
      "name 0 is Alice\n",
      "name 1 is Bob\n",
      "name 2 is Charlie\n",
      "name 3 is Debbie\n",
      "\n",
      "\n",
      "name 0 in Alice\n",
      "name 1 in Bob\n",
      "name 2 in Charlie\n",
      "name 3 in Debbie\n",
      "\n",
      "\n",
      "name 0 is Alice\n",
      "name 1 is Bob\n",
      "name 2 is Charlie\n",
      "name 3 is Debbie\n"
     ]
    }
   ],
   "source": [
    "names = ['Alice', 'Bob', 'Charlie', 'Debbie']\n",
    "\n",
    "# Não é pythonico\n",
    "for i in range(len(names)):\n",
    "    print(f\"name {i} is {names[i]}\")\n",
    "\n",
    "# Também não é pythonico \n",
    "i = 0\n",
    "print(\"\\n\")\n",
    "for name in names:\n",
    "    print(f\"name {i} in {names[i]}\")\n",
    "    i += 1\n",
    "\n",
    "# Pythonico\n",
    "print(\"\\n\")\n",
    "for i, name in enumerate(names):\n",
    "    print(f\"name {i} is {name}\")"
   ]
  },
  {
   "cell_type": "markdown",
   "metadata": {},
   "source": [
    "## Aleatoriedade"
   ]
  },
  {
   "cell_type": "code",
   "execution_count": 82,
   "metadata": {},
   "outputs": [
    {
     "data": {
      "text/plain": [
       "[0.5714025946899135,\n",
       " 0.4288890546751146,\n",
       " 0.5780913011344704,\n",
       " 0.20609823213950174]"
      ]
     },
     "execution_count": 82,
     "metadata": {},
     "output_type": "execute_result"
    }
   ],
   "source": [
    "random.seed(10)\n",
    "\n",
    "four_uniform_randoms = [random.random() for _ in range(4)]\n",
    "four_uniform_randoms"
   ]
  },
  {
   "cell_type": "code",
   "execution_count": 83,
   "metadata": {},
   "outputs": [
    {
     "name": "stdout",
     "output_type": "stream",
     "text": [
      "0.5714025946899135\n",
      "0.5714025946899135\n"
     ]
    }
   ],
   "source": [
    "random.seed(10)\n",
    "print(random.random())\n",
    "random.seed(10)\n",
    "print(random.random())"
   ]
  },
  {
   "cell_type": "code",
   "execution_count": 84,
   "metadata": {},
   "outputs": [
    {
     "name": "stdout",
     "output_type": "stream",
     "text": [
      "6\n",
      "4\n"
     ]
    }
   ],
   "source": [
    "range_10 = random.randrange(10)\n",
    "print(range_10)\n",
    "range_3_6 = random.randrange(3, 6)\n",
    "print(range_3_6)"
   ]
  },
  {
   "cell_type": "code",
   "execution_count": 85,
   "metadata": {},
   "outputs": [
    {
     "data": {
      "text/plain": [
       "[5, 6, 9, 2, 3, 7, 8, 4, 1, 10]"
      ]
     },
     "execution_count": 85,
     "metadata": {},
     "output_type": "execute_result"
    }
   ],
   "source": [
    "up_to_ten = [1, 2, 3, 4, 5, 6, 7, 8, 9, 10]\n",
    "random.shuffle(up_to_ten)\n",
    "up_to_ten"
   ]
  },
  {
   "cell_type": "code",
   "execution_count": 86,
   "metadata": {},
   "outputs": [
    {
     "data": {
      "text/plain": [
       "'Bob'"
      ]
     },
     "execution_count": 86,
     "metadata": {},
     "output_type": "execute_result"
    }
   ],
   "source": [
    "my_best_friend = random.choice(['Alice', 'Bob', 'Charlie'])\n",
    "my_best_friend"
   ]
  },
  {
   "cell_type": "code",
   "execution_count": 87,
   "metadata": {},
   "outputs": [
    {
     "data": {
      "text/plain": [
       "[4, 15, 47, 23, 2, 26]"
      ]
     },
     "execution_count": 87,
     "metadata": {},
     "output_type": "execute_result"
    }
   ],
   "source": [
    "lottery_numbers = range(60)\n",
    "winning_numbers = random.sample(lottery_numbers, 6)\n",
    "winning_numbers"
   ]
  },
  {
   "cell_type": "code",
   "execution_count": 88,
   "metadata": {},
   "outputs": [
    {
     "data": {
      "text/plain": [
       "[2, 9, 5, 6]"
      ]
     },
     "execution_count": 88,
     "metadata": {},
     "output_type": "execute_result"
    }
   ],
   "source": [
    "four_with_replacement = [random.choice(range(10)) for _ in range(4)]\n",
    "four_with_replacement"
   ]
  },
  {
   "cell_type": "markdown",
   "metadata": {},
   "source": [
    "## Expressões regulares"
   ]
  },
  {
   "cell_type": "code",
   "execution_count": 89,
   "metadata": {},
   "outputs": [],
   "source": [
    "re_examples = [\n",
    "    not re.match(\"a\", \"cat\"),\n",
    "    re.search(\"a\", \"cat\"),\n",
    "    not re.search(\"c\", \"dog\"),\n",
    "    3 == len(re.split(\"[ab]\", \"carbs\")),\n",
    "    \"R-D-\" == re.sub(\"[0-9]\", \"-\", \"R2D2\")\n",
    "]\n",
    "\n",
    "assert all(re_examples)"
   ]
  },
  {
   "cell_type": "markdown",
   "metadata": {},
   "source": [
    "## zip e descompactação de argumentos"
   ]
  },
  {
   "cell_type": "code",
   "execution_count": 90,
   "metadata": {},
   "outputs": [
    {
     "data": {
      "text/plain": [
       "[('a', 1), ('b', 2), ('c', 3)]"
      ]
     },
     "execution_count": 90,
     "metadata": {},
     "output_type": "execute_result"
    }
   ],
   "source": [
    "list1 = ['a', 'b', 'c']\n",
    "list2 = [1, 2, 3]\n",
    "\n",
    "[pair for pair in zip(list1, list2)]"
   ]
  },
  {
   "cell_type": "code",
   "execution_count": 91,
   "metadata": {},
   "outputs": [
    {
     "name": "stdout",
     "output_type": "stream",
     "text": [
      "('a', 'b', 'c') (1, 2, 3)\n"
     ]
    }
   ],
   "source": [
    "pairs = [('a', 1), ('b', 2), ('c', 3)]\n",
    "letters, numbers = zip(*pairs)\n",
    "print(letters, numbers)"
   ]
  },
  {
   "cell_type": "code",
   "execution_count": 92,
   "metadata": {},
   "outputs": [
    {
     "data": {
      "text/plain": [
       "3"
      ]
     },
     "execution_count": 92,
     "metadata": {},
     "output_type": "execute_result"
    }
   ],
   "source": [
    "def add(a, b) : return a + b\n",
    "\n",
    "add(1, 2)"
   ]
  },
  {
   "cell_type": "code",
   "execution_count": 93,
   "metadata": {},
   "outputs": [
    {
     "name": "stdout",
     "output_type": "stream",
     "text": [
      "add expects two inputs\n"
     ]
    }
   ],
   "source": [
    "try:\n",
    "    add([1, 2])\n",
    "except TypeError:\n",
    "    print(\"add expects two inputs\")"
   ]
  },
  {
   "cell_type": "code",
   "execution_count": 94,
   "metadata": {},
   "outputs": [
    {
     "data": {
      "text/plain": [
       "3"
      ]
     },
     "execution_count": 94,
     "metadata": {},
     "output_type": "execute_result"
    }
   ],
   "source": [
    "add(*[1, 2])"
   ]
  },
  {
   "cell_type": "markdown",
   "metadata": {},
   "source": [
    "## args e kwargs"
   ]
  },
  {
   "cell_type": "code",
   "execution_count": 95,
   "metadata": {},
   "outputs": [
    {
     "data": {
      "text/plain": [
       "8"
      ]
     },
     "execution_count": 95,
     "metadata": {},
     "output_type": "execute_result"
    }
   ],
   "source": [
    "def doubler(f):\n",
    "    def g(x):\n",
    "        return 2 * f(x)\n",
    "    return g\n",
    "\n",
    "def f1(x):\n",
    "    return x + 1\n",
    "\n",
    "g = doubler(f1)\n",
    "g3 = g(3)\n",
    "g3"
   ]
  },
  {
   "cell_type": "code",
   "execution_count": 96,
   "metadata": {},
   "outputs": [
    {
     "name": "stdout",
     "output_type": "stream",
     "text": [
      "As defined, g only takes one argument\n"
     ]
    }
   ],
   "source": [
    "def f2(x, y):\n",
    "    return x + y\n",
    "\n",
    "g = doubler(f2)\n",
    "\n",
    "try:\n",
    "    g(1, 2)\n",
    "except TypeError:\n",
    "    print(\"As defined, g only takes one argument\")"
   ]
  },
  {
   "cell_type": "code",
   "execution_count": 97,
   "metadata": {},
   "outputs": [
    {
     "name": "stdout",
     "output_type": "stream",
     "text": [
      "unnamed args: (1, 2)\n",
      "keywords args: {'key': 'word', 'key2': 'word2'}\n"
     ]
    }
   ],
   "source": [
    "def magic(*args, **kwargs):\n",
    "    print(\"unnamed args:\", args)\n",
    "    print(\"keywords args:\", kwargs)\n",
    "\n",
    "magic(1, 2, key = \"word\", key2 = \"word2\")"
   ]
  },
  {
   "cell_type": "code",
   "execution_count": 98,
   "metadata": {},
   "outputs": [],
   "source": [
    "def other_way_magic(x, y, z):\n",
    "    return x + y + z\n",
    "\n",
    "x_y_list = [1, 2]\n",
    "z_dict = {\"z\": 3}\n",
    "assert other_way_magic(*x_y_list, **z_dict) == 6, \"1 + 2 + 3 should be 6\""
   ]
  },
  {
   "cell_type": "code",
   "execution_count": 99,
   "metadata": {},
   "outputs": [
    {
     "data": {
      "text/plain": [
       "6"
      ]
     },
     "execution_count": 99,
     "metadata": {},
     "output_type": "execute_result"
    }
   ],
   "source": [
    "def double_correct(f):\n",
    "    def g(*args, **kwargs):\n",
    "        return 2 * f(*args, **kwargs)\n",
    "    return g\n",
    "\n",
    "g = double_correct(f2)\n",
    "g(1, 2)"
   ]
  },
  {
   "cell_type": "markdown",
   "metadata": {},
   "source": [
    "## Anotações de tipo"
   ]
  },
  {
   "cell_type": "code",
   "execution_count": 100,
   "metadata": {},
   "outputs": [
    {
     "name": "stdout",
     "output_type": "stream",
     "text": [
      "True\n",
      "True\n",
      "True\n",
      "Cannot add an int to a string\n"
     ]
    }
   ],
   "source": [
    "def add(a, b):\n",
    "    return a + b\n",
    "\n",
    "print(add(10, 5) == 15)\n",
    "print(add([1, 2], [3]) == [1, 2, 3])\n",
    "print(add(\"hi \", \"there\") == \"hi there\")\n",
    "\n",
    "try:\n",
    "    add(10, \"five\")\n",
    "except TypeError:\n",
    "    print(\"Cannot add an int to a string\")"
   ]
  },
  {
   "cell_type": "code",
   "execution_count": 101,
   "metadata": {},
   "outputs": [
    {
     "name": "stdout",
     "output_type": "stream",
     "text": [
      "True\n",
      "True\n"
     ]
    }
   ],
   "source": [
    "def add(a: int, b: int) -> int:\n",
    "    return a + b\n",
    "\n",
    "print(add(10, 5) == 15)\n",
    "print(add([1, 2], [3]) == [1, 2, 3])"
   ]
  },
  {
   "cell_type": "markdown",
   "metadata": {},
   "source": [
    "## Como escrever anotações de tipo"
   ]
  },
  {
   "cell_type": "code",
   "execution_count": 102,
   "metadata": {},
   "outputs": [],
   "source": [
    "def total(xs: list) -> float:\n",
    "    return sum(total)\n",
    "\n",
    "x: int = 5"
   ]
  },
  {
   "cell_type": "code",
   "execution_count": 103,
   "metadata": {},
   "outputs": [
    {
     "data": {
      "text/plain": [
       "{'data': 1, 'science': 2}"
      ]
     },
     "execution_count": 103,
     "metadata": {},
     "output_type": "execute_result"
    }
   ],
   "source": [
    "values : List[int] = []\n",
    "best_so_far = Optional[float]\n",
    "\n",
    "count: Dict[str, int] = {'data': 1, 'science': 2}\n",
    "\n",
    "count"
   ]
  },
  {
   "cell_type": "code",
   "execution_count": 104,
   "metadata": {},
   "outputs": [
    {
     "data": {
      "text/plain": [
       "<generator object <genexpr> at 0x7fcbe5fde500>"
      ]
     },
     "execution_count": 104,
     "metadata": {},
     "output_type": "execute_result"
    }
   ],
   "source": [
    "lazy = True\n",
    "if lazy:\n",
    "    evens: Iterable[int] = (x for x in range(10) if x % 2 == 0)\n",
    "else:\n",
    "    evens = [0, 2, 4, 6, 8]\n",
    "\n",
    "evens"
   ]
  },
  {
   "cell_type": "code",
   "execution_count": 105,
   "metadata": {},
   "outputs": [
    {
     "data": {
      "text/plain": [
       "(10, 2.3, 5)"
      ]
     },
     "execution_count": 105,
     "metadata": {},
     "output_type": "execute_result"
    }
   ],
   "source": [
    "triple: Tuple[int, float, int] = (10, 2.3, 5)\n",
    "triple"
   ]
  },
  {
   "cell_type": "code",
   "execution_count": 106,
   "metadata": {},
   "outputs": [
    {
     "name": "stdout",
     "output_type": "stream",
     "text": [
      "True\n"
     ]
    }
   ],
   "source": [
    "def twice(repeater : Callable[[str, int], str], s : str) -> str:\n",
    "    return repeater(s, 2)\n",
    "\n",
    "def comma_repeater(s: str, n: int) -> str:\n",
    "    n_copies = [s for _ in range(n)]\n",
    "    return \", \".join(n_copies)\n",
    "\n",
    "print(twice(comma_repeater, \"type hints\") == \"type hints, type hints\")"
   ]
  },
  {
   "cell_type": "code",
   "execution_count": 107,
   "metadata": {},
   "outputs": [
    {
     "data": {
      "text/plain": [
       "typing.List[int]"
      ]
     },
     "execution_count": 107,
     "metadata": {},
     "output_type": "execute_result"
    }
   ],
   "source": [
    "Number = int\n",
    "Numbers = List[Number]\n",
    "\n",
    "Numbers"
   ]
  },
  {
   "cell_type": "code",
   "execution_count": 108,
   "metadata": {},
   "outputs": [],
   "source": [
    "def total(xs: Numbers) -> Number:\n",
    "    return sum(xs)"
   ]
  }
 ],
 "metadata": {
  "kernelspec": {
   "display_name": "Python 3",
   "language": "python",
   "name": "python3"
  },
  "language_info": {
   "codemirror_mode": {
    "name": "ipython",
    "version": 3
   },
   "file_extension": ".py",
   "mimetype": "text/x-python",
   "name": "python",
   "nbconvert_exporter": "python",
   "pygments_lexer": "ipython3",
   "version": "3.10.12"
  }
 },
 "nbformat": 4,
 "nbformat_minor": 2
}
