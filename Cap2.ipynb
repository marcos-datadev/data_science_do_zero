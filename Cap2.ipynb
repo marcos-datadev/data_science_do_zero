{
 "cells": [
  {
   "cell_type": "markdown",
   "metadata": {},
   "source": [
    "# Capítulo 2 - Um curso intensivo de Python"
   ]
  },
  {
   "cell_type": "markdown",
   "metadata": {},
   "source": [
    "Esse capítulo busca introduzir ao usuário a linguagem Python."
   ]
  },
  {
   "cell_type": "code",
   "execution_count": 42,
   "metadata": {},
   "outputs": [],
   "source": [
    "from collections import defaultdict, Counter\n"
   ]
  },
  {
   "cell_type": "markdown",
   "metadata": {},
   "source": [
    "## Formatação e espaço em branco"
   ]
  },
  {
   "cell_type": "code",
   "execution_count": 43,
   "metadata": {},
   "outputs": [
    {
     "name": "stdout",
     "output_type": "stream",
     "text": [
      "1\n",
      "1\n",
      "2\n",
      "2\n",
      "3\n",
      "3\n",
      "4\n",
      "4\n",
      "5\n",
      "5\n",
      "6\n",
      "1\n",
      "2\n",
      "1\n",
      "3\n",
      "2\n",
      "4\n",
      "3\n",
      "5\n",
      "4\n",
      "6\n",
      "5\n",
      "7\n",
      "2\n",
      "3\n",
      "1\n",
      "4\n",
      "2\n",
      "5\n",
      "3\n",
      "6\n",
      "4\n",
      "7\n",
      "5\n",
      "8\n",
      "3\n",
      "4\n",
      "1\n",
      "5\n",
      "2\n",
      "6\n",
      "3\n",
      "7\n",
      "4\n",
      "8\n",
      "5\n",
      "9\n",
      "4\n",
      "5\n",
      "1\n",
      "6\n",
      "2\n",
      "7\n",
      "3\n",
      "8\n",
      "4\n",
      "9\n",
      "5\n",
      "10\n",
      "5\n",
      "Concluído\n"
     ]
    }
   ],
   "source": [
    "for i in [1, 2, 3, 4, 5]:\n",
    "    print(i)\n",
    "    for j in [1, 2, 3, 4, 5]:\n",
    "        print(j)\n",
    "        print(i + j)\n",
    "    print(i)\n",
    "print(\"Concluído\")"
   ]
  },
  {
   "cell_type": "code",
   "execution_count": 44,
   "metadata": {},
   "outputs": [
    {
     "data": {
      "text/plain": [
       "210"
      ]
     },
     "execution_count": 44,
     "metadata": {},
     "output_type": "execute_result"
    }
   ],
   "source": [
    "calculo_longo = (1 + 2 + 3 + 4 + 5 + 6 + 7 + 8 + 9 + 10 + 11 + 12 + 13 + 14 + 15 + 16 + 17 + 18 + 19 + 20)\n",
    "calculo_longo"
   ]
  },
  {
   "cell_type": "code",
   "execution_count": 45,
   "metadata": {},
   "outputs": [],
   "source": [
    "lista_de_lista = [[1, 2, 3],\n",
    "                  [4, 5, 6],\n",
    "                  [7, 8, 9]]"
   ]
  },
  {
   "cell_type": "markdown",
   "metadata": {},
   "source": [
    "## Módulos"
   ]
  },
  {
   "cell_type": "code",
   "execution_count": 46,
   "metadata": {},
   "outputs": [],
   "source": [
    "import re\n",
    "my_regex = re.compile(\"[0-9]+\", re.I)"
   ]
  },
  {
   "cell_type": "code",
   "execution_count": 47,
   "metadata": {},
   "outputs": [],
   "source": [
    "lookup = defaultdict(int)\n",
    "my_counter = Counter()"
   ]
  },
  {
   "cell_type": "code",
   "execution_count": 48,
   "metadata": {},
   "outputs": [
    {
     "name": "stdout",
     "output_type": "stream",
     "text": [
      "<function match at 0x7f0909bcc8b0>\n"
     ]
    }
   ],
   "source": [
    "match = 10\n",
    "from re import *\n",
    "print(match)"
   ]
  },
  {
   "cell_type": "markdown",
   "metadata": {},
   "source": [
    "## Funções"
   ]
  },
  {
   "cell_type": "code",
   "execution_count": 49,
   "metadata": {},
   "outputs": [],
   "source": [
    "def double(x):\n",
    "    return x * 2\n",
    "\n",
    "def apply_to_one(f):\n",
    "    return f(1)"
   ]
  },
  {
   "cell_type": "code",
   "execution_count": 50,
   "metadata": {},
   "outputs": [
    {
     "name": "stdout",
     "output_type": "stream",
     "text": [
      "2\n",
      "5\n"
     ]
    }
   ],
   "source": [
    "my_double = double\n",
    "x = apply_to_one(my_double)\n",
    "y = apply_to_one(lambda x: x + 4)\n",
    "print(x)\n",
    "print(y)"
   ]
  },
  {
   "cell_type": "code",
   "execution_count": 51,
   "metadata": {},
   "outputs": [
    {
     "name": "stdout",
     "output_type": "stream",
     "text": [
      "Hello\n",
      "My default message\n"
     ]
    }
   ],
   "source": [
    "def another_double(x):\n",
    "    return 2 * x\n",
    "\n",
    "def my_print(message = \"My default message\"):\n",
    "    print(message)\n",
    "\n",
    "my_print(\"Hello\")\n",
    "my_print()"
   ]
  },
  {
   "cell_type": "code",
   "execution_count": 52,
   "metadata": {},
   "outputs": [
    {
     "name": "stdout",
     "output_type": "stream",
     "text": [
      "Joel Grus\n",
      "Joel something\n",
      "What's-his-name Grus\n"
     ]
    }
   ],
   "source": [
    "def full_name(first = \"What's-his-name\", last = \"something\"):\n",
    "    return first + \" \" + last\n",
    "\n",
    "print(full_name(\"Joel\", \"Grus\"))\n",
    "print(full_name(\"Joel\"))\n",
    "print(full_name(last = \"Grus\"))"
   ]
  },
  {
   "cell_type": "markdown",
   "metadata": {},
   "source": [
    "## Strings"
   ]
  },
  {
   "cell_type": "code",
   "execution_count": 53,
   "metadata": {},
   "outputs": [
    {
     "data": {
      "text/plain": [
       "1"
      ]
     },
     "execution_count": 53,
     "metadata": {},
     "output_type": "execute_result"
    }
   ],
   "source": [
    "single_quoted_string = 'data science'\n",
    "double_quoted_string = \"data science\"\n",
    "\n",
    "tab_string = \"\\t\"\n",
    "len(tab_string)"
   ]
  },
  {
   "cell_type": "code",
   "execution_count": 54,
   "metadata": {},
   "outputs": [
    {
     "data": {
      "text/plain": [
       "'\\\\t'"
      ]
     },
     "execution_count": 54,
     "metadata": {},
     "output_type": "execute_result"
    }
   ],
   "source": [
    "not_tab_string = r\"\\t\"\n",
    "not_tab_string"
   ]
  },
  {
   "cell_type": "code",
   "execution_count": 55,
   "metadata": {},
   "outputs": [
    {
     "data": {
      "text/plain": [
       "'\"Esta é\\numa string\\ncomposta por\\nvárias linhas'"
      ]
     },
     "execution_count": 55,
     "metadata": {},
     "output_type": "execute_result"
    }
   ],
   "source": [
    "multi_len_string = \"\"\"\"Esta é\n",
    "uma string\n",
    "composta por\n",
    "várias linhas\"\"\"\n",
    "\n",
    "multi_len_string"
   ]
  },
  {
   "cell_type": "code",
   "execution_count": 56,
   "metadata": {},
   "outputs": [
    {
     "name": "stdout",
     "output_type": "stream",
     "text": [
      "Joel Gaus \n",
      " Joel Gaus \n",
      " Joel Gaus\n"
     ]
    }
   ],
   "source": [
    "first_name = \"Joel\"\n",
    "last_name = \"Gaus\"\n",
    "full_name_1 = first_name + \" \" + last_name\n",
    "full_name_2 = \"{0} {1}\".format(first_name, last_name)\n",
    "full_name_3 = f\"{first_name} {last_name}\"\n",
    "print(full_name_1, \"\\n\", full_name_2, \"\\n\", full_name_3)"
   ]
  },
  {
   "cell_type": "markdown",
   "metadata": {},
   "source": [
    "## Exceções"
   ]
  },
  {
   "cell_type": "code",
   "execution_count": 57,
   "metadata": {},
   "outputs": [
    {
     "name": "stdout",
     "output_type": "stream",
     "text": [
      "Cannot divide by zero\n"
     ]
    }
   ],
   "source": [
    "try:\n",
    "    print(0 / 0)\n",
    "except ZeroDivisionError:\n",
    "    print(\"Cannot divide by zero\")"
   ]
  },
  {
   "cell_type": "markdown",
   "metadata": {},
   "source": [
    "## Listas"
   ]
  },
  {
   "cell_type": "code",
   "execution_count": 58,
   "metadata": {},
   "outputs": [
    {
     "name": "stdout",
     "output_type": "stream",
     "text": [
      "3 6\n"
     ]
    }
   ],
   "source": [
    "integer_list = [1, 2, 3]\n",
    "heterogeneous_list = [\"string\", 0.1, True]\n",
    "list_of_lists = [integer_list, heterogeneous_list, []]\n",
    "\n",
    "list_length = len(integer_list)\n",
    "list_sum = sum(integer_list)\n",
    "\n",
    "print(list_length, list_sum)"
   ]
  },
  {
   "cell_type": "code",
   "execution_count": 59,
   "metadata": {},
   "outputs": [
    {
     "name": "stdout",
     "output_type": "stream",
     "text": [
      "0 1 9 8 [-1, 1, 2, 3, 4, 5, 6, 7, 8, 9]\n"
     ]
    }
   ],
   "source": [
    "x = [0, 1, 2, 3, 4, 5, 6, 7, 8, 9]\n",
    "zero = x[0]\n",
    "one = x[1]\n",
    "nine = x[-1]\n",
    "eight = x[-2]\n",
    "x[0] = -1\n",
    "\n",
    "print(zero, one, nine, eight, x)"
   ]
  },
  {
   "cell_type": "code",
   "execution_count": 60,
   "metadata": {},
   "outputs": [
    {
     "name": "stdout",
     "output_type": "stream",
     "text": [
      "[-1, 1, 2] \n",
      " [3, 4, 5, 6, 7, 8, 9] \n",
      " [1, 2, 3, 4] \n",
      " [7, 8, 9] \n",
      " [1, 2, 3, 4, 5, 6, 7, 8] \n",
      " [-1, 1, 2, 3, 4, 5, 6, 7, 8, 9]\n"
     ]
    }
   ],
   "source": [
    "first_three = x[:3]\n",
    "three_to_end = x[3:]\n",
    "one_to_four = x[1:5]\n",
    "last_three = x[-3:]\n",
    "without_first_and_last = x[1:-1]\n",
    "copy_of_x = x[:]\n",
    "\n",
    "print(first_three, \"\\n\", three_to_end, \"\\n\", one_to_four, \"\\n\", last_three, \"\\n\", without_first_and_last, \"\\n\", copy_of_x)"
   ]
  },
  {
   "cell_type": "code",
   "execution_count": 61,
   "metadata": {},
   "outputs": [
    {
     "name": "stdout",
     "output_type": "stream",
     "text": [
      "[-1, 3, 6, 9] [5, 4, 3]\n"
     ]
    }
   ],
   "source": [
    "every_third = x[::3]\n",
    "five_to_three = x[5:2:-1]\n",
    "\n",
    "print(every_third, five_to_three)"
   ]
  },
  {
   "cell_type": "code",
   "execution_count": 62,
   "metadata": {},
   "outputs": [
    {
     "data": {
      "text/plain": [
       "True"
      ]
     },
     "execution_count": 62,
     "metadata": {},
     "output_type": "execute_result"
    }
   ],
   "source": [
    "1 in [1, 2, 3]"
   ]
  },
  {
   "cell_type": "code",
   "execution_count": 63,
   "metadata": {},
   "outputs": [
    {
     "data": {
      "text/plain": [
       "False"
      ]
     },
     "execution_count": 63,
     "metadata": {},
     "output_type": "execute_result"
    }
   ],
   "source": [
    "0 in [1, 2, 3]"
   ]
  },
  {
   "cell_type": "code",
   "execution_count": 64,
   "metadata": {},
   "outputs": [
    {
     "data": {
      "text/plain": [
       "[1, 2, 3, 4, 5, 6]"
      ]
     },
     "execution_count": 64,
     "metadata": {},
     "output_type": "execute_result"
    }
   ],
   "source": [
    "x = [1, 2, 3]\n",
    "x.extend([4, 5, 6])\n",
    "x"
   ]
  },
  {
   "cell_type": "code",
   "execution_count": 65,
   "metadata": {},
   "outputs": [
    {
     "name": "stdout",
     "output_type": "stream",
     "text": [
      "[1, 2, 3] [1, 2, 3, 4, 5, 6]\n"
     ]
    }
   ],
   "source": [
    "x = [1, 2, 3]\n",
    "y = x + ([4, 5, 6])\n",
    "print(x, y)"
   ]
  },
  {
   "cell_type": "code",
   "execution_count": 66,
   "metadata": {},
   "outputs": [
    {
     "name": "stdout",
     "output_type": "stream",
     "text": [
      "[1, 2, 3, 0] 0 4\n"
     ]
    }
   ],
   "source": [
    "x = [1, 2, 3]\n",
    "x.append(0)\n",
    "y = x[-1]\n",
    "z = len(x)\n",
    "print(x, y, z)"
   ]
  },
  {
   "cell_type": "code",
   "execution_count": 67,
   "metadata": {},
   "outputs": [
    {
     "name": "stdout",
     "output_type": "stream",
     "text": [
      "1 2 4\n"
     ]
    }
   ],
   "source": [
    "x, y = [1, 2]\n",
    "_, z = [3, 4]\n",
    "\n",
    "print(x, y, z)"
   ]
  },
  {
   "cell_type": "markdown",
   "metadata": {},
   "source": [
    "## Tuplas"
   ]
  },
  {
   "cell_type": "code",
   "execution_count": 68,
   "metadata": {},
   "outputs": [
    {
     "name": "stdout",
     "output_type": "stream",
     "text": [
      "Cannot modify a tuple\n"
     ]
    }
   ],
   "source": [
    "my_list = [1, 2]\n",
    "my_tuple = (1, 2)\n",
    "other_tuple = 3, 4\n",
    "my_list[1] = 3\n",
    "\n",
    "try:\n",
    "    my_tuple[1] = 3\n",
    "except TypeError:\n",
    "    print(\"Cannot modify a tuple\")"
   ]
  },
  {
   "cell_type": "code",
   "execution_count": 69,
   "metadata": {},
   "outputs": [
    {
     "name": "stdout",
     "output_type": "stream",
     "text": [
      "(5, 6) 15 50\n"
     ]
    }
   ],
   "source": [
    "def sum_and_product(x, y):\n",
    "    return (x + y), (x * y)\n",
    "\n",
    "sp = sum_and_product(2, 3)\n",
    "s, p = sum_and_product(5, 10)\n",
    "\n",
    "print(sp, s, p)"
   ]
  },
  {
   "cell_type": "code",
   "execution_count": 70,
   "metadata": {},
   "outputs": [
    {
     "name": "stdout",
     "output_type": "stream",
     "text": [
      "2 1\n"
     ]
    }
   ],
   "source": [
    "x, y = (1, 2)\n",
    "x, y = y, x\n",
    "print(x, y)"
   ]
  },
  {
   "cell_type": "markdown",
   "metadata": {},
   "source": [
    "## Dicionários"
   ]
  },
  {
   "cell_type": "code",
   "execution_count": 71,
   "metadata": {},
   "outputs": [],
   "source": [
    "empty_dict = {}\n",
    "empty_dict_2 = dict()\n",
    "grades = {\"Joel\" : 80, \"Tim\" : 95}\n",
    "joels_grade = grades[\"Joel\"]"
   ]
  },
  {
   "cell_type": "code",
   "execution_count": 72,
   "metadata": {},
   "outputs": [
    {
     "name": "stdout",
     "output_type": "stream",
     "text": [
      "No grade for Kate!\n"
     ]
    }
   ],
   "source": [
    "try:\n",
    "    kater_grade = grades['Kate']\n",
    "except KeyError:\n",
    "    print(\"No grade for Kate!\")"
   ]
  },
  {
   "cell_type": "code",
   "execution_count": 73,
   "metadata": {},
   "outputs": [
    {
     "name": "stdout",
     "output_type": "stream",
     "text": [
      "True False\n"
     ]
    }
   ],
   "source": [
    "joel_has_grade = \"Joel\" in grades\n",
    "kate_has_grade = \"Kate\" in grades\n",
    "print(joel_has_grade, kate_has_grade)"
   ]
  },
  {
   "cell_type": "code",
   "execution_count": 74,
   "metadata": {},
   "outputs": [
    {
     "name": "stdout",
     "output_type": "stream",
     "text": [
      "80 0 None\n"
     ]
    }
   ],
   "source": [
    "joels_grade = grades.get(\"Joel\", 0)\n",
    "kates_grade = grades.get(\"Kate\", 0)\n",
    "no_ones_grade = grades.get(\"No One\")\n",
    "\n",
    "print(joels_grade, kates_grade, no_ones_grade)"
   ]
  },
  {
   "cell_type": "code",
   "execution_count": 75,
   "metadata": {},
   "outputs": [
    {
     "name": "stdout",
     "output_type": "stream",
     "text": [
      "{'Joel': 80, 'Tim': 99, 'Kate': 100} 3\n"
     ]
    }
   ],
   "source": [
    "grades['Tim'] = 99\n",
    "grades['Kate'] = 100\n",
    "num_students = len(grades)\n",
    "\n",
    "print(grades, num_students)"
   ]
  },
  {
   "cell_type": "code",
   "execution_count": 76,
   "metadata": {},
   "outputs": [
    {
     "name": "stdout",
     "output_type": "stream",
     "text": [
      "dict_keys(['user', 'text', 'retweet_counts', 'hashtags']) dict_values(['joelgrus', 'Data science é top', 100, ['#data', '#science']]) dict_items([('user', 'joelgrus'), ('text', 'Data science é top'), ('retweet_counts', 100), ('hashtags', ['#data', '#science'])])\n"
     ]
    }
   ],
   "source": [
    "tweet = {\n",
    "    \"user\" : \"joelgrus\",\n",
    "    \"text\" : \"Data science é top\",\n",
    "    \"retweet_counts\" : 100,\n",
    "    \"hashtags\" : ['#data', '#science']\n",
    "}\n",
    "\n",
    "tweet_keys = tweet.keys()\n",
    "tweet_values = tweet.values()\n",
    "tweet_items = tweet.items()\n",
    "\n",
    "print(tweet_keys, tweet_values, tweet_items)"
   ]
  },
  {
   "cell_type": "code",
   "execution_count": 77,
   "metadata": {},
   "outputs": [
    {
     "name": "stdout",
     "output_type": "stream",
     "text": [
      "True True True\n"
     ]
    }
   ],
   "source": [
    "print(\"user\" in tweet_keys, \"user\" in tweet, \"joelgrus\" in tweet_values)"
   ]
  },
  {
   "cell_type": "markdown",
   "metadata": {},
   "source": [
    "## defaultdict"
   ]
  },
  {
   "cell_type": "code",
   "execution_count": 78,
   "metadata": {},
   "outputs": [
    {
     "data": {
      "text/plain": [
       "{'Lorem': 1,\n",
       " 'ipsum': 2,\n",
       " 'dolor': 1,\n",
       " 'sit': 1,\n",
       " 'amet,': 1,\n",
       " 'consectetur': 1,\n",
       " 'adipiscing': 1,\n",
       " 'elit.': 1,\n",
       " 'Proin': 1,\n",
       " 'sodales': 4,\n",
       " 'convallis': 1,\n",
       " 'quam': 1,\n",
       " 'eleifend': 1,\n",
       " 'hendrerit.': 1,\n",
       " 'In': 1,\n",
       " 'mollis': 1,\n",
       " 'imperdiet': 1,\n",
       " 'diam': 3,\n",
       " 'vitae': 3,\n",
       " 'dapibus.': 1,\n",
       " 'Curabitur': 1,\n",
       " 'ut': 1,\n",
       " 'tincidunt': 3,\n",
       " 'ipsum.': 1,\n",
       " 'Etiam': 2,\n",
       " 'lobortis': 1,\n",
       " 'odio': 3,\n",
       " 'viverra': 2,\n",
       " 'dui': 3,\n",
       " 'iaculis,': 1,\n",
       " 'et': 2,\n",
       " 'venenatis': 2,\n",
       " 'risus': 1,\n",
       " 'semper.': 1,\n",
       " 'Sed': 4,\n",
       " 'a': 1,\n",
       " 'suscipit': 1,\n",
       " 'mi.': 1,\n",
       " 'nec': 1,\n",
       " 'ante': 1,\n",
       " 'sagittis': 2,\n",
       " 'ultricies.': 1,\n",
       " 'Vivamus': 1,\n",
       " 'aliquam': 2,\n",
       " 'varius': 1,\n",
       " 'massa,': 1,\n",
       " 'ornare': 1,\n",
       " 'fringilla': 1,\n",
       " 'sapien': 1,\n",
       " 'sed.': 1,\n",
       " 'Nunc': 1,\n",
       " 'sagittis,': 1,\n",
       " 'urna': 1,\n",
       " 'euismod': 2,\n",
       " 'varius,': 1,\n",
       " 'posuere': 2,\n",
       " 'mauris,': 2,\n",
       " 'massa': 1,\n",
       " 'vel': 2,\n",
       " 'orci.': 1,\n",
       " 'volutpat': 1,\n",
       " 'tempus': 3,\n",
       " 'tortor': 1,\n",
       " 'quis': 1,\n",
       " 'dignissim.': 1,\n",
       " 'Nulla': 1,\n",
       " 'tristique': 1,\n",
       " 'id': 2,\n",
       " 'nisl': 1,\n",
       " 'vel,': 1,\n",
       " 'accumsan': 1,\n",
       " 'quam.': 1,\n",
       " 'non': 3,\n",
       " 'leo': 1,\n",
       " 'lacus.': 1,\n",
       " 'Cras': 1,\n",
       " 'dolor,': 1,\n",
       " 'eros': 1,\n",
       " 'iaculis': 1,\n",
       " 'nec.': 1,\n",
       " 'Mauris': 1,\n",
       " 'nibh': 1,\n",
       " 'vestibulum': 1,\n",
       " 'tristique.': 1,\n",
       " 'Ut': 1,\n",
       " 'ac': 1,\n",
       " 'libero': 1,\n",
       " 'commodo,': 1,\n",
       " 'dapibus': 1,\n",
       " 'sem': 1,\n",
       " 'euismod.': 1,\n",
       " 'luctus': 1,\n",
       " 'lacus,': 1,\n",
       " 'metus': 1,\n",
       " 'eget.': 1,\n",
       " 'Nam': 1,\n",
       " 'commodo': 1,\n",
       " 'aliquam.': 1}"
      ]
     },
     "execution_count": 78,
     "metadata": {},
     "output_type": "execute_result"
    }
   ],
   "source": [
    "document = \"Lorem ipsum dolor sit amet, consectetur adipiscing elit. Proin sodales convallis quam eleifend hendrerit. In mollis imperdiet diam vitae dapibus. Curabitur ut tincidunt ipsum. Etiam lobortis odio viverra dui iaculis, et venenatis risus semper. Sed a suscipit mi. Sed nec dui et ante sagittis ultricies. Vivamus aliquam varius massa, ornare fringilla sapien venenatis sed. Nunc sagittis, urna euismod sodales varius, dui diam posuere mauris, vitae euismod odio massa vel orci. Sed volutpat tempus tortor quis dignissim. Nulla diam mauris, tristique id nisl vel, accumsan sagittis quam. Sed non leo lacus. Cras tincidunt tincidunt dolor, id tempus eros iaculis nec. Mauris tempus nibh non vestibulum tristique. Ut sodales ipsum ac libero commodo, vitae dapibus sem euismod. Etiam luctus aliquam lacus, non posuere metus viverra eget. Nam commodo sodales odio vel aliquam.\"\n",
    "\n",
    "words_count = {}\n",
    "for word in document.split(\" \"):\n",
    "    if word in words_count:\n",
    "        words_count[word] += 1\n",
    "    else:\n",
    "        words_count[word] = 1\n",
    "\n",
    "words_count"
   ]
  },
  {
   "cell_type": "code",
   "execution_count": 79,
   "metadata": {},
   "outputs": [
    {
     "data": {
      "text/plain": [
       "{'Lorem': 1,\n",
       " 'ipsum': 2,\n",
       " 'dolor': 1,\n",
       " 'sit': 1,\n",
       " 'amet,': 1,\n",
       " 'consectetur': 1,\n",
       " 'adipiscing': 1,\n",
       " 'elit.': 1,\n",
       " 'Proin': 1,\n",
       " 'sodales': 4,\n",
       " 'convallis': 1,\n",
       " 'quam': 1,\n",
       " 'eleifend': 1,\n",
       " 'hendrerit.': 1,\n",
       " 'In': 1,\n",
       " 'mollis': 1,\n",
       " 'imperdiet': 1,\n",
       " 'diam': 3,\n",
       " 'vitae': 3,\n",
       " 'dapibus.': 1,\n",
       " 'Curabitur': 1,\n",
       " 'ut': 1,\n",
       " 'tincidunt': 3,\n",
       " 'ipsum.': 1,\n",
       " 'Etiam': 2,\n",
       " 'lobortis': 1,\n",
       " 'odio': 3,\n",
       " 'viverra': 2,\n",
       " 'dui': 3,\n",
       " 'iaculis,': 1,\n",
       " 'et': 2,\n",
       " 'venenatis': 2,\n",
       " 'risus': 1,\n",
       " 'semper.': 1,\n",
       " 'Sed': 4,\n",
       " 'a': 1,\n",
       " 'suscipit': 1,\n",
       " 'mi.': 1,\n",
       " 'nec': 1,\n",
       " 'ante': 1,\n",
       " 'sagittis': 2,\n",
       " 'ultricies.': 1,\n",
       " 'Vivamus': 1,\n",
       " 'aliquam': 2,\n",
       " 'varius': 1,\n",
       " 'massa,': 1,\n",
       " 'ornare': 1,\n",
       " 'fringilla': 1,\n",
       " 'sapien': 1,\n",
       " 'sed.': 1,\n",
       " 'Nunc': 1,\n",
       " 'sagittis,': 1,\n",
       " 'urna': 1,\n",
       " 'euismod': 2,\n",
       " 'varius,': 1,\n",
       " 'posuere': 2,\n",
       " 'mauris,': 2,\n",
       " 'massa': 1,\n",
       " 'vel': 2,\n",
       " 'orci.': 1,\n",
       " 'volutpat': 1,\n",
       " 'tempus': 3,\n",
       " 'tortor': 1,\n",
       " 'quis': 1,\n",
       " 'dignissim.': 1,\n",
       " 'Nulla': 1,\n",
       " 'tristique': 1,\n",
       " 'id': 2,\n",
       " 'nisl': 1,\n",
       " 'vel,': 1,\n",
       " 'accumsan': 1,\n",
       " 'quam.': 1,\n",
       " 'non': 3,\n",
       " 'leo': 1,\n",
       " 'lacus.': 1,\n",
       " 'Cras': 1,\n",
       " 'dolor,': 1,\n",
       " 'eros': 1,\n",
       " 'iaculis': 1,\n",
       " 'nec.': 1,\n",
       " 'Mauris': 1,\n",
       " 'nibh': 1,\n",
       " 'vestibulum': 1,\n",
       " 'tristique.': 1,\n",
       " 'Ut': 1,\n",
       " 'ac': 1,\n",
       " 'libero': 1,\n",
       " 'commodo,': 1,\n",
       " 'dapibus': 1,\n",
       " 'sem': 1,\n",
       " 'euismod.': 1,\n",
       " 'luctus': 1,\n",
       " 'lacus,': 1,\n",
       " 'metus': 1,\n",
       " 'eget.': 1,\n",
       " 'Nam': 1,\n",
       " 'commodo': 1,\n",
       " 'aliquam.': 1}"
      ]
     },
     "execution_count": 79,
     "metadata": {},
     "output_type": "execute_result"
    }
   ],
   "source": [
    "words_count = {}\n",
    "for word in document.split(\" \"):\n",
    "    try:\n",
    "        words_count[word] += 1\n",
    "    except KeyError:\n",
    "        words_count[word] = 1\n",
    "\n",
    "words_count"
   ]
  },
  {
   "cell_type": "code",
   "execution_count": 80,
   "metadata": {},
   "outputs": [
    {
     "data": {
      "text/plain": [
       "{'Lorem': 1,\n",
       " 'ipsum': 2,\n",
       " 'dolor': 1,\n",
       " 'sit': 1,\n",
       " 'amet,': 1,\n",
       " 'consectetur': 1,\n",
       " 'adipiscing': 1,\n",
       " 'elit.': 1,\n",
       " 'Proin': 1,\n",
       " 'sodales': 4,\n",
       " 'convallis': 1,\n",
       " 'quam': 1,\n",
       " 'eleifend': 1,\n",
       " 'hendrerit.': 1,\n",
       " 'In': 1,\n",
       " 'mollis': 1,\n",
       " 'imperdiet': 1,\n",
       " 'diam': 3,\n",
       " 'vitae': 3,\n",
       " 'dapibus.': 1,\n",
       " 'Curabitur': 1,\n",
       " 'ut': 1,\n",
       " 'tincidunt': 3,\n",
       " 'ipsum.': 1,\n",
       " 'Etiam': 2,\n",
       " 'lobortis': 1,\n",
       " 'odio': 3,\n",
       " 'viverra': 2,\n",
       " 'dui': 3,\n",
       " 'iaculis,': 1,\n",
       " 'et': 2,\n",
       " 'venenatis': 2,\n",
       " 'risus': 1,\n",
       " 'semper.': 1,\n",
       " 'Sed': 4,\n",
       " 'a': 1,\n",
       " 'suscipit': 1,\n",
       " 'mi.': 1,\n",
       " 'nec': 1,\n",
       " 'ante': 1,\n",
       " 'sagittis': 2,\n",
       " 'ultricies.': 1,\n",
       " 'Vivamus': 1,\n",
       " 'aliquam': 2,\n",
       " 'varius': 1,\n",
       " 'massa,': 1,\n",
       " 'ornare': 1,\n",
       " 'fringilla': 1,\n",
       " 'sapien': 1,\n",
       " 'sed.': 1,\n",
       " 'Nunc': 1,\n",
       " 'sagittis,': 1,\n",
       " 'urna': 1,\n",
       " 'euismod': 2,\n",
       " 'varius,': 1,\n",
       " 'posuere': 2,\n",
       " 'mauris,': 2,\n",
       " 'massa': 1,\n",
       " 'vel': 2,\n",
       " 'orci.': 1,\n",
       " 'volutpat': 1,\n",
       " 'tempus': 3,\n",
       " 'tortor': 1,\n",
       " 'quis': 1,\n",
       " 'dignissim.': 1,\n",
       " 'Nulla': 1,\n",
       " 'tristique': 1,\n",
       " 'id': 2,\n",
       " 'nisl': 1,\n",
       " 'vel,': 1,\n",
       " 'accumsan': 1,\n",
       " 'quam.': 1,\n",
       " 'non': 3,\n",
       " 'leo': 1,\n",
       " 'lacus.': 1,\n",
       " 'Cras': 1,\n",
       " 'dolor,': 1,\n",
       " 'eros': 1,\n",
       " 'iaculis': 1,\n",
       " 'nec.': 1,\n",
       " 'Mauris': 1,\n",
       " 'nibh': 1,\n",
       " 'vestibulum': 1,\n",
       " 'tristique.': 1,\n",
       " 'Ut': 1,\n",
       " 'ac': 1,\n",
       " 'libero': 1,\n",
       " 'commodo,': 1,\n",
       " 'dapibus': 1,\n",
       " 'sem': 1,\n",
       " 'euismod.': 1,\n",
       " 'luctus': 1,\n",
       " 'lacus,': 1,\n",
       " 'metus': 1,\n",
       " 'eget.': 1,\n",
       " 'Nam': 1,\n",
       " 'commodo': 1,\n",
       " 'aliquam.': 1}"
      ]
     },
     "execution_count": 80,
     "metadata": {},
     "output_type": "execute_result"
    }
   ],
   "source": [
    "words_count = {}\n",
    "for word in document.split(\" \"):\n",
    "    previous_count = words_count.get(word, 0)\n",
    "    words_count[word] = previous_count + 1\n",
    "\n",
    "words_count"
   ]
  },
  {
   "cell_type": "code",
   "execution_count": 81,
   "metadata": {},
   "outputs": [
    {
     "data": {
      "text/plain": [
       "defaultdict(int,\n",
       "            {'Lorem': 1,\n",
       "             'ipsum': 2,\n",
       "             'dolor': 1,\n",
       "             'sit': 1,\n",
       "             'amet,': 1,\n",
       "             'consectetur': 1,\n",
       "             'adipiscing': 1,\n",
       "             'elit.': 1,\n",
       "             'Proin': 1,\n",
       "             'sodales': 4,\n",
       "             'convallis': 1,\n",
       "             'quam': 1,\n",
       "             'eleifend': 1,\n",
       "             'hendrerit.': 1,\n",
       "             'In': 1,\n",
       "             'mollis': 1,\n",
       "             'imperdiet': 1,\n",
       "             'diam': 3,\n",
       "             'vitae': 3,\n",
       "             'dapibus.': 1,\n",
       "             'Curabitur': 1,\n",
       "             'ut': 1,\n",
       "             'tincidunt': 3,\n",
       "             'ipsum.': 1,\n",
       "             'Etiam': 2,\n",
       "             'lobortis': 1,\n",
       "             'odio': 3,\n",
       "             'viverra': 2,\n",
       "             'dui': 3,\n",
       "             'iaculis,': 1,\n",
       "             'et': 2,\n",
       "             'venenatis': 2,\n",
       "             'risus': 1,\n",
       "             'semper.': 1,\n",
       "             'Sed': 4,\n",
       "             'a': 1,\n",
       "             'suscipit': 1,\n",
       "             'mi.': 1,\n",
       "             'nec': 1,\n",
       "             'ante': 1,\n",
       "             'sagittis': 2,\n",
       "             'ultricies.': 1,\n",
       "             'Vivamus': 1,\n",
       "             'aliquam': 2,\n",
       "             'varius': 1,\n",
       "             'massa,': 1,\n",
       "             'ornare': 1,\n",
       "             'fringilla': 1,\n",
       "             'sapien': 1,\n",
       "             'sed.': 1,\n",
       "             'Nunc': 1,\n",
       "             'sagittis,': 1,\n",
       "             'urna': 1,\n",
       "             'euismod': 2,\n",
       "             'varius,': 1,\n",
       "             'posuere': 2,\n",
       "             'mauris,': 2,\n",
       "             'massa': 1,\n",
       "             'vel': 2,\n",
       "             'orci.': 1,\n",
       "             'volutpat': 1,\n",
       "             'tempus': 3,\n",
       "             'tortor': 1,\n",
       "             'quis': 1,\n",
       "             'dignissim.': 1,\n",
       "             'Nulla': 1,\n",
       "             'tristique': 1,\n",
       "             'id': 2,\n",
       "             'nisl': 1,\n",
       "             'vel,': 1,\n",
       "             'accumsan': 1,\n",
       "             'quam.': 1,\n",
       "             'non': 3,\n",
       "             'leo': 1,\n",
       "             'lacus.': 1,\n",
       "             'Cras': 1,\n",
       "             'dolor,': 1,\n",
       "             'eros': 1,\n",
       "             'iaculis': 1,\n",
       "             'nec.': 1,\n",
       "             'Mauris': 1,\n",
       "             'nibh': 1,\n",
       "             'vestibulum': 1,\n",
       "             'tristique.': 1,\n",
       "             'Ut': 1,\n",
       "             'ac': 1,\n",
       "             'libero': 1,\n",
       "             'commodo,': 1,\n",
       "             'dapibus': 1,\n",
       "             'sem': 1,\n",
       "             'euismod.': 1,\n",
       "             'luctus': 1,\n",
       "             'lacus,': 1,\n",
       "             'metus': 1,\n",
       "             'eget.': 1,\n",
       "             'Nam': 1,\n",
       "             'commodo': 1,\n",
       "             'aliquam.': 1})"
      ]
     },
     "execution_count": 81,
     "metadata": {},
     "output_type": "execute_result"
    }
   ],
   "source": [
    "words_count = defaultdict(int)\n",
    "for word in document.split(\" \"):\n",
    "    words_count[word] += 1\n",
    "\n",
    "words_count"
   ]
  },
  {
   "cell_type": "code",
   "execution_count": 82,
   "metadata": {},
   "outputs": [],
   "source": [
    "dd_list = defaultdict(list)\n",
    "dd_list[2].append(1)\n",
    "\n",
    "dd_dict = defaultdict(dict)\n",
    "dd_dict['Joel']['City'] = \"Seattle\"\n",
    "\n",
    "dd_pair = defaultdict(lambda: [0, 0])\n",
    "dd_pair[2][1] = 1"
   ]
  },
  {
   "cell_type": "markdown",
   "metadata": {},
   "source": [
    "## Contadores"
   ]
  },
  {
   "cell_type": "code",
   "execution_count": 83,
   "metadata": {},
   "outputs": [
    {
     "data": {
      "text/plain": [
       "Counter({0: 2, 1: 1, 2: 1})"
      ]
     },
     "execution_count": 83,
     "metadata": {},
     "output_type": "execute_result"
    }
   ],
   "source": [
    "c = Counter([0, 1, 2, 0])\n",
    "c"
   ]
  },
  {
   "cell_type": "code",
   "execution_count": 85,
   "metadata": {},
   "outputs": [
    {
     "data": {
      "text/plain": [
       "Counter({'sodales': 4,\n",
       "         'Sed': 4,\n",
       "         'diam': 3,\n",
       "         'vitae': 3,\n",
       "         'tincidunt': 3,\n",
       "         'odio': 3,\n",
       "         'dui': 3,\n",
       "         'tempus': 3,\n",
       "         'non': 3,\n",
       "         'ipsum': 2,\n",
       "         'Etiam': 2,\n",
       "         'viverra': 2,\n",
       "         'et': 2,\n",
       "         'venenatis': 2,\n",
       "         'sagittis': 2,\n",
       "         'aliquam': 2,\n",
       "         'euismod': 2,\n",
       "         'posuere': 2,\n",
       "         'mauris,': 2,\n",
       "         'vel': 2,\n",
       "         'id': 2,\n",
       "         'Lorem': 1,\n",
       "         'dolor': 1,\n",
       "         'sit': 1,\n",
       "         'amet,': 1,\n",
       "         'consectetur': 1,\n",
       "         'adipiscing': 1,\n",
       "         'elit.': 1,\n",
       "         'Proin': 1,\n",
       "         'convallis': 1,\n",
       "         'quam': 1,\n",
       "         'eleifend': 1,\n",
       "         'hendrerit.': 1,\n",
       "         'In': 1,\n",
       "         'mollis': 1,\n",
       "         'imperdiet': 1,\n",
       "         'dapibus.': 1,\n",
       "         'Curabitur': 1,\n",
       "         'ut': 1,\n",
       "         'ipsum.': 1,\n",
       "         'lobortis': 1,\n",
       "         'iaculis,': 1,\n",
       "         'risus': 1,\n",
       "         'semper.': 1,\n",
       "         'a': 1,\n",
       "         'suscipit': 1,\n",
       "         'mi.': 1,\n",
       "         'nec': 1,\n",
       "         'ante': 1,\n",
       "         'ultricies.': 1,\n",
       "         'Vivamus': 1,\n",
       "         'varius': 1,\n",
       "         'massa,': 1,\n",
       "         'ornare': 1,\n",
       "         'fringilla': 1,\n",
       "         'sapien': 1,\n",
       "         'sed.': 1,\n",
       "         'Nunc': 1,\n",
       "         'sagittis,': 1,\n",
       "         'urna': 1,\n",
       "         'varius,': 1,\n",
       "         'massa': 1,\n",
       "         'orci.': 1,\n",
       "         'volutpat': 1,\n",
       "         'tortor': 1,\n",
       "         'quis': 1,\n",
       "         'dignissim.': 1,\n",
       "         'Nulla': 1,\n",
       "         'tristique': 1,\n",
       "         'nisl': 1,\n",
       "         'vel,': 1,\n",
       "         'accumsan': 1,\n",
       "         'quam.': 1,\n",
       "         'leo': 1,\n",
       "         'lacus.': 1,\n",
       "         'Cras': 1,\n",
       "         'dolor,': 1,\n",
       "         'eros': 1,\n",
       "         'iaculis': 1,\n",
       "         'nec.': 1,\n",
       "         'Mauris': 1,\n",
       "         'nibh': 1,\n",
       "         'vestibulum': 1,\n",
       "         'tristique.': 1,\n",
       "         'Ut': 1,\n",
       "         'ac': 1,\n",
       "         'libero': 1,\n",
       "         'commodo,': 1,\n",
       "         'dapibus': 1,\n",
       "         'sem': 1,\n",
       "         'euismod.': 1,\n",
       "         'luctus': 1,\n",
       "         'lacus,': 1,\n",
       "         'metus': 1,\n",
       "         'eget.': 1,\n",
       "         'Nam': 1,\n",
       "         'commodo': 1,\n",
       "         'aliquam.': 1})"
      ]
     },
     "execution_count": 85,
     "metadata": {},
     "output_type": "execute_result"
    }
   ],
   "source": [
    "words_count = Counter(document.split(\" \"))\n",
    "words_count"
   ]
  },
  {
   "cell_type": "code",
   "execution_count": 86,
   "metadata": {},
   "outputs": [
    {
     "name": "stdout",
     "output_type": "stream",
     "text": [
      "sodales 4\n",
      "Sed 4\n",
      "diam 3\n",
      "vitae 3\n",
      "tincidunt 3\n",
      "odio 3\n",
      "dui 3\n",
      "tempus 3\n",
      "non 3\n",
      "ipsum 2\n"
     ]
    }
   ],
   "source": [
    "for word, count in words_count.most_common(10):\n",
    "    print(word, count)"
   ]
  },
  {
   "cell_type": "markdown",
   "metadata": {},
   "source": [
    "## Conjuntos"
   ]
  },
  {
   "cell_type": "code",
   "execution_count": 87,
   "metadata": {},
   "outputs": [
    {
     "name": "stdout",
     "output_type": "stream",
     "text": [
      "{2, 3, 5, 7} {1, 2} 2 True False\n"
     ]
    }
   ],
   "source": [
    "primes_below_10 = {2, 3, 5, 7}\n",
    "\n",
    "s = set()\n",
    "s.add(1)\n",
    "s.add(2)\n",
    "s.add(2)\n",
    "x = len(s)\n",
    "y = 2 in s\n",
    "z = 3 in s\n",
    "\n",
    "print(primes_below_10, s, x, y, z)"
   ]
  },
  {
   "cell_type": "code",
   "execution_count": 89,
   "metadata": {},
   "outputs": [
    {
     "name": "stdout",
     "output_type": "stream",
     "text": [
      "False False\n"
     ]
    }
   ],
   "source": [
    "stopword_list = ['a', 'an', 'at']\n",
    "stopword_set = set(stopword_list)\n",
    "print('zip' in stopword_list, 'zip' in stopword_set)"
   ]
  },
  {
   "cell_type": "markdown",
   "metadata": {},
   "source": [
    "## Fluxo de controle"
   ]
  },
  {
   "cell_type": "code",
   "execution_count": null,
   "metadata": {},
   "outputs": [],
   "source": []
  },
  {
   "cell_type": "markdown",
   "metadata": {},
   "source": [
    "## Veracidade"
   ]
  },
  {
   "cell_type": "code",
   "execution_count": null,
   "metadata": {},
   "outputs": [],
   "source": []
  },
  {
   "cell_type": "markdown",
   "metadata": {},
   "source": [
    "## Classificação"
   ]
  },
  {
   "cell_type": "code",
   "execution_count": null,
   "metadata": {},
   "outputs": [],
   "source": []
  },
  {
   "cell_type": "markdown",
   "metadata": {},
   "source": [
    "## List comprehension"
   ]
  },
  {
   "cell_type": "code",
   "execution_count": null,
   "metadata": {},
   "outputs": [],
   "source": []
  },
  {
   "cell_type": "markdown",
   "metadata": {},
   "source": [
    "## Testes automatizados e asserção"
   ]
  },
  {
   "cell_type": "code",
   "execution_count": null,
   "metadata": {},
   "outputs": [],
   "source": []
  },
  {
   "cell_type": "markdown",
   "metadata": {},
   "source": [
    "## Programação orientada a objetos"
   ]
  },
  {
   "cell_type": "code",
   "execution_count": null,
   "metadata": {},
   "outputs": [],
   "source": []
  },
  {
   "cell_type": "markdown",
   "metadata": {},
   "source": [
    "## Iteráveis e geradores"
   ]
  },
  {
   "cell_type": "code",
   "execution_count": null,
   "metadata": {},
   "outputs": [],
   "source": []
  },
  {
   "cell_type": "markdown",
   "metadata": {},
   "source": [
    "## Aleatoriedade"
   ]
  },
  {
   "cell_type": "code",
   "execution_count": null,
   "metadata": {},
   "outputs": [],
   "source": []
  },
  {
   "cell_type": "markdown",
   "metadata": {},
   "source": [
    "## Expressões regulares"
   ]
  },
  {
   "cell_type": "code",
   "execution_count": null,
   "metadata": {},
   "outputs": [],
   "source": []
  },
  {
   "cell_type": "markdown",
   "metadata": {},
   "source": [
    "## zip e descompactação de argumentos"
   ]
  },
  {
   "cell_type": "code",
   "execution_count": null,
   "metadata": {},
   "outputs": [],
   "source": []
  },
  {
   "cell_type": "markdown",
   "metadata": {},
   "source": [
    "## args e kwargs"
   ]
  },
  {
   "cell_type": "code",
   "execution_count": null,
   "metadata": {},
   "outputs": [],
   "source": []
  },
  {
   "cell_type": "markdown",
   "metadata": {},
   "source": [
    "## Anotações de tipo"
   ]
  },
  {
   "cell_type": "code",
   "execution_count": null,
   "metadata": {},
   "outputs": [],
   "source": []
  }
 ],
 "metadata": {
  "kernelspec": {
   "display_name": "Python 3",
   "language": "python",
   "name": "python3"
  },
  "language_info": {
   "codemirror_mode": {
    "name": "ipython",
    "version": 3
   },
   "file_extension": ".py",
   "mimetype": "text/x-python",
   "name": "python",
   "nbconvert_exporter": "python",
   "pygments_lexer": "ipython3",
   "version": "3.10.12"
  }
 },
 "nbformat": 4,
 "nbformat_minor": 2
}
