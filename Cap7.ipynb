{
 "cells": [
  {
   "cell_type": "markdown",
   "metadata": {},
   "source": [
    "# Capítulo 7 - Hipótese e inferência"
   ]
  },
  {
   "cell_type": "code",
   "execution_count": 8,
   "metadata": {},
   "outputs": [],
   "source": [
    "from typing import Tuple\n",
    "import math"
   ]
  },
  {
   "cell_type": "markdown",
   "metadata": {},
   "source": [
    "## Exemplo: lançando uma moeda"
   ]
  },
  {
   "cell_type": "code",
   "execution_count": 9,
   "metadata": {},
   "outputs": [],
   "source": [
    "def aproximacao_normal_para_binomial(n: int, p: float) -> Tuple[float, float]:\n",
    "    mu = p * n\n",
    "    sigma = math.sqrt(p * (1 - p) * n)\n",
    "    return mu, sigma\n",
    "\n",
    "def normal_cdf(x: float, mu: float = 0, sigma: float = 1) -> float:\n",
    "    return (1 + math.erf((x - mu) / math.sqrt(2) / sigma)) / 2\n",
    "\n",
    "def probabilidade_normal_acima(lo: float, mu: float = 0, sigma: float = 1) -> float:\n",
    "    return 1 - normal_cdf(lo, mu, sigma)\n",
    "\n",
    "def probabilidade_normal_intermediario(lo: float, hi: float, mu: float = 0, sigma: float = 1) -> float:\n",
    "    return normal_cdf(hi, mu, sigma) - normal_cdf(lo, mu, sigma)\n",
    "\n",
    "def probabilidade_normal_fora(lo: float, hi: float, mu: float = 0, sigma: float = 1) -> float:\n",
    "    return 1 - probabilidade_normal_intermediario(lo, hi, mu, sigma)"
   ]
  },
  {
   "cell_type": "code",
   "execution_count": 10,
   "metadata": {},
   "outputs": [],
   "source": [
    "def normal_inversa_cdf(p: float, mu: float = 0, sigma: float = 1, tolerancia: float = 0.00001) -> float:\n",
    "    if mu != 0 or sigma != 1:\n",
    "        return mu + sigma * normal_inversa_cdf(p, tolerancia = tolerancia)\n",
    "    low_z = -10\n",
    "    hi_z = 10\n",
    "    while hi_z - low_z > tolerancia:\n",
    "        mid_z = (low_z + hi_z) / 2\n",
    "        mid_p = normal_cdf(mid_z)\n",
    "        if mid_p < p:\n",
    "            low_z = mid_z\n",
    "        else:\n",
    "            hi_z = mid_z\n",
    "    return mid_z\n",
    "\n",
    "def normal_limite_superior(probabilidade: float, mu: float = 0, sigma: float = 1) -> float:\n",
    "    return normal_inversa_cdf(probabilidade, mu, sigma)\n",
    "\n",
    "def normal_limite_inferior(probabilidade: float, mu: float = 0, sigma: float = 1) -> float:\n",
    "    return normal_inversa_cdf(1 - probabilidade, mu, sigma)\n",
    "\n",
    "def normal_dois_lados(probabilidade: float, mu: float = 0, sigma: float = 1) -> Tuple[float, float]:\n",
    "    probabilidade_cauda = (1 - probabilidade) / 2\n",
    "    limite_superior = normal_limite_inferior(probabilidade_cauda, mu, sigma)\n",
    "    limite_inferior = normal_limite_superior(probabilidade_cauda, mu, sigma)\n",
    "    return limite_inferior, limite_superior"
   ]
  },
  {
   "cell_type": "code",
   "execution_count": 11,
   "metadata": {},
   "outputs": [
    {
     "name": "stdout",
     "output_type": "stream",
     "text": [
      "500.0 15.811388300841896\n"
     ]
    }
   ],
   "source": [
    "mu_0, sigma_0 = aproximacao_normal_para_binomial(1000, 0.5)\n",
    "print(mu_0, sigma_0)"
   ]
  },
  {
   "cell_type": "code",
   "execution_count": 13,
   "metadata": {},
   "outputs": [
    {
     "name": "stdout",
     "output_type": "stream",
     "text": [
      "469.01026640487555 530.9897335951244\n"
     ]
    }
   ],
   "source": [
    "limite_inferior, limite_superior = normal_dois_lados(0.95, mu_0, sigma_0)\n",
    "print(limite_inferior, limite_superior)"
   ]
  },
  {
   "cell_type": "code",
   "execution_count": 14,
   "metadata": {},
   "outputs": [
    {
     "data": {
      "text/plain": [
       "0.886548001295367"
      ]
     },
     "execution_count": 14,
     "metadata": {},
     "output_type": "execute_result"
    }
   ],
   "source": [
    "lo, hi = normal_dois_lados(0.95, mu_0, sigma_0)\n",
    "mu_1, sigma_1 = aproximacao_normal_para_binomial(1000, 0.55)\n",
    "probabilidade_tipo_2 = probabilidade_normal_intermediario(lo, hi, mu_1, sigma_1)\n",
    "power = 1 - probabilidade_tipo_2\n",
    "power"
   ]
  },
  {
   "cell_type": "code",
   "execution_count": 15,
   "metadata": {},
   "outputs": [
    {
     "data": {
      "text/plain": [
       "526.0073585242053"
      ]
     },
     "execution_count": 15,
     "metadata": {},
     "output_type": "execute_result"
    }
   ],
   "source": [
    "hi = normal_limite_superior(0.95, mu_0, sigma_0)\n",
    "hi"
   ]
  },
  {
   "cell_type": "code",
   "execution_count": 16,
   "metadata": {},
   "outputs": [
    {
     "data": {
      "text/plain": [
       "0.9363794803307173"
      ]
     },
     "execution_count": 16,
     "metadata": {},
     "output_type": "execute_result"
    }
   ],
   "source": [
    "probabilidade_tipo_2 = normal_cdf(hi, mu_1, sigma_1)\n",
    "power = 1 - probabilidade_tipo_2\n",
    "power"
   ]
  },
  {
   "cell_type": "markdown",
   "metadata": {},
   "source": [
    "## P-valor"
   ]
  },
  {
   "cell_type": "code",
   "execution_count": null,
   "metadata": {},
   "outputs": [],
   "source": []
  }
 ],
 "metadata": {
  "kernelspec": {
   "display_name": "Python 3",
   "language": "python",
   "name": "python3"
  },
  "language_info": {
   "codemirror_mode": {
    "name": "ipython",
    "version": 3
   },
   "file_extension": ".py",
   "mimetype": "text/x-python",
   "name": "python",
   "nbconvert_exporter": "python",
   "pygments_lexer": "ipython3",
   "version": "3.10.12"
  }
 },
 "nbformat": 4,
 "nbformat_minor": 2
}
