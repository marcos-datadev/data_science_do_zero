{
 "cells": [
  {
   "cell_type": "markdown",
   "metadata": {},
   "source": [
    "# Capitulo 1 - Introdução"
   ]
  },
  {
   "cell_type": "markdown",
   "metadata": {},
   "source": [
    "Nesse capítulo serão apresentados conceitualmente os conceito centrais do trabalhos do cientista de dados a partir de uma base de dados gerada manualmente. Essa base se baseia em uma empresa fictícia que gerencia uma rede social voltada para cientistas de dados."
   ]
  },
  {
   "cell_type": "code",
   "execution_count": 1,
   "metadata": {},
   "outputs": [],
   "source": [
    "from collections import Counter, defaultdict\n",
    "import seaborn as sns\n",
    "import pandas as pd"
   ]
  },
  {
   "cell_type": "markdown",
   "metadata": {},
   "source": [
    "## Contatos e amizades"
   ]
  },
  {
   "cell_type": "markdown",
   "metadata": {},
   "source": [
    "Esse bloco trata essencialmente de uma lista de usuários e suas conexões. Os processos aqui efetuados buscam explorar a lista de contatos, entendendo as relações básicas entre os usuários. Algumas métricas calculadas são o tamanho da base, as relações de cada indivíduo da base com o restante e o número médio de conexões efetuadas, além de fazer uma primeira aproximação em um algoritmo de recomendação de usuários baseados no conceito de \"friend of a friend\" (ou foaf)."
   ]
  },
  {
   "cell_type": "code",
   "execution_count": 2,
   "metadata": {},
   "outputs": [],
   "source": [
    "usuarios = [\n",
    "    {\"id\" : 0, \"name\" : \"Hero\"},\n",
    "    {\"id\" : 1, \"name\" : \"Dunn\"},\n",
    "    {\"id\" : 2, \"name\" : \"Sue\"},\n",
    "    {\"id\" : 3, \"name\" : \"Chi\"},\n",
    "    {\"id\" : 4, \"name\" : \"Thor\"},\n",
    "    {\"id\" : 5, \"name\" : \"Clive\"},\n",
    "    {\"id\" : 6, \"name\" : \"Hicks\"},\n",
    "    {\"id\" : 7, \"name\" : \"Devin\"},\n",
    "    {\"id\" : 8, \"name\" : \"Kate\"},\n",
    "    {\"id\" : 9, \"name\" : \"Klein\"},\n",
    "]\n",
    "\n",
    "pares_de_conexoes = [(0, 1), (0, 2), (1, 2), (1, 3), (2, 3), (3, 4), (4, 5), (5, 6), (5, 7), (6, 8), (7, 8), (8, 9)]"
   ]
  },
  {
   "cell_type": "code",
   "execution_count": 3,
   "metadata": {},
   "outputs": [
    {
     "data": {
      "text/plain": [
       "{0: [], 1: [], 2: [], 3: [], 4: [], 5: [], 6: [], 7: [], 8: [], 9: []}"
      ]
     },
     "execution_count": 3,
     "metadata": {},
     "output_type": "execute_result"
    }
   ],
   "source": [
    "amizades = {usuario['id']: [] for usuario in usuarios}\n",
    "amizades                                                                                                                "
   ]
  },
  {
   "cell_type": "code",
   "execution_count": 4,
   "metadata": {},
   "outputs": [
    {
     "data": {
      "text/plain": [
       "{0: [1, 2],\n",
       " 1: [0, 2, 3],\n",
       " 2: [0, 1, 3],\n",
       " 3: [1, 2, 4],\n",
       " 4: [3, 5],\n",
       " 5: [4, 6, 7],\n",
       " 6: [5, 8],\n",
       " 7: [5, 8],\n",
       " 8: [6, 7, 9],\n",
       " 9: [8]}"
      ]
     },
     "execution_count": 4,
     "metadata": {},
     "output_type": "execute_result"
    }
   ],
   "source": [
    "# Lista todas as conexoes de cada usuário\n",
    "\n",
    "for i, j in pares_de_conexoes:\n",
    "    amizades[i].append(j)\n",
    "    amizades[j].append(i)\n",
    "\n",
    "amizades"
   ]
  },
  {
   "cell_type": "code",
   "execution_count": 5,
   "metadata": {},
   "outputs": [
    {
     "data": {
      "text/plain": [
       "2.4"
      ]
     },
     "execution_count": 5,
     "metadata": {},
     "output_type": "execute_result"
    }
   ],
   "source": [
    "# Conta quantas conexões existem na rede\n",
    "\n",
    "def numero_de_amigos(usuario):\n",
    "    usuario_id = usuario['id']\n",
    "    friends_ids = amizades[usuario_id]\n",
    "    return len(friends_ids)\n",
    "\n",
    "total_de_conexoes = sum(numero_de_amigos(usuario)\n",
    "                        for usuario in usuarios)\n",
    "\n",
    "# Calcula média de conexões por usuário\n",
    "\n",
    "num_de_usuarios = len(usuarios)\n",
    "media_de_amizades = total_de_conexoes / num_de_usuarios\n",
    "media_de_amizades"
   ]
  },
  {
   "cell_type": "code",
   "execution_count": 6,
   "metadata": {},
   "outputs": [
    {
     "data": {
      "text/plain": [
       "[(1, 3),\n",
       " (2, 3),\n",
       " (3, 3),\n",
       " (5, 3),\n",
       " (8, 3),\n",
       " (0, 2),\n",
       " (4, 2),\n",
       " (6, 2),\n",
       " (7, 2),\n",
       " (9, 1)]"
      ]
     },
     "execution_count": 6,
     "metadata": {},
     "output_type": "execute_result"
    }
   ],
   "source": [
    "# Encontra o usuário com mais conexões\n",
    "\n",
    "numero_de_amigos_por_id = [(usuario[\"id\"], numero_de_amigos(usuario))\n",
    "                            for usuario in usuarios]\n",
    "\n",
    "numero_de_amigos_por_id.sort(key = lambda id_e_amigos: id_e_amigos[1], reverse = True)\n",
    "numero_de_amigos_por_id"
   ]
  },
  {
   "cell_type": "code",
   "execution_count": 7,
   "metadata": {},
   "outputs": [
    {
     "name": "stdout",
     "output_type": "stream",
     "text": [
      "[0, 2, 3]\n",
      "[0, 1, 3]\n",
      "[0, 2, 3, 0, 1, 3]\n"
     ]
    }
   ],
   "source": [
    "# Usuários que talvez você conheça\n",
    "\n",
    "def foaf_ids(usuario):\n",
    "    return [foaf_id \n",
    "            for id_conexao in amizades[usuario[\"id\"]]\n",
    "            for foaf_id in amizades[id_conexao]]\n",
    "\n",
    "print(amizades[1])\n",
    "print(amizades[2])\n",
    "\n",
    "print(foaf_ids(usuarios[0]))"
   ]
  },
  {
   "cell_type": "code",
   "execution_count": 8,
   "metadata": {},
   "outputs": [
    {
     "name": "stdout",
     "output_type": "stream",
     "text": [
      "Counter({0: 2, 5: 1})\n"
     ]
    }
   ],
   "source": [
    "def amigo_do_amigo(usuario):\n",
    "    usuario_id = usuario[\"id\"]\n",
    "    return Counter(\n",
    "        foaf_id\n",
    "        for id_conexao in amizades[usuario_id]\n",
    "        for foaf_id in amizades[id_conexao]\n",
    "        if foaf_id != usuario_id and foaf_id not in amizades[usuario_id]\n",
    "    )\n",
    "\n",
    "print(amigo_do_amigo(usuarios[3]))"
   ]
  },
  {
   "cell_type": "markdown",
   "metadata": {},
   "source": [
    "## Interesses"
   ]
  },
  {
   "cell_type": "markdown",
   "metadata": {},
   "source": [
    "Esse segundo bloco trata do conceito de assuntos de interesse de cada usuário. No começo temos uma tabela que lista quais os assuntos preferidos de cada usuário. Depois, temos uma série de buscas por padrões e entendimento da base, com conexões entre os usuários, busca de nichos mais interessantes dentre outros."
   ]
  },
  {
   "cell_type": "code",
   "execution_count": 9,
   "metadata": {},
   "outputs": [],
   "source": [
    "# Cria uma separação por interesses para uma recomendação mais precisa\n",
    "\n",
    "interesses = [\n",
    "    (0, \"Hadoop\"), (0, \"Big Data\"), (0, \"HBase\"), (0, \"Java\"),\n",
    "    (0, \"Spark\"), (0, \"Storm\"), (0, \"Cassandra\"),\n",
    "    (1, \"NoSQL\"), (1, \"MongoDB\"), (1, \"Cassandra\"), (1, \"HBase\"),\n",
    "    (1, \"Postgres\"), (2, \"Python\"), (2, \"scikit-learn\"), (2, \"scipy\"),\n",
    "    (2, \"numpy\"), (2, \"statsmodel\"), (2, \"pandas\"), (3, \"R\"), (3, \"Python\"),\n",
    "    (3, \"statistics\"), (3, \"regression\"), (3, \"probability\"),\n",
    "    (4, \"machine learning\"), (4, \"regression\"), (4, \"decision trees\"),\n",
    "    (4, \"libsvm\"), (5, \"Python\"), (5, \"R\"), (5, \"Java\"), (5, \"C++\"),\n",
    "    (5, \"Haskell\"), (5, \"programming languages\"), (6, \"statistics\"),\n",
    "    (6, \"probability\"), (6, \"mathematics\"), (6, \"theory\"),\n",
    "    (7, \"machine learning\"), (7, \"scikit-learn\"), (7, \"Mahout\"),\n",
    "    (7, \"neural networks\"), (8, \"neural networks\"), (8, \"deep learning\"),\n",
    "    (8, \"Big Data\"), (8, \"artificial inteligence\"), (9, \"Hadoop\"),\n",
    "    (9, \"Java\"), (9, \"MapReduce\"), (9, \"Big Data\")\n",
    "]"
   ]
  },
  {
   "cell_type": "code",
   "execution_count": 10,
   "metadata": {},
   "outputs": [
    {
     "data": {
      "text/plain": [
       "defaultdict(list,\n",
       "            {'Hadoop': [0, 9],\n",
       "             'Big Data': [0, 8, 9],\n",
       "             'HBase': [0, 1],\n",
       "             'Java': [0, 5, 9],\n",
       "             'Spark': [0],\n",
       "             'Storm': [0],\n",
       "             'Cassandra': [0, 1],\n",
       "             'NoSQL': [1],\n",
       "             'MongoDB': [1],\n",
       "             'Postgres': [1],\n",
       "             'Python': [2, 3, 5],\n",
       "             'scikit-learn': [2, 7],\n",
       "             'scipy': [2],\n",
       "             'numpy': [2],\n",
       "             'statsmodel': [2],\n",
       "             'pandas': [2],\n",
       "             'R': [3, 5],\n",
       "             'statistics': [3, 6],\n",
       "             'regression': [3, 4],\n",
       "             'probability': [3, 6],\n",
       "             'machine learning': [4, 7],\n",
       "             'decision trees': [4],\n",
       "             'libsvm': [4],\n",
       "             'C++': [5],\n",
       "             'Haskell': [5],\n",
       "             'programming languages': [5],\n",
       "             'mathematics': [6],\n",
       "             'theory': [6],\n",
       "             'Mahout': [7],\n",
       "             'neural networks': [7, 8],\n",
       "             'deep learning': [8],\n",
       "             'artificial inteligence': [8],\n",
       "             'MapReduce': [9]})"
      ]
     },
     "execution_count": 10,
     "metadata": {},
     "output_type": "execute_result"
    }
   ],
   "source": [
    "def cientistas_de_dados_que_gostam(assunto):\n",
    "    return[id_usuario\n",
    "           for id_usuario, interesse_do_usuario in interesses\n",
    "           if interesse_do_usuario == assunto]\n",
    "\n",
    "users_ids_por_interesse = defaultdict(list)\n",
    "\n",
    "for id_usuario, interesse in interesses:\n",
    "    users_ids_por_interesse[interesse].append(id_usuario)\n",
    "\n",
    "users_ids_por_interesse"
   ]
  },
  {
   "cell_type": "code",
   "execution_count": 11,
   "metadata": {},
   "outputs": [
    {
     "data": {
      "text/plain": [
       "defaultdict(list,\n",
       "            {0: ['Hadoop',\n",
       "              'Big Data',\n",
       "              'HBase',\n",
       "              'Java',\n",
       "              'Spark',\n",
       "              'Storm',\n",
       "              'Cassandra'],\n",
       "             1: ['NoSQL', 'MongoDB', 'Cassandra', 'HBase', 'Postgres'],\n",
       "             2: ['Python',\n",
       "              'scikit-learn',\n",
       "              'scipy',\n",
       "              'numpy',\n",
       "              'statsmodel',\n",
       "              'pandas'],\n",
       "             3: ['R', 'Python', 'statistics', 'regression', 'probability'],\n",
       "             4: ['machine learning', 'regression', 'decision trees', 'libsvm'],\n",
       "             5: ['Python',\n",
       "              'R',\n",
       "              'Java',\n",
       "              'C++',\n",
       "              'Haskell',\n",
       "              'programming languages'],\n",
       "             6: ['statistics', 'probability', 'mathematics', 'theory'],\n",
       "             7: ['machine learning',\n",
       "              'scikit-learn',\n",
       "              'Mahout',\n",
       "              'neural networks'],\n",
       "             8: ['neural networks',\n",
       "              'deep learning',\n",
       "              'Big Data',\n",
       "              'artificial inteligence'],\n",
       "             9: ['Hadoop', 'Java', 'MapReduce', 'Big Data']})"
      ]
     },
     "execution_count": 11,
     "metadata": {},
     "output_type": "execute_result"
    }
   ],
   "source": [
    "interesses_por_id_usuario = defaultdict(list)\n",
    "\n",
    "for id_usuario, interesse in interesses:\n",
    "    interesses_por_id_usuario[id_usuario].append(interesse)\n",
    "\n",
    "interesses_por_id_usuario"
   ]
  },
  {
   "cell_type": "code",
   "execution_count": 12,
   "metadata": {},
   "outputs": [
    {
     "data": {
      "text/plain": [
       "Counter({9: 3, 1: 2, 8: 1, 5: 1})"
      ]
     },
     "execution_count": 12,
     "metadata": {},
     "output_type": "execute_result"
    }
   ],
   "source": [
    "def assuntos_mais_comuns(user):\n",
    "    return Counter(\n",
    "        interesse_por_id_usuario\n",
    "        for interesse in interesses_por_id_usuario[user['id']]\n",
    "        for interesse_por_id_usuario in users_ids_por_interesse[interesse]\n",
    "        if interesse_por_id_usuario != user['id']\n",
    "    )\n",
    "\n",
    "assuntos_mais_comuns(usuarios[0])"
   ]
  },
  {
   "cell_type": "code",
   "execution_count": 13,
   "metadata": {},
   "outputs": [
    {
     "data": {
      "text/plain": [
       "Counter({'big': 3,\n",
       "         'data': 3,\n",
       "         'java': 3,\n",
       "         'python': 3,\n",
       "         'learning': 3,\n",
       "         'hadoop': 2,\n",
       "         'hbase': 2,\n",
       "         'cassandra': 2,\n",
       "         'scikit-learn': 2,\n",
       "         'r': 2,\n",
       "         'statistics': 2,\n",
       "         'regression': 2,\n",
       "         'probability': 2,\n",
       "         'machine': 2,\n",
       "         'neural': 2,\n",
       "         'networks': 2,\n",
       "         'spark': 1,\n",
       "         'storm': 1,\n",
       "         'nosql': 1,\n",
       "         'mongodb': 1,\n",
       "         'postgres': 1,\n",
       "         'scipy': 1,\n",
       "         'numpy': 1,\n",
       "         'statsmodel': 1,\n",
       "         'pandas': 1,\n",
       "         'decision': 1,\n",
       "         'trees': 1,\n",
       "         'libsvm': 1,\n",
       "         'c++': 1,\n",
       "         'haskell': 1,\n",
       "         'programming': 1,\n",
       "         'languages': 1,\n",
       "         'mathematics': 1,\n",
       "         'theory': 1,\n",
       "         'mahout': 1,\n",
       "         'deep': 1,\n",
       "         'artificial': 1,\n",
       "         'inteligence': 1,\n",
       "         'mapreduce': 1})"
      ]
     },
     "execution_count": 13,
     "metadata": {},
     "output_type": "execute_result"
    }
   ],
   "source": [
    "contagem_de_palavras = Counter(palavra \n",
    "                               for user, interesse in interesses\n",
    "                               for palavra in interesse.lower().split())\n",
    "\n",
    "contagem_de_palavras"
   ]
  },
  {
   "cell_type": "markdown",
   "metadata": {},
   "source": [
    "## Salários"
   ]
  },
  {
   "cell_type": "markdown",
   "metadata": {},
   "source": [
    "Este pequeno bloco busca algumas relações entre experiência do usuário e seu salário médio, apontando uma correlação positiva esperada entre as variáveis (usuários com mais experiência tendem a ganhar mais)."
   ]
  },
  {
   "cell_type": "code",
   "execution_count": 14,
   "metadata": {},
   "outputs": [
    {
     "data": {
      "text/plain": [
       "defaultdict(list,\n",
       "            {8.7: [83000],\n",
       "             8.1: [88000],\n",
       "             0.7: [48000],\n",
       "             6: [76000],\n",
       "             6.5: [69000],\n",
       "             7.5: [76000],\n",
       "             2.5: [60000],\n",
       "             10: [83000],\n",
       "             1.9: [48000],\n",
       "             4.2: [63000]})"
      ]
     },
     "execution_count": 14,
     "metadata": {},
     "output_type": "execute_result"
    }
   ],
   "source": [
    "salario_e_experiencia = [\n",
    "    (83000, 8.7), (88000, 8.1),\n",
    "    (48000, 0.7), (76000, 6),\n",
    "    (69000, 6.5), (76000, 7.5),\n",
    "    (60000, 2.5), (83000, 10),\n",
    "    (48000, 1.9), (63000, 4.2)]\n",
    "\n",
    "salario_por_experiencia = defaultdict(list)\n",
    "\n",
    "for salario, experiencia in salario_e_experiencia:\n",
    "    salario_por_experiencia[experiencia].append(salario)\n",
    "\n",
    "salario_por_experiencia"
   ]
  },
  {
   "cell_type": "code",
   "execution_count": 15,
   "metadata": {},
   "outputs": [
    {
     "data": {
      "text/plain": [
       "{8.7: 83000.0,\n",
       " 8.1: 88000.0,\n",
       " 0.7: 48000.0,\n",
       " 6: 76000.0,\n",
       " 6.5: 69000.0,\n",
       " 7.5: 76000.0,\n",
       " 2.5: 60000.0,\n",
       " 10: 83000.0,\n",
       " 1.9: 48000.0,\n",
       " 4.2: 63000.0}"
      ]
     },
     "execution_count": 15,
     "metadata": {},
     "output_type": "execute_result"
    }
   ],
   "source": [
    "media_salario_por_experiencia = {experiencia : sum(salarios) / len(salarios)\n",
    "                                 for experiencia, salarios in salario_por_experiencia.items()}\n",
    "\n",
    "media_salario_por_experiencia"
   ]
  },
  {
   "cell_type": "code",
   "execution_count": 16,
   "metadata": {},
   "outputs": [
    {
     "data": {
      "text/plain": [
       "{'Sênior': 79166.66666666667, 'Júnior': 48000.0, 'Pleno': 61500.0}"
      ]
     },
     "execution_count": 16,
     "metadata": {},
     "output_type": "execute_result"
    }
   ],
   "source": [
    "def agrupa_salarios(experiencia):\n",
    "    if experiencia < 2:\n",
    "        return \"Júnior\"\n",
    "    elif experiencia < 5:\n",
    "        return \"Pleno\"\n",
    "    else:\n",
    "        return \"Sênior\"\n",
    "    \n",
    "salario_por_experiencia_agrupada = defaultdict(list)\n",
    "\n",
    "for salario, experiencia in salario_e_experiencia:\n",
    "    grupo = agrupa_salarios(experiencia)\n",
    "    salario_por_experiencia_agrupada[grupo].append(salario)\n",
    "\n",
    "salario_medio_agrupado = {\n",
    "    experiencia_agrupada : sum(salario) / len(salario)\n",
    "    for experiencia_agrupada, salario in salario_por_experiencia_agrupada.items()\n",
    "}\n",
    "\n",
    "salario_medio_agrupado"
   ]
  },
  {
   "cell_type": "markdown",
   "metadata": {},
   "source": [
    "## Contas pagas"
   ]
  },
  {
   "cell_type": "markdown",
   "metadata": {},
   "source": [
    "Esse último bloco cria uma correlação semi-arbitrária sobre a relação entre as variáveis \"tempo de experiência\" e \"contas pagas\". Essa relação não foi calculada, mas intuida a partir da observação direta dos dados. Ou seja, vê-se um padrão nas informações que será universalizado. Naturalmente essa abordagem não é a ideal, nem sequer é positiva, mas é uma abordagem preliminar sobre um problema que será estudado com mais detalhes futuramente."
   ]
  },
  {
   "cell_type": "code",
   "execution_count": 17,
   "metadata": {},
   "outputs": [],
   "source": [
    "contas_pagas = {\n",
    "    0.7 : \"pago\",\n",
    "    1.9 : \"não pago\",\n",
    "    2.5 : \"pago\",\n",
    "    4.2 : \"não pago\",\n",
    "    6.0 : \"não pago\",\n",
    "    6.5 : \"não pago\",\n",
    "    7.5 : \"não pago\",\n",
    "    8.1 : \"não pago\",\n",
    "    8.7 : \"pago\",\n",
    "    10.0 : \"pago\"\n",
    "}"
   ]
  },
  {
   "cell_type": "code",
   "execution_count": 18,
   "metadata": {},
   "outputs": [],
   "source": [
    "def preve_pagamento(tempo_de_experiencia):\n",
    "    if tempo_de_experiencia < 3:\n",
    "        return \"pago\"\n",
    "    elif tempo_de_experiencia < 8.5:\n",
    "        return \"não pago\"\n",
    "    else:\n",
    "        return \"pago\""
   ]
  }
 ],
 "metadata": {
  "kernelspec": {
   "display_name": "Python 3",
   "language": "python",
   "name": "python3"
  },
  "language_info": {
   "codemirror_mode": {
    "name": "ipython",
    "version": 3
   },
   "file_extension": ".py",
   "mimetype": "text/x-python",
   "name": "python",
   "nbconvert_exporter": "python",
   "pygments_lexer": "ipython3",
   "version": "3.10.12"
  }
 },
 "nbformat": 4,
 "nbformat_minor": 2
}
