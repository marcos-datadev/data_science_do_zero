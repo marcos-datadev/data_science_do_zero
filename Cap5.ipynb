{
 "cells": [
  {
   "cell_type": "markdown",
   "metadata": {},
   "source": [
    "# Capítulo 5 - Estatística"
   ]
  },
  {
   "cell_type": "code",
   "execution_count": 1,
   "metadata": {},
   "outputs": [],
   "source": [
    "import matplotlib.pyplot as plt\n",
    "import math\n",
    "from collections import Counter\n",
    "from typing import List"
   ]
  },
  {
   "cell_type": "markdown",
   "metadata": {},
   "source": [
    "## Descrevendo um conjunto de dados"
   ]
  },
  {
   "cell_type": "code",
   "execution_count": 2,
   "metadata": {},
   "outputs": [
    {
     "data": {
      "image/png": "[encoded data removed]",
      "text/plain": [
       "<Figure size 640x480 with 1 Axes>"
      ]
     },
     "metadata": {},
     "output_type": "display_data"
    }
   ],
   "source": [
    "num_amigos = [100.0,49,41,40,25,21,21,19,19,18,18,16,15,15,15,15,14,14,13,13,13,13,12,12,11,10,10,10,10,10,10,10,10,10,10,10,10,10,10,10,9,9,9,9,9,9,9,9,9,9,9,9,9,9,9,9,9,9,8,8,8,8,8,8,8,8,8,8,8,8,8,7,7,7,7,7,7,7,7,7,7,7,7,7,7,7,6,6,6,6,6,6,6,6,6,6,6,6,6,6,6,6,6,6,6,6,6,6,5,5,5,5,5,5,5,5,5,5,5,5,5,5,5,5,5,4,4,4,4,4,4,4,4,4,4,4,4,4,4,4,4,4,4,4,4,3,3,3,3,3,3,3,3,3,3,3,3,3,3,3,3,3,3,3,3,2,2,2,2,2,2,2,2,2,2,2,2,2,2,2,2,2,1,1,1,1,1,1,1,1,1,1,1,1,1,1,1,1,1,1,1,1,1,1]\n",
    "\n",
    "contagem_amigos = Counter(num_amigos)\n",
    "xs = range(101)\n",
    "ys = [contagem_amigos[x] for x in xs]\n",
    "plt.bar(xs, ys)\n",
    "plt.axis([0, 101, 0, 25])\n",
    "plt.title(\"Histograma do número de amigos\")\n",
    "plt.xlabel(\"Num de amigos\")\n",
    "plt.ylabel(\"Num de pessoas\")\n",
    "plt.show()"
   ]
  },
  {
   "cell_type": "code",
   "execution_count": 3,
   "metadata": {},
   "outputs": [
    {
     "name": "stdout",
     "output_type": "stream",
     "text": [
      "204\n",
      "100.0\n",
      "1\n"
     ]
    }
   ],
   "source": [
    "num_pontos = len(num_amigos)\n",
    "maior_valor = max(num_amigos)\n",
    "menor_valor = min(num_amigos)\n",
    "print(f\"{num_pontos}\\n{maior_valor}\\n{menor_valor}\")"
   ]
  },
  {
   "cell_type": "markdown",
   "metadata": {},
   "source": [
    "## Medidas de tendência central"
   ]
  },
  {
   "cell_type": "code",
   "execution_count": 4,
   "metadata": {},
   "outputs": [
    {
     "data": {
      "text/plain": [
       "7.333333333333333"
      ]
     },
     "execution_count": 4,
     "metadata": {},
     "output_type": "execute_result"
    }
   ],
   "source": [
    "def media(xs: List[float]) -> float:\n",
    "    return sum(xs) / len(xs)\n",
    "\n",
    "media(num_amigos)"
   ]
  },
  {
   "cell_type": "code",
   "execution_count": 5,
   "metadata": {},
   "outputs": [
    {
     "name": "stdout",
     "output_type": "stream",
     "text": [
      "True\n",
      "True\n",
      "6.0\n"
     ]
    }
   ],
   "source": [
    "def _mediana_impar(xs: List[float]) -> float:\n",
    "    return sorted(xs)[len(xs) // 2]\n",
    "\n",
    "def _mediana_par(xs: List[float]) -> float:\n",
    "    sorted_xs = sorted(xs)\n",
    "    ponto_medio = len(xs) // 2\n",
    "    return (sorted_xs[ponto_medio - 1] + sorted_xs[ponto_medio]) / 2\n",
    "\n",
    "def mediana(v: List[float]) -> float:\n",
    "    return _mediana_par(v) if len(v) % 2 == 0 else _mediana_impar(v)\n",
    "\n",
    "print(mediana([1, 10, 2, 9, 5]) == 5)\n",
    "print(mediana([1, 9, 2, 10]) == ((2 + 9) / 2))\n",
    "print(mediana((num_amigos)))"
   ]
  },
  {
   "cell_type": "code",
   "execution_count": 6,
   "metadata": {},
   "outputs": [
    {
     "name": "stdout",
     "output_type": "stream",
     "text": [
      "True\n",
      "True\n",
      "True\n",
      "True\n"
     ]
    }
   ],
   "source": [
    "def quantil(xs: List[float], p: float) -> float:\n",
    "    p_index = int(p * len(xs))\n",
    "    return sorted(xs)[p_index]\n",
    "\n",
    "print(quantil(num_amigos, 0.1) == 1)\n",
    "print(quantil(num_amigos, 0.25) == 3)\n",
    "print(quantil(num_amigos, 0.75) == 9)\n",
    "print(quantil(num_amigos, 0.90) == 13)"
   ]
  },
  {
   "cell_type": "code",
   "execution_count": 7,
   "metadata": {},
   "outputs": [
    {
     "data": {
      "text/plain": [
       "{1, 6}"
      ]
     },
     "execution_count": 7,
     "metadata": {},
     "output_type": "execute_result"
    }
   ],
   "source": [
    "def moda(x: List[float]) -> float:\n",
    "    contagem = Counter(x)\n",
    "    contagem_maxima = max(contagem.values())\n",
    "    return [x_i for x_i, contagem in contagem.items() if contagem == contagem_maxima]\n",
    "\n",
    "set(moda(num_amigos))"
   ]
  },
  {
   "cell_type": "markdown",
   "metadata": {},
   "source": [
    "## Dispersão"
   ]
  },
  {
   "cell_type": "code",
   "execution_count": 8,
   "metadata": {},
   "outputs": [
    {
     "data": {
      "text/plain": [
       "99.0"
      ]
     },
     "execution_count": 8,
     "metadata": {},
     "output_type": "execute_result"
    }
   ],
   "source": [
    "def dispersao(xs: List[float]) -> float:\n",
    "    return max(xs) - min(xs)\n",
    "\n",
    "dispersao(num_amigos)"
   ]
  },
  {
   "cell_type": "code",
   "execution_count": 9,
   "metadata": {},
   "outputs": [
    {
     "name": "stdout",
     "output_type": "stream",
     "text": [
      "True\n"
     ]
    }
   ],
   "source": [
    "# Importado do capítulo de algebra linear\n",
    "\n",
    "Vector = List[float]\n",
    "\n",
    "def dot(v: Vector, w: Vector) -> float:\n",
    "    assert len(v) == len(w), \"Vetores devem ter o mesmo tamanho\"\n",
    "    return sum(v_i * w_i for v_i, w_i in zip(v, w))\n",
    "\n",
    "def sum_of_squares(v: Vector) -> float:\n",
    "    return dot(v, v)\n",
    "\n",
    "def de_media(xs: List[float]) -> float:\n",
    "    x_bar = media(xs)\n",
    "    return [x - x_bar for x in xs]\n",
    "\n",
    "def variancia(xs: List[float]) -> float:\n",
    "    assert len(xs) >= 2, \"Variância requer ao menos dois elementos\"\n",
    "    n = len(xs)\n",
    "    desvio = de_media(xs)\n",
    "    return sum_of_squares(desvio) / (n - 1)\n",
    "\n",
    "print(81.54 < variancia(num_amigos) < 81.55)"
   ]
  },
  {
   "cell_type": "code",
   "execution_count": 10,
   "metadata": {},
   "outputs": [
    {
     "data": {
      "text/plain": [
       "True"
      ]
     },
     "execution_count": 10,
     "metadata": {},
     "output_type": "execute_result"
    }
   ],
   "source": [
    "def desvio_padrao(xs: List[float]) -> float:\n",
    "    return math.sqrt(variancia(xs))\n",
    "\n",
    "9.02 < desvio_padrao(num_amigos) < 9.04"
   ]
  },
  {
   "cell_type": "code",
   "execution_count": 11,
   "metadata": {},
   "outputs": [
    {
     "data": {
      "text/plain": [
       "True"
      ]
     },
     "execution_count": 11,
     "metadata": {},
     "output_type": "execute_result"
    }
   ],
   "source": [
    "def variancia_interquartil(xs: List[float]) -> float:\n",
    "    return quantil(xs, 0.75) - quantil(xs, 0.25)\n",
    "\n",
    "variancia_interquartil(num_amigos) == 6"
   ]
  },
  {
   "cell_type": "markdown",
   "metadata": {},
   "source": [
    "## Correlação"
   ]
  },
  {
   "cell_type": "code",
   "execution_count": null,
   "metadata": {},
   "outputs": [],
   "source": [
    "def covariancia(xs: List[float], ys: List[float]) -> float:\n",
    "    assert len(xs) == len(ys), \"xs e ys devem ter o mesmo número de elementos\"\n",
    "    return dot(de_media(xs), de_media(ys)) / (len(xs) - 1)"
   ]
  },
  {
   "cell_type": "code",
   "execution_count": 12,
   "metadata": {},
   "outputs": [],
   "source": [
    "def correlacao(xs: List[float], ys: List[float]) -> float:\n",
    "    desvio_x = desvio_padrao(xs)\n",
    "    desvio_y = desvio_padrao(ys)\n",
    "    if desvio_x > 0 and desvio_y > 0:\n",
    "        return covariancia(xs, ys) / desvio_x / desvio_y\n",
    "    else:\n",
    "        return 0"
   ]
  }
 ],
 "metadata": {
  "kernelspec": {
   "display_name": "Python 3",
   "language": "python",
   "name": "python3"
  },
  "language_info": {
   "codemirror_mode": {
    "name": "ipython",
    "version": 3
   },
   "file_extension": ".py",
   "mimetype": "text/x-python",
   "name": "python",
   "nbconvert_exporter": "python",
   "pygments_lexer": "ipython3",
   "version": "3.10.12"
  }
 },
 "nbformat": 4,
 "nbformat_minor": 2
}
